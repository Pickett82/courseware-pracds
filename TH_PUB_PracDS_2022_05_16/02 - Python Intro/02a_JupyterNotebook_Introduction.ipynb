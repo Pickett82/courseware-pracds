{
 "cells": [
  {
   "cell_type": "markdown",
   "metadata": {},
   "source": [
    "# Jupyter Notebook: Example\n"
   ]
  },
  {
   "cell_type": "markdown",
   "metadata": {},
   "source": [
    "Jupyter notebook must be started before opening any notebook file.\n",
    "\n",
    "The first window is a file browser... You can use this to create a new notebook or find a file..."
   ]
  },
  {
   "cell_type": "markdown",
   "metadata": {},
   "source": [
    "## What is a Notebook?"
   ]
  },
  {
   "cell_type": "markdown",
   "metadata": {},
   "source": [
    "* spreadseets \n",
    "    * dozens of formula\n",
    "    * excel\n",
    "    * show values\n",
    "        * emphasis: **values**\n",
    "    * hidding formula\n",
    "    * many cols, many rows\n",
    "* programming editors\n",
    "    * min 1000s of lines of code\n",
    "    * visual studio code\n",
    "    * src = source code\n",
    "    * just code (, formula)\n",
    "        * emphasis: **code**\n",
    "    * no values\n",
    "        * understanding the structure \n",
    "            * & value of a variable requres *reasoning*\n",
    "* notebooks\n",
    "    * max 100s of lines of code\n",
    "    * jupyter\n",
    "    * values and code shown\n",
    "    * show documentation \n",
    "        * emphasis: **documentation**\n",
    "    * vast majority of \"area\" of page is spent in visuals/docs"
   ]
  },
  {
   "cell_type": "markdown",
   "metadata": {},
   "source": [
    "----\n",
    "\n",
    "# Example Report Syntax\n",
    "\n",
    "---"
   ]
  },
  {
   "cell_type": "markdown",
   "metadata": {},
   "source": [
    "## My Report\n",
    "### Subheading\n",
    "\n",
    "* bullet 1\n",
    "* bullet 2\n",
    "\n",
    "```python\n",
    "print(code)\n",
    "```\n",
    "\n",
    "* formulae: $\\hat{y} = \\hat{f}(x) = 2x^2 + 1$\n",
    "    * where $x \\in X; y \\in F(X)$\n",
    "* **bold**\n",
    "* *italic*\n",
    "\n",
    "![alternative text](http://localhost:8888/static/base/images/logo.png?v=641991992878ee24c6f3826e81054a0f)\n",
    "\n",
    "\n",
    "Reference to some `code` text.\n",
    "\n",
    "> be the change you wish to see in the world\n",
    "> -- Ghandi\n",
    "\n"
   ]
  },
  {
   "cell_type": "code",
   "execution_count": 4,
   "metadata": {
    "scrolled": true
   },
   "outputs": [
    {
     "data": {
      "text/plain": [
       "<matplotlib.axes._subplots.AxesSubplot at 0x21dfe0fb280>"
      ]
     },
     "execution_count": 4,
     "metadata": {},
     "output_type": "execute_result"
    },
    {
     "data": {
      "image/png": "[encoded data removed]",
      "text/plain": [
       "<Figure size 432x288 with 1 Axes>"
      ]
     },
     "metadata": {
      "needs_background": "light"
     },
     "output_type": "display_data"
    }
   ],
   "source": [
    "import seaborn as sns\n",
    "\n",
    "ids    = [1, 2, 3]\n",
    "rating = [-1, 0, 1]\n",
    "\n",
    "sns.lineplot(x=ids, y=rating)"
   ]
  },
  {
   "cell_type": "markdown",
   "metadata": {},
   "source": [
    "We can see the value of variables easily..."
   ]
  },
  {
   "cell_type": "code",
   "execution_count": 5,
   "metadata": {},
   "outputs": [
    {
     "data": {
      "text/plain": [
       "([1, 2, 3], [-1, 0, 1])"
      ]
     },
     "execution_count": 5,
     "metadata": {},
     "output_type": "execute_result"
    }
   ],
   "source": [
    "ids, rating"
   ]
  },
  {
   "cell_type": "markdown",
   "metadata": {},
   "source": [
    "... we can get python to compute this real-time"
   ]
  },
  {
   "cell_type": "markdown",
   "metadata": {},
   "source": [
    "## How do I use jupyter?"
   ]
  },
  {
   "cell_type": "markdown",
   "metadata": {},
   "source": [
    "* b\n",
    "* m \n",
    "* type text\n",
    "* CTRL+ENTER\n",
    "---\n",
    "\n",
    "* b\n",
    "* type code\n",
    "* CTRL+ENTER\n",
    "---\n",
    "* dd to delete"
   ]
  },
  {
   "cell_type": "markdown",
   "metadata": {},
   "source": [
    "## Exercise (15 min)\n",
    "\n",
    "* in jupyter, browse to the Live folder in teh courseware\n",
    "    * top righthand side, NEW > Python 3\n",
    "    * this creates a new notebook\n",
    "        * click on the name of the notebook at the top \"Untitled\"\n",
    "            * rename \"MyReport\"\n",
    "* create a new notebook, titled \"My Report\"\n",
    "* add some text cells\n",
    "    * headings, bullets, formulae, etc.\n",
    "* add a visual code cell\n",
    "    * copy and paste the one above\n",
    "    * EXTRA: modify the x, y values to make the visual more interesting"
   ]
  },
  {
   "cell_type": "code",
   "execution_count": null,
   "metadata": {},
   "outputs": [],
   "source": []
  }
 ],
 "metadata": {
  "kernelspec": {
   "display_name": "Python 3 (ipykernel)",
   "language": "python",
   "name": "python3"
  },
  "language_info": {
   "codemirror_mode": {
    "name": "ipython",
    "version": 3
   },
   "file_extension": ".py",
   "mimetype": "text/x-python",
   "name": "python",
   "nbconvert_exporter": "python",
   "pygments_lexer": "ipython3",
   "version": "3.9.7"
  }
 },
 "nbformat": 4,
 "nbformat_minor": 4
}
