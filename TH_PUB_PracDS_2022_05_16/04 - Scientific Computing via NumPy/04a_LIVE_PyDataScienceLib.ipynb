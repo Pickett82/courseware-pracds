{
 "cells": [
  {
   "cell_type": "markdown",
   "id": "e2862e81",
   "metadata": {},
   "source": [
    "# An Introduction to Data Manipulation for ML\n"
   ]
  },
  {
   "cell_type": "markdown",
   "id": "ff490fcc",
   "metadata": {},
   "source": [
    "---"
   ]
  },
  {
   "cell_type": "markdown",
   "id": "395a8ea7",
   "metadata": {},
   "source": [
    "Review: importing,"
   ]
  },
  {
   "cell_type": "code",
   "execution_count": 15,
   "id": "d9915213",
   "metadata": {},
   "outputs": [],
   "source": [
    "import statistics as s"
   ]
  },
  {
   "cell_type": "code",
   "execution_count": 16,
   "id": "f665baac",
   "metadata": {},
   "outputs": [
    {
     "data": {
      "text/plain": [
       "2"
      ]
     },
     "execution_count": 16,
     "metadata": {},
     "output_type": "execute_result"
    }
   ],
   "source": [
    "s.mean([1, 2, 3])"
   ]
  },
  {
   "cell_type": "markdown",
   "id": "483ebae3",
   "metadata": {},
   "source": [
    "This is a clearer way of importing functions as you can tell where the library is from."
   ]
  },
  {
   "cell_type": "code",
   "execution_count": 17,
   "id": "fa9729c7",
   "metadata": {},
   "outputs": [],
   "source": [
    "import statistics as stat"
   ]
  },
  {
   "cell_type": "code",
   "execution_count": 18,
   "id": "e1a2e8d4",
   "metadata": {},
   "outputs": [
    {
     "data": {
      "text/plain": [
       "1"
      ]
     },
     "execution_count": 18,
     "metadata": {},
     "output_type": "execute_result"
    }
   ],
   "source": [
    "stat.mode([1, 1, 2])"
   ]
  },
  {
   "cell_type": "markdown",
   "id": "dccb2fd5",
   "metadata": {},
   "source": [
    "## Python Data Science Libraries"
   ]
  },
  {
   "cell_type": "markdown",
   "id": "745ae73a",
   "metadata": {},
   "source": [
    "Python data science libraries have conventional *aliases*."
   ]
  },
  {
   "cell_type": "markdown",
   "id": "6b4dc285",
   "metadata": {},
   "source": [
    "Python data science libraries are extremely fast *additions* to python which add highly efficient data processing tools.\n",
    "\n",
    "Python itself is very slow (`for`, `if`, etc. are slow! as are lists...). These additions build in much faster data structures & operations. "
   ]
  },
  {
   "cell_type": "markdown",
   "id": "6321aa44",
   "metadata": {},
   "source": [
    "### Pandas"
   ]
  },
  {
   "cell_type": "markdown",
   "id": "32242b53",
   "metadata": {},
   "source": [
    "For tabular data, the data structure is called a \"DataFrame\" (aka. Table), "
   ]
  },
  {
   "cell_type": "code",
   "execution_count": 8,
   "id": "819f25c6",
   "metadata": {},
   "outputs": [],
   "source": [
    "import pandas as pd"
   ]
  },
  {
   "cell_type": "code",
   "execution_count": 19,
   "id": "a28a8db5",
   "metadata": {},
   "outputs": [],
   "source": [
    "film_db = {\n",
    "    'ratings': [7, 8, 9],\n",
    "    'sweets': [12, 15, 29]\n",
    "}"
   ]
  },
  {
   "cell_type": "markdown",
   "id": "ba95d25e",
   "metadata": {},
   "source": [
    "A generic variable name `df` is often used, "
   ]
  },
  {
   "cell_type": "code",
   "execution_count": 21,
   "id": "0e5c48be",
   "metadata": {},
   "outputs": [],
   "source": [
    "df = pd.DataFrame(film_db)"
   ]
  },
  {
   "cell_type": "code",
   "execution_count": 22,
   "id": "2c3f040a",
   "metadata": {},
   "outputs": [
    {
     "data": {
      "text/html": [
       "<div>\n",
       "<style scoped>\n",
       "    .dataframe tbody tr th:only-of-type {\n",
       "        vertical-align: middle;\n",
       "    }\n",
       "\n",
       "    .dataframe tbody tr th {\n",
       "        vertical-align: top;\n",
       "    }\n",
       "\n",
       "    .dataframe thead th {\n",
       "        text-align: right;\n",
       "    }\n",
       "</style>\n",
       "<table border=\"1\" class=\"dataframe\">\n",
       "  <thead>\n",
       "    <tr style=\"text-align: right;\">\n",
       "      <th></th>\n",
       "      <th>ratings</th>\n",
       "      <th>sweets</th>\n",
       "    </tr>\n",
       "  </thead>\n",
       "  <tbody>\n",
       "    <tr>\n",
       "      <th>0</th>\n",
       "      <td>7</td>\n",
       "      <td>12</td>\n",
       "    </tr>\n",
       "    <tr>\n",
       "      <th>1</th>\n",
       "      <td>8</td>\n",
       "      <td>15</td>\n",
       "    </tr>\n",
       "    <tr>\n",
       "      <th>2</th>\n",
       "      <td>9</td>\n",
       "      <td>29</td>\n",
       "    </tr>\n",
       "  </tbody>\n",
       "</table>\n",
       "</div>"
      ],
      "text/plain": [
       "   ratings  sweets\n",
       "0        7      12\n",
       "1        8      15\n",
       "2        9      29"
      ]
     },
     "execution_count": 22,
     "metadata": {},
     "output_type": "execute_result"
    }
   ],
   "source": [
    "df"
   ]
  },
  {
   "cell_type": "markdown",
   "id": "e40f67fd",
   "metadata": {},
   "source": [
    "**Q. Define your own dataframe called `health`, a healthcare dataset with `HeartRate` and `BloodPressure` columns.**"
   ]
  },
  {
   "cell_type": "markdown",
   "id": "7086f527",
   "metadata": {},
   "source": [
    "### NumPy"
   ]
  },
  {
   "cell_type": "markdown",
   "id": "32bc87b9",
   "metadata": {},
   "source": [
    "Pandas uses numpy. Numpy provides a fast \"list\" data structure, called an array. "
   ]
  },
  {
   "cell_type": "code",
   "execution_count": 23,
   "id": "d9a3a437",
   "metadata": {},
   "outputs": [],
   "source": [
    "y_like = [1, 1, 0, 1, 0, 0]"
   ]
  },
  {
   "cell_type": "code",
   "execution_count": 10,
   "id": "74dde862",
   "metadata": {},
   "outputs": [],
   "source": [
    "import numpy as np"
   ]
  },
  {
   "cell_type": "code",
   "execution_count": 25,
   "id": "dff060d1",
   "metadata": {},
   "outputs": [],
   "source": [
    "array = np.array(y_like)"
   ]
  },
  {
   "cell_type": "code",
   "execution_count": 29,
   "id": "a8278051",
   "metadata": {},
   "outputs": [
    {
     "data": {
      "text/plain": [
       "array([1, 1, 0, 1, 0, 0])"
      ]
     },
     "execution_count": 29,
     "metadata": {},
     "output_type": "execute_result"
    }
   ],
   "source": [
    "array # much faster than python's"
   ]
  },
  {
   "cell_type": "code",
   "execution_count": 28,
   "id": "dc3ebe21",
   "metadata": {},
   "outputs": [
    {
     "data": {
      "text/plain": [
       "0.5"
      ]
     },
     "execution_count": 28,
     "metadata": {},
     "output_type": "execute_result"
    }
   ],
   "source": [
    "array.mean() # much faster than python's"
   ]
  },
  {
   "cell_type": "markdown",
   "id": "f4d5b2c4",
   "metadata": {},
   "source": [
    "### Seaborn"
   ]
  },
  {
   "cell_type": "markdown",
   "id": "e91b10eb",
   "metadata": {},
   "source": [
    "Seaborn is a simplified charting/plotting library,"
   ]
  },
  {
   "cell_type": "code",
   "execution_count": 32,
   "id": "73a99e7b",
   "metadata": {},
   "outputs": [],
   "source": [
    "# draw the plots in the notebook\n",
    "%matplotlib inline  \n",
    "\n",
    "import seaborn as sns"
   ]
  },
  {
   "cell_type": "code",
   "execution_count": 35,
   "id": "f08b8e49",
   "metadata": {},
   "outputs": [
    {
     "data": {
      "text/plain": [
       "<AxesSubplot:>"
      ]
     },
     "execution_count": 35,
     "metadata": {},
     "output_type": "execute_result"
    },
    {
     "data": {
      "image/png": "[encoded data removed]",
      "text/plain": [
       "<Figure size 432x288 with 1 Axes>"
      ]
     },
     "metadata": {
      "needs_background": "light"
     },
     "output_type": "display_data"
    }
   ],
   "source": [
    "sns.lineplot(x=[1, 2.2, 3], y=[3, 4, 5])"
   ]
  },
  {
   "cell_type": "markdown",
   "id": "b27772f8",
   "metadata": {},
   "source": [
    "**Q. with your health data, use `sns.scatterplot(x=.., y..)` to draw. Where `x=health['HeartRate']` and `y=health['BloodPressure']`.**"
   ]
  },
  {
   "cell_type": "markdown",
   "id": "ba9a3c39",
   "metadata": {},
   "source": [
    "## Sci-Kit Learn"
   ]
  },
  {
   "cell_type": "markdown",
   "id": "d3f4f04c",
   "metadata": {},
   "source": [
    "`sklean` is the mainstream simple machine learning library for python. As it is a collection of library, you almost always use `from sklearn import AMoreSpecificLibrary`. "
   ]
  },
  {
   "cell_type": "code",
   "execution_count": 36,
   "id": "7186c58a",
   "metadata": {},
   "outputs": [],
   "source": [
    "from sklearn.linear_model import LinearRegression"
   ]
  },
  {
   "cell_type": "code",
   "execution_count": 37,
   "id": "72757b5b",
   "metadata": {},
   "outputs": [
    {
     "data": {
      "text/html": [
       "<div>\n",
       "<style scoped>\n",
       "    .dataframe tbody tr th:only-of-type {\n",
       "        vertical-align: middle;\n",
       "    }\n",
       "\n",
       "    .dataframe tbody tr th {\n",
       "        vertical-align: top;\n",
       "    }\n",
       "\n",
       "    .dataframe thead th {\n",
       "        text-align: right;\n",
       "    }\n",
       "</style>\n",
       "<table border=\"1\" class=\"dataframe\">\n",
       "  <thead>\n",
       "    <tr style=\"text-align: right;\">\n",
       "      <th></th>\n",
       "      <th>ratings</th>\n",
       "      <th>sweets</th>\n",
       "    </tr>\n",
       "  </thead>\n",
       "  <tbody>\n",
       "    <tr>\n",
       "      <th>0</th>\n",
       "      <td>7</td>\n",
       "      <td>12</td>\n",
       "    </tr>\n",
       "    <tr>\n",
       "      <th>1</th>\n",
       "      <td>8</td>\n",
       "      <td>15</td>\n",
       "    </tr>\n",
       "    <tr>\n",
       "      <th>2</th>\n",
       "      <td>9</td>\n",
       "      <td>29</td>\n",
       "    </tr>\n",
       "  </tbody>\n",
       "</table>\n",
       "</div>"
      ],
      "text/plain": [
       "   ratings  sweets\n",
       "0        7      12\n",
       "1        8      15\n",
       "2        9      29"
      ]
     },
     "execution_count": 37,
     "metadata": {},
     "output_type": "execute_result"
    }
   ],
   "source": [
    "df"
   ]
  },
  {
   "cell_type": "markdown",
   "id": "03e5c221",
   "metadata": {},
   "source": [
    "All the Machine \"Learning\" happens in this line, "
   ]
  },
  {
   "cell_type": "code",
   "execution_count": 209,
   "id": "052e4dea",
   "metadata": {},
   "outputs": [],
   "source": [
    "X = df[['sweets']]\n",
    "y = df['ratings']\n",
    "\n",
    "lm = LinearRegression().fit(X,y)"
   ]
  },
  {
   "cell_type": "markdown",
   "id": "ba7e3176",
   "metadata": {},
   "source": [
    "**Q. Run `lm.score(X, y)` -- what does this tell you?**"
   ]
  },
  {
   "cell_type": "code",
   "execution_count": 45,
   "id": "688d35b3",
   "metadata": {},
   "outputs": [
    {
     "name": "stdout",
     "output_type": "stream",
     "text": [
      "The slope is:  0.1\n",
      "The intercept is: 6.07\n"
     ]
    }
   ],
   "source": [
    "print(\"The slope is: \", lm.coef_[0].round(2))\n",
    "print(\"The intercept is:\", lm.intercept_.round(2))"
   ]
  },
  {
   "cell_type": "code",
   "execution_count": 48,
   "id": "511ac5dc",
   "metadata": {},
   "outputs": [],
   "source": [
    "yhat_ratings = lm.predict([\n",
    "    [10],\n",
    "    [20]\n",
    "])"
   ]
  },
  {
   "cell_type": "code",
   "execution_count": 49,
   "id": "dd0843e3",
   "metadata": {},
   "outputs": [
    {
     "name": "stdout",
     "output_type": "stream",
     "text": [
      "Some ratings predictions,  [7.10526316 8.13765182]\n"
     ]
    }
   ],
   "source": [
    "print(\"Some ratings predictions, \", yhat_ratings)"
   ]
  },
  {
   "cell_type": "markdown",
   "id": "2a31ae17",
   "metadata": {},
   "source": [
    "Aside: polynomial regression, see https://scikit-learn.org/stable/modules/generated/sklearn.preprocessing.PolynomialFeatures.html\n"
   ]
  },
  {
   "cell_type": "markdown",
   "id": "5975dcbc",
   "metadata": {},
   "source": [
    "##### Example: KNN"
   ]
  },
  {
   "cell_type": "code",
   "execution_count": 50,
   "id": "94e8cf9b",
   "metadata": {},
   "outputs": [],
   "source": [
    "from sklearn.neighbors import KNeighborsClassifier"
   ]
  },
  {
   "cell_type": "code",
   "execution_count": 52,
   "id": "dd0bfd1e",
   "metadata": {},
   "outputs": [],
   "source": [
    "df['like'] = [1, 1, 0]"
   ]
  },
  {
   "cell_type": "code",
   "execution_count": 53,
   "id": "b235c16c",
   "metadata": {},
   "outputs": [
    {
     "data": {
      "text/html": [
       "<div>\n",
       "<style scoped>\n",
       "    .dataframe tbody tr th:only-of-type {\n",
       "        vertical-align: middle;\n",
       "    }\n",
       "\n",
       "    .dataframe tbody tr th {\n",
       "        vertical-align: top;\n",
       "    }\n",
       "\n",
       "    .dataframe thead th {\n",
       "        text-align: right;\n",
       "    }\n",
       "</style>\n",
       "<table border=\"1\" class=\"dataframe\">\n",
       "  <thead>\n",
       "    <tr style=\"text-align: right;\">\n",
       "      <th></th>\n",
       "      <th>ratings</th>\n",
       "      <th>sweets</th>\n",
       "      <th>like</th>\n",
       "    </tr>\n",
       "  </thead>\n",
       "  <tbody>\n",
       "    <tr>\n",
       "      <th>0</th>\n",
       "      <td>7</td>\n",
       "      <td>12</td>\n",
       "      <td>1</td>\n",
       "    </tr>\n",
       "    <tr>\n",
       "      <th>1</th>\n",
       "      <td>8</td>\n",
       "      <td>15</td>\n",
       "      <td>1</td>\n",
       "    </tr>\n",
       "    <tr>\n",
       "      <th>2</th>\n",
       "      <td>9</td>\n",
       "      <td>29</td>\n",
       "      <td>0</td>\n",
       "    </tr>\n",
       "  </tbody>\n",
       "</table>\n",
       "</div>"
      ],
      "text/plain": [
       "   ratings  sweets  like\n",
       "0        7      12     1\n",
       "1        8      15     1\n",
       "2        9      29     0"
      ]
     },
     "execution_count": 53,
     "metadata": {},
     "output_type": "execute_result"
    }
   ],
   "source": [
    "df"
   ]
  },
  {
   "cell_type": "markdown",
   "id": "02d5a393",
   "metadata": {},
   "source": [
    "All the learning (learn = fit) happens here, "
   ]
  },
  {
   "cell_type": "code",
   "execution_count": 213,
   "id": "663e66af",
   "metadata": {},
   "outputs": [],
   "source": [
    "knn = KNeighborsClassifier(2).fit(df[['ratings', 'sweets']], df['like'])"
   ]
  },
  {
   "cell_type": "markdown",
   "id": "b976a877",
   "metadata": {},
   "source": [
    "Once we have obtained the model, we can use it to predict, "
   ]
  },
  {
   "cell_type": "code",
   "execution_count": 214,
   "id": "e722e705",
   "metadata": {},
   "outputs": [],
   "source": [
    "yhat_likes = knn.predict([\n",
    "    [7, 10],\n",
    "    [6, 21]\n",
    "])"
   ]
  },
  {
   "cell_type": "code",
   "execution_count": 215,
   "id": "7e6afc82",
   "metadata": {},
   "outputs": [
    {
     "name": "stdout",
     "output_type": "stream",
     "text": [
      "Some like/dislike predictions, [1 0]\n"
     ]
    }
   ],
   "source": [
    "print(\"Some like/dislike predictions,\", yhat_likes)"
   ]
  },
  {
   "cell_type": "markdown",
   "id": "536cfb30",
   "metadata": {},
   "source": [
    "**Q. Add to `.predict`'s input another row for `[10, 15]` ie., a film rating of `10` and ` sweet spend` of $£15$**."
   ]
  },
  {
   "cell_type": "markdown",
   "id": "5d974a2c",
   "metadata": {},
   "source": [
    "----"
   ]
  },
  {
   "cell_type": "markdown",
   "id": "ea95397c",
   "metadata": {},
   "source": [
    "### Aside: NetworkX\n",
    "\n",
    "Graph/Network analysis library,"
   ]
  },
  {
   "cell_type": "code",
   "execution_count": 62,
   "id": "db1303bd",
   "metadata": {},
   "outputs": [],
   "source": [
    "import networkx as nx"
   ]
  },
  {
   "cell_type": "code",
   "execution_count": 66,
   "id": "9a3b06ee",
   "metadata": {},
   "outputs": [
    {
     "data": {
      "image/png": "[encoded data removed]",
      "text/plain": [
       "<Figure size 432x288 with 1 Axes>"
      ]
     },
     "metadata": {},
     "output_type": "display_data"
    }
   ],
   "source": [
    "G = nx.random_graphs.complete_graph(5)\n",
    "\n",
    "nx.draw(G)"
   ]
  },
  {
   "cell_type": "markdown",
   "id": "968e1bb2",
   "metadata": {},
   "source": [
    "The shortest paths between all nodes, "
   ]
  },
  {
   "cell_type": "code",
   "execution_count": 68,
   "id": "2ee9bd56",
   "metadata": {},
   "outputs": [
    {
     "data": {
      "text/plain": [
       "[(0, {0: 0, 1: 1, 2: 1, 3: 1, 4: 1}),\n",
       " (1, {1: 0, 0: 1, 2: 1, 3: 1, 4: 1}),\n",
       " (2, {2: 0, 0: 1, 1: 1, 3: 1, 4: 1}),\n",
       " (3, {3: 0, 0: 1, 1: 1, 2: 1, 4: 1}),\n",
       " (4, {4: 0, 0: 1, 1: 1, 2: 1, 3: 1})]"
      ]
     },
     "execution_count": 68,
     "metadata": {},
     "output_type": "execute_result"
    }
   ],
   "source": [
    "list(nx.shortest_path_length(G))"
   ]
  },
  {
   "cell_type": "code",
   "execution_count": 221,
   "id": "5f2bbb34",
   "metadata": {},
   "outputs": [],
   "source": [
    "G.remove_edge(u=0, v=1)"
   ]
  },
  {
   "cell_type": "code",
   "execution_count": 222,
   "id": "31db5e63",
   "metadata": {},
   "outputs": [
    {
     "data": {
      "text/plain": [
       "[(0, {0: 0, 2: 1, 3: 1, 4: 1, 1: 2}),\n",
       " (1, {1: 0, 2: 1, 3: 1, 4: 1, 0: 2}),\n",
       " (2, {2: 0, 0: 1, 1: 1, 3: 1, 4: 1}),\n",
       " (3, {3: 0, 0: 1, 1: 1, 2: 1, 4: 1}),\n",
       " (4, {4: 0, 0: 1, 1: 1, 2: 1, 3: 1})]"
      ]
     },
     "execution_count": 222,
     "metadata": {},
     "output_type": "execute_result"
    }
   ],
   "source": [
    "list(nx.shortest_path_length(G))"
   ]
  },
  {
   "cell_type": "markdown",
   "id": "5537d7f1",
   "metadata": {},
   "source": [
    "**EXTRA Q. Why did the shortest path lengths change? Redraw G.** "
   ]
  },
  {
   "cell_type": "markdown",
   "id": "71b7cd61",
   "metadata": {},
   "source": [
    "---"
   ]
  },
  {
   "cell_type": "markdown",
   "id": "349ef536",
   "metadata": {},
   "source": [
    "## How do these libraries work together?"
   ]
  },
  {
   "cell_type": "markdown",
   "id": "9cba9502",
   "metadata": {},
   "source": [
    "----"
   ]
  },
  {
   "cell_type": "markdown",
   "id": "9c4908d3",
   "metadata": {},
   "source": [
    "##### Aside: using seaborn for sample data"
   ]
  },
  {
   "cell_type": "markdown",
   "id": "84f64531",
   "metadata": {},
   "source": [
    "We are going to use a helper method seaborn provides which can supply sample data. We will save this to a csv file to simulate *starting with a dataset*, "
   ]
  },
  {
   "cell_type": "code",
   "execution_count": 73,
   "id": "63468f18",
   "metadata": {},
   "outputs": [],
   "source": [
    "import seaborn as sns\n",
    "sns.load_dataset('titanic').to_csv(open('titanic.csv', 'w'), index=False)"
   ]
  },
  {
   "cell_type": "markdown",
   "id": "07279ec0",
   "metadata": {},
   "source": [
    "Seaborn makes some datasets available,"
   ]
  },
  {
   "cell_type": "code",
   "execution_count": 102,
   "id": "20b75299",
   "metadata": {},
   "outputs": [
    {
     "data": {
      "text/plain": [
       "['anagrams',\n",
       " 'anscombe',\n",
       " 'attention',\n",
       " 'brain_networks',\n",
       " 'car_crashes',\n",
       " 'diamonds',\n",
       " 'dots',\n",
       " 'exercise',\n",
       " 'flights',\n",
       " 'fmri',\n",
       " 'gammas',\n",
       " 'geyser',\n",
       " 'iris',\n",
       " 'mpg',\n",
       " 'penguins',\n",
       " 'planets',\n",
       " 'taxis',\n",
       " 'tips',\n",
       " 'titanic']"
      ]
     },
     "execution_count": 102,
     "metadata": {},
     "output_type": "execute_result"
    }
   ],
   "source": [
    "sns.get_dataset_names()"
   ]
  },
  {
   "cell_type": "markdown",
   "id": "886f7d4f",
   "metadata": {},
   "source": [
    "---"
   ]
  },
  {
   "cell_type": "markdown",
   "id": "2edd1569",
   "metadata": {},
   "source": [
    "### Using Pandas to Obtain a Cleaned Dataset"
   ]
  },
  {
   "cell_type": "markdown",
   "id": "1104ed9f",
   "metadata": {},
   "source": [
    "Import pandas,"
   ]
  },
  {
   "cell_type": "code",
   "execution_count": 74,
   "id": "1c64e272",
   "metadata": {},
   "outputs": [],
   "source": [
    "import pandas as pd"
   ]
  },
  {
   "cell_type": "markdown",
   "id": "5401381b",
   "metadata": {},
   "source": [
    "Use `pd.read_csv` to load the csv file data into a *DataFrame*, called `ti`, "
   ]
  },
  {
   "cell_type": "code",
   "execution_count": 76,
   "id": "ebbc5c15",
   "metadata": {},
   "outputs": [],
   "source": [
    "ti = pd.read_csv('titanic.csv')"
   ]
  },
  {
   "cell_type": "markdown",
   "id": "7486a509",
   "metadata": {},
   "source": [
    "`.sample` to show a sample, here of 5 rows, "
   ]
  },
  {
   "cell_type": "code",
   "execution_count": 77,
   "id": "ad471c92",
   "metadata": {
    "scrolled": true
   },
   "outputs": [
    {
     "data": {
      "text/html": [
       "<div>\n",
       "<style scoped>\n",
       "    .dataframe tbody tr th:only-of-type {\n",
       "        vertical-align: middle;\n",
       "    }\n",
       "\n",
       "    .dataframe tbody tr th {\n",
       "        vertical-align: top;\n",
       "    }\n",
       "\n",
       "    .dataframe thead th {\n",
       "        text-align: right;\n",
       "    }\n",
       "</style>\n",
       "<table border=\"1\" class=\"dataframe\">\n",
       "  <thead>\n",
       "    <tr style=\"text-align: right;\">\n",
       "      <th></th>\n",
       "      <th>survived</th>\n",
       "      <th>pclass</th>\n",
       "      <th>sex</th>\n",
       "      <th>age</th>\n",
       "      <th>sibsp</th>\n",
       "      <th>parch</th>\n",
       "      <th>fare</th>\n",
       "      <th>embarked</th>\n",
       "      <th>class</th>\n",
       "      <th>who</th>\n",
       "      <th>adult_male</th>\n",
       "      <th>deck</th>\n",
       "      <th>embark_town</th>\n",
       "      <th>alive</th>\n",
       "      <th>alone</th>\n",
       "    </tr>\n",
       "  </thead>\n",
       "  <tbody>\n",
       "    <tr>\n",
       "      <th>54</th>\n",
       "      <td>0</td>\n",
       "      <td>1</td>\n",
       "      <td>male</td>\n",
       "      <td>65.0</td>\n",
       "      <td>0</td>\n",
       "      <td>1</td>\n",
       "      <td>61.9792</td>\n",
       "      <td>C</td>\n",
       "      <td>First</td>\n",
       "      <td>man</td>\n",
       "      <td>True</td>\n",
       "      <td>B</td>\n",
       "      <td>Cherbourg</td>\n",
       "      <td>no</td>\n",
       "      <td>False</td>\n",
       "    </tr>\n",
       "    <tr>\n",
       "      <th>804</th>\n",
       "      <td>1</td>\n",
       "      <td>3</td>\n",
       "      <td>male</td>\n",
       "      <td>27.0</td>\n",
       "      <td>0</td>\n",
       "      <td>0</td>\n",
       "      <td>6.9750</td>\n",
       "      <td>S</td>\n",
       "      <td>Third</td>\n",
       "      <td>man</td>\n",
       "      <td>True</td>\n",
       "      <td>NaN</td>\n",
       "      <td>Southampton</td>\n",
       "      <td>yes</td>\n",
       "      <td>True</td>\n",
       "    </tr>\n",
       "    <tr>\n",
       "      <th>528</th>\n",
       "      <td>0</td>\n",
       "      <td>3</td>\n",
       "      <td>male</td>\n",
       "      <td>39.0</td>\n",
       "      <td>0</td>\n",
       "      <td>0</td>\n",
       "      <td>7.9250</td>\n",
       "      <td>S</td>\n",
       "      <td>Third</td>\n",
       "      <td>man</td>\n",
       "      <td>True</td>\n",
       "      <td>NaN</td>\n",
       "      <td>Southampton</td>\n",
       "      <td>no</td>\n",
       "      <td>True</td>\n",
       "    </tr>\n",
       "    <tr>\n",
       "      <th>699</th>\n",
       "      <td>0</td>\n",
       "      <td>3</td>\n",
       "      <td>male</td>\n",
       "      <td>42.0</td>\n",
       "      <td>0</td>\n",
       "      <td>0</td>\n",
       "      <td>7.6500</td>\n",
       "      <td>S</td>\n",
       "      <td>Third</td>\n",
       "      <td>man</td>\n",
       "      <td>True</td>\n",
       "      <td>F</td>\n",
       "      <td>Southampton</td>\n",
       "      <td>no</td>\n",
       "      <td>True</td>\n",
       "    </tr>\n",
       "    <tr>\n",
       "      <th>711</th>\n",
       "      <td>0</td>\n",
       "      <td>1</td>\n",
       "      <td>male</td>\n",
       "      <td>NaN</td>\n",
       "      <td>0</td>\n",
       "      <td>0</td>\n",
       "      <td>26.5500</td>\n",
       "      <td>S</td>\n",
       "      <td>First</td>\n",
       "      <td>man</td>\n",
       "      <td>True</td>\n",
       "      <td>C</td>\n",
       "      <td>Southampton</td>\n",
       "      <td>no</td>\n",
       "      <td>True</td>\n",
       "    </tr>\n",
       "  </tbody>\n",
       "</table>\n",
       "</div>"
      ],
      "text/plain": [
       "     survived  pclass   sex   age  sibsp  parch     fare embarked  class  who  \\\n",
       "54          0       1  male  65.0      0      1  61.9792        C  First  man   \n",
       "804         1       3  male  27.0      0      0   6.9750        S  Third  man   \n",
       "528         0       3  male  39.0      0      0   7.9250        S  Third  man   \n",
       "699         0       3  male  42.0      0      0   7.6500        S  Third  man   \n",
       "711         0       1  male   NaN      0      0  26.5500        S  First  man   \n",
       "\n",
       "     adult_male deck  embark_town alive  alone  \n",
       "54         True    B    Cherbourg    no  False  \n",
       "804        True  NaN  Southampton   yes   True  \n",
       "528        True  NaN  Southampton    no   True  \n",
       "699        True    F  Southampton    no   True  \n",
       "711        True    C  Southampton    no   True  "
      ]
     },
     "execution_count": 77,
     "metadata": {},
     "output_type": "execute_result"
    }
   ],
   "source": [
    "ti.sample(5)"
   ]
  },
  {
   "cell_type": "markdown",
   "id": "0ea09ba8",
   "metadata": {},
   "source": [
    "**Q. Use `ti.head()` to show the first five rows.**"
   ]
  },
  {
   "cell_type": "markdown",
   "id": "b0e935d0",
   "metadata": {},
   "source": [
    "`.info()` provides structural information about the table, "
   ]
  },
  {
   "cell_type": "code",
   "execution_count": 79,
   "id": "5f84b759",
   "metadata": {},
   "outputs": [
    {
     "name": "stdout",
     "output_type": "stream",
     "text": [
      "<class 'pandas.core.frame.DataFrame'>\n",
      "RangeIndex: 891 entries, 0 to 890\n",
      "Data columns (total 15 columns):\n",
      " #   Column       Non-Null Count  Dtype  \n",
      "---  ------       --------------  -----  \n",
      " 0   survived     891 non-null    int64  \n",
      " 1   pclass       891 non-null    int64  \n",
      " 2   sex          891 non-null    object \n",
      " 3   age          714 non-null    float64\n",
      " 4   sibsp        891 non-null    int64  \n",
      " 5   parch        891 non-null    int64  \n",
      " 6   fare         891 non-null    float64\n",
      " 7   embarked     889 non-null    object \n",
      " 8   class        891 non-null    object \n",
      " 9   who          891 non-null    object \n",
      " 10  adult_male   891 non-null    bool   \n",
      " 11  deck         203 non-null    object \n",
      " 12  embark_town  889 non-null    object \n",
      " 13  alive        891 non-null    object \n",
      " 14  alone        891 non-null    bool   \n",
      "dtypes: bool(2), float64(2), int64(4), object(7)\n",
      "memory usage: 92.4+ KB\n"
     ]
    }
   ],
   "source": [
    "ti.info()"
   ]
  },
  {
   "cell_type": "markdown",
   "id": "e06903b1",
   "metadata": {},
   "source": [
    "Consider the age column,\n",
    "\n",
    "It's column index `3`, called `age` with `714` present rows, `float64` (ie., a partial number). \n",
    "\n",
    "\n",
    "```\n",
    "3   age          714 non-null    float64\n",
    "\n",
    "```"
   ]
  },
  {
   "cell_type": "markdown",
   "id": "3157ed4b",
   "metadata": {},
   "source": [
    "The `.shape` describes all the rows and columns,"
   ]
  },
  {
   "cell_type": "code",
   "execution_count": 80,
   "id": "91c1582c",
   "metadata": {
    "scrolled": true
   },
   "outputs": [
    {
     "data": {
      "text/plain": [
       "(891, 15)"
      ]
     },
     "execution_count": 80,
     "metadata": {},
     "output_type": "execute_result"
    }
   ],
   "source": [
    "ti.shape"
   ]
  },
  {
   "cell_type": "markdown",
   "id": "b50ba591",
   "metadata": {},
   "source": [
    "Aside: the `len(ti)` is the first part of the `.shape`, ie., its the number of rows,"
   ]
  },
  {
   "cell_type": "code",
   "execution_count": 89,
   "id": "844563ff",
   "metadata": {
    "scrolled": true
   },
   "outputs": [
    {
     "data": {
      "text/plain": [
       "891"
      ]
     },
     "execution_count": 89,
     "metadata": {},
     "output_type": "execute_result"
    }
   ],
   "source": [
    "len(ti)"
   ]
  },
  {
   "cell_type": "markdown",
   "id": "58966355",
   "metadata": {},
   "source": [
    "Consider the age column `ti['age']`,"
   ]
  },
  {
   "cell_type": "code",
   "execution_count": 84,
   "id": "2f57ec3e",
   "metadata": {},
   "outputs": [
    {
     "data": {
      "text/plain": [
       "0      22.0\n",
       "1      38.0\n",
       "2      26.0\n",
       "3      35.0\n",
       "4      35.0\n",
       "       ... \n",
       "886    27.0\n",
       "887    19.0\n",
       "888     NaN\n",
       "889    26.0\n",
       "890    32.0\n",
       "Name: age, Length: 891, dtype: float64"
      ]
     },
     "execution_count": 84,
     "metadata": {},
     "output_type": "execute_result"
    }
   ],
   "source": [
    "ti['age']"
   ]
  },
  {
   "cell_type": "markdown",
   "id": "44f61a54",
   "metadata": {},
   "source": [
    "**Q. Show the `fare` column.**"
   ]
  },
  {
   "cell_type": "markdown",
   "id": "e2175c37",
   "metadata": {},
   "source": [
    "We can ask, of this column, if any data is **n**ot **a**vailable,"
   ]
  },
  {
   "cell_type": "code",
   "execution_count": 85,
   "id": "40e0b614",
   "metadata": {},
   "outputs": [
    {
     "data": {
      "text/plain": [
       "0      False\n",
       "1      False\n",
       "2      False\n",
       "3      False\n",
       "4      False\n",
       "       ...  \n",
       "886    False\n",
       "887    False\n",
       "888     True\n",
       "889    False\n",
       "890    False\n",
       "Name: age, Length: 891, dtype: bool"
      ]
     },
     "execution_count": 85,
     "metadata": {},
     "output_type": "execute_result"
    }
   ],
   "source": [
    "ti['age'].isna()"
   ]
  },
  {
   "cell_type": "markdown",
   "id": "702a2ef4",
   "metadata": {},
   "source": [
    "We can use `.sum()` to count the `True`s (recall: `True` is `1`, and `False` is `0`)."
   ]
  },
  {
   "cell_type": "code",
   "execution_count": 87,
   "id": "ad6ed45c",
   "metadata": {},
   "outputs": [
    {
     "data": {
      "text/plain": [
       "177"
      ]
     },
     "execution_count": 87,
     "metadata": {},
     "output_type": "execute_result"
    }
   ],
   "source": [
    "ti['age'].isna().sum()"
   ]
  },
  {
   "cell_type": "markdown",
   "id": "79582a60",
   "metadata": {},
   "source": [
    "We can do this to the entire table, which applies this to *all columns*, "
   ]
  },
  {
   "cell_type": "code",
   "execution_count": 88,
   "id": "8b2af473",
   "metadata": {},
   "outputs": [
    {
     "data": {
      "text/plain": [
       "survived         0\n",
       "pclass           0\n",
       "sex              0\n",
       "age            177\n",
       "sibsp            0\n",
       "parch            0\n",
       "fare             0\n",
       "embarked         2\n",
       "class            0\n",
       "who              0\n",
       "adult_male       0\n",
       "deck           688\n",
       "embark_town      2\n",
       "alive            0\n",
       "alone            0\n",
       "dtype: int64"
      ]
     },
     "execution_count": 88,
     "metadata": {},
     "output_type": "execute_result"
    }
   ],
   "source": [
    "ti.isna().sum()"
   ]
  },
  {
   "cell_type": "markdown",
   "id": "e7c4a83b",
   "metadata": {},
   "source": [
    "The `.mean` is the *rate* of `True`, ie., percentage of missing data, "
   ]
  },
  {
   "cell_type": "code",
   "execution_count": 93,
   "id": "2176d008",
   "metadata": {},
   "outputs": [
    {
     "data": {
      "text/plain": [
       "survived       0.000000\n",
       "pclass         0.000000\n",
       "sex            0.000000\n",
       "age            0.198653\n",
       "sibsp          0.000000\n",
       "parch          0.000000\n",
       "fare           0.000000\n",
       "embarked       0.002245\n",
       "class          0.000000\n",
       "who            0.000000\n",
       "adult_male     0.000000\n",
       "deck           0.772166\n",
       "embark_town    0.002245\n",
       "alive          0.000000\n",
       "alone          0.000000\n",
       "dtype: float64"
      ]
     },
     "execution_count": 93,
     "metadata": {},
     "output_type": "execute_result"
    }
   ],
   "source": [
    "ti.isna().mean()"
   ]
  },
  {
   "cell_type": "markdown",
   "id": "7c462bbf",
   "metadata": {},
   "source": [
    "**Q. Use `ti.describe` to report similar summary information. What do the descriptions say?** "
   ]
  },
  {
   "cell_type": "markdown",
   "id": "4f9de919",
   "metadata": {},
   "source": [
    "Since almost all the data in `deck` is missing, let's remove the column entirely,"
   ]
  },
  {
   "cell_type": "code",
   "execution_count": 94,
   "id": "ab86ed9f",
   "metadata": {},
   "outputs": [],
   "source": [
    "ti_clean = ti.drop(columns=['deck'])"
   ]
  },
  {
   "cell_type": "markdown",
   "id": "e449236f",
   "metadata": {},
   "source": [
    "... `.drop(columns=[])` takes a list of columns to remove."
   ]
  },
  {
   "cell_type": "markdown",
   "id": "30d63a25",
   "metadata": {},
   "source": [
    "Consider `.info()` on the clean table -- there is no `deck` column,"
   ]
  },
  {
   "cell_type": "code",
   "execution_count": 96,
   "id": "08695ecb",
   "metadata": {},
   "outputs": [
    {
     "name": "stdout",
     "output_type": "stream",
     "text": [
      "<class 'pandas.core.frame.DataFrame'>\n",
      "RangeIndex: 891 entries, 0 to 890\n",
      "Data columns (total 14 columns):\n",
      " #   Column       Non-Null Count  Dtype  \n",
      "---  ------       --------------  -----  \n",
      " 0   survived     891 non-null    int64  \n",
      " 1   pclass       891 non-null    int64  \n",
      " 2   sex          891 non-null    object \n",
      " 3   age          714 non-null    float64\n",
      " 4   sibsp        891 non-null    int64  \n",
      " 5   parch        891 non-null    int64  \n",
      " 6   fare         891 non-null    float64\n",
      " 7   embarked     889 non-null    object \n",
      " 8   class        891 non-null    object \n",
      " 9   who          891 non-null    object \n",
      " 10  adult_male   891 non-null    bool   \n",
      " 11  embark_town  889 non-null    object \n",
      " 12  alive        891 non-null    object \n",
      " 13  alone        891 non-null    bool   \n",
      "dtypes: bool(2), float64(2), int64(4), object(6)\n",
      "memory usage: 85.4+ KB\n"
     ]
    }
   ],
   "source": [
    "ti_clean.info()"
   ]
  },
  {
   "cell_type": "markdown",
   "id": "7b55d418",
   "metadata": {},
   "source": [
    "...we cannot run missing values into a Machine Learning Algorithm...\n",
    "\n",
    "We now just remove any row with missing data, "
   ]
  },
  {
   "cell_type": "code",
   "execution_count": 97,
   "id": "9a8651e7",
   "metadata": {},
   "outputs": [],
   "source": [
    "ti_clean = ti_clean.dropna() # drop all rows which have NotAvailable data"
   ]
  },
  {
   "cell_type": "markdown",
   "id": "0962a727",
   "metadata": {},
   "source": [
    "There are no missing rows in any column now, "
   ]
  },
  {
   "cell_type": "code",
   "execution_count": 101,
   "id": "2322b420",
   "metadata": {},
   "outputs": [
    {
     "data": {
      "text/plain": [
       "survived       0\n",
       "pclass         0\n",
       "sex            0\n",
       "age            0\n",
       "sibsp          0\n",
       "parch          0\n",
       "fare           0\n",
       "embarked       0\n",
       "class          0\n",
       "who            0\n",
       "adult_male     0\n",
       "embark_town    0\n",
       "alive          0\n",
       "alone          0\n",
       "dtype: int64"
      ]
     },
     "execution_count": 101,
     "metadata": {},
     "output_type": "execute_result"
    }
   ],
   "source": [
    "ti_clean.isna().sum()"
   ]
  },
  {
   "cell_type": "markdown",
   "id": "4b704be3",
   "metadata": {},
   "source": [
    "---"
   ]
  },
  {
   "cell_type": "markdown",
   "id": "3aafc232",
   "metadata": {},
   "source": [
    "###### Using Pandas"
   ]
  },
  {
   "cell_type": "markdown",
   "id": "1e12f217",
   "metadata": {},
   "source": [
    "Querying a dataframe is the same as indexing it, "
   ]
  },
  {
   "cell_type": "code",
   "execution_count": 106,
   "id": "c3de8c15",
   "metadata": {},
   "outputs": [
    {
     "data": {
      "text/plain": [
       "0      22.0\n",
       "1      38.0\n",
       "2      26.0\n",
       "3      35.0\n",
       "4      35.0\n",
       "       ... \n",
       "886    27.0\n",
       "887    19.0\n",
       "888     NaN\n",
       "889    26.0\n",
       "890    32.0\n",
       "Name: age, Length: 891, dtype: float64"
      ]
     },
     "execution_count": 106,
     "metadata": {},
     "output_type": "execute_result"
    }
   ],
   "source": [
    "query = 'age' # column name\n",
    "\n",
    "ti[ query ]"
   ]
  },
  {
   "cell_type": "markdown",
   "id": "3ec8b6fe",
   "metadata": {},
   "source": [
    "We can use a list of column names, "
   ]
  },
  {
   "cell_type": "code",
   "execution_count": 107,
   "id": "a3f03ef3",
   "metadata": {},
   "outputs": [
    {
     "data": {
      "text/html": [
       "<div>\n",
       "<style scoped>\n",
       "    .dataframe tbody tr th:only-of-type {\n",
       "        vertical-align: middle;\n",
       "    }\n",
       "\n",
       "    .dataframe tbody tr th {\n",
       "        vertical-align: top;\n",
       "    }\n",
       "\n",
       "    .dataframe thead th {\n",
       "        text-align: right;\n",
       "    }\n",
       "</style>\n",
       "<table border=\"1\" class=\"dataframe\">\n",
       "  <thead>\n",
       "    <tr style=\"text-align: right;\">\n",
       "      <th></th>\n",
       "      <th>age</th>\n",
       "      <th>fare</th>\n",
       "      <th>sex</th>\n",
       "    </tr>\n",
       "  </thead>\n",
       "  <tbody>\n",
       "    <tr>\n",
       "      <th>0</th>\n",
       "      <td>22.0</td>\n",
       "      <td>7.2500</td>\n",
       "      <td>male</td>\n",
       "    </tr>\n",
       "    <tr>\n",
       "      <th>1</th>\n",
       "      <td>38.0</td>\n",
       "      <td>71.2833</td>\n",
       "      <td>female</td>\n",
       "    </tr>\n",
       "    <tr>\n",
       "      <th>2</th>\n",
       "      <td>26.0</td>\n",
       "      <td>7.9250</td>\n",
       "      <td>female</td>\n",
       "    </tr>\n",
       "    <tr>\n",
       "      <th>3</th>\n",
       "      <td>35.0</td>\n",
       "      <td>53.1000</td>\n",
       "      <td>female</td>\n",
       "    </tr>\n",
       "    <tr>\n",
       "      <th>4</th>\n",
       "      <td>35.0</td>\n",
       "      <td>8.0500</td>\n",
       "      <td>male</td>\n",
       "    </tr>\n",
       "    <tr>\n",
       "      <th>...</th>\n",
       "      <td>...</td>\n",
       "      <td>...</td>\n",
       "      <td>...</td>\n",
       "    </tr>\n",
       "    <tr>\n",
       "      <th>886</th>\n",
       "      <td>27.0</td>\n",
       "      <td>13.0000</td>\n",
       "      <td>male</td>\n",
       "    </tr>\n",
       "    <tr>\n",
       "      <th>887</th>\n",
       "      <td>19.0</td>\n",
       "      <td>30.0000</td>\n",
       "      <td>female</td>\n",
       "    </tr>\n",
       "    <tr>\n",
       "      <th>888</th>\n",
       "      <td>NaN</td>\n",
       "      <td>23.4500</td>\n",
       "      <td>female</td>\n",
       "    </tr>\n",
       "    <tr>\n",
       "      <th>889</th>\n",
       "      <td>26.0</td>\n",
       "      <td>30.0000</td>\n",
       "      <td>male</td>\n",
       "    </tr>\n",
       "    <tr>\n",
       "      <th>890</th>\n",
       "      <td>32.0</td>\n",
       "      <td>7.7500</td>\n",
       "      <td>male</td>\n",
       "    </tr>\n",
       "  </tbody>\n",
       "</table>\n",
       "<p>891 rows × 3 columns</p>\n",
       "</div>"
      ],
      "text/plain": [
       "      age     fare     sex\n",
       "0    22.0   7.2500    male\n",
       "1    38.0  71.2833  female\n",
       "2    26.0   7.9250  female\n",
       "3    35.0  53.1000  female\n",
       "4    35.0   8.0500    male\n",
       "..    ...      ...     ...\n",
       "886  27.0  13.0000    male\n",
       "887  19.0  30.0000  female\n",
       "888   NaN  23.4500  female\n",
       "889  26.0  30.0000    male\n",
       "890  32.0   7.7500    male\n",
       "\n",
       "[891 rows x 3 columns]"
      ]
     },
     "execution_count": 107,
     "metadata": {},
     "output_type": "execute_result"
    }
   ],
   "source": [
    "query = ['age', 'fare', 'sex']\n",
    "\n",
    "ti[ query ]"
   ]
  },
  {
   "cell_type": "markdown",
   "id": "9e7a9f46",
   "metadata": {},
   "source": [
    "**Q. Select the `embark_town` and `sex` columns using a list of column names.**"
   ]
  },
  {
   "cell_type": "markdown",
   "id": "2d715a0c",
   "metadata": {},
   "source": [
    "In one go, reading `ti[` \"FIND in `ti`\" the list of columns `['age', 'sex']`,"
   ]
  },
  {
   "cell_type": "code",
   "execution_count": 109,
   "id": "88a607fd",
   "metadata": {},
   "outputs": [
    {
     "data": {
      "text/html": [
       "<div>\n",
       "<style scoped>\n",
       "    .dataframe tbody tr th:only-of-type {\n",
       "        vertical-align: middle;\n",
       "    }\n",
       "\n",
       "    .dataframe tbody tr th {\n",
       "        vertical-align: top;\n",
       "    }\n",
       "\n",
       "    .dataframe thead th {\n",
       "        text-align: right;\n",
       "    }\n",
       "</style>\n",
       "<table border=\"1\" class=\"dataframe\">\n",
       "  <thead>\n",
       "    <tr style=\"text-align: right;\">\n",
       "      <th></th>\n",
       "      <th>age</th>\n",
       "      <th>sex</th>\n",
       "    </tr>\n",
       "  </thead>\n",
       "  <tbody>\n",
       "    <tr>\n",
       "      <th>0</th>\n",
       "      <td>22.0</td>\n",
       "      <td>male</td>\n",
       "    </tr>\n",
       "    <tr>\n",
       "      <th>1</th>\n",
       "      <td>38.0</td>\n",
       "      <td>female</td>\n",
       "    </tr>\n",
       "    <tr>\n",
       "      <th>2</th>\n",
       "      <td>26.0</td>\n",
       "      <td>female</td>\n",
       "    </tr>\n",
       "    <tr>\n",
       "      <th>3</th>\n",
       "      <td>35.0</td>\n",
       "      <td>female</td>\n",
       "    </tr>\n",
       "    <tr>\n",
       "      <th>4</th>\n",
       "      <td>35.0</td>\n",
       "      <td>male</td>\n",
       "    </tr>\n",
       "    <tr>\n",
       "      <th>...</th>\n",
       "      <td>...</td>\n",
       "      <td>...</td>\n",
       "    </tr>\n",
       "    <tr>\n",
       "      <th>886</th>\n",
       "      <td>27.0</td>\n",
       "      <td>male</td>\n",
       "    </tr>\n",
       "    <tr>\n",
       "      <th>887</th>\n",
       "      <td>19.0</td>\n",
       "      <td>female</td>\n",
       "    </tr>\n",
       "    <tr>\n",
       "      <th>888</th>\n",
       "      <td>NaN</td>\n",
       "      <td>female</td>\n",
       "    </tr>\n",
       "    <tr>\n",
       "      <th>889</th>\n",
       "      <td>26.0</td>\n",
       "      <td>male</td>\n",
       "    </tr>\n",
       "    <tr>\n",
       "      <th>890</th>\n",
       "      <td>32.0</td>\n",
       "      <td>male</td>\n",
       "    </tr>\n",
       "  </tbody>\n",
       "</table>\n",
       "<p>891 rows × 2 columns</p>\n",
       "</div>"
      ],
      "text/plain": [
       "      age     sex\n",
       "0    22.0    male\n",
       "1    38.0  female\n",
       "2    26.0  female\n",
       "3    35.0  female\n",
       "4    35.0    male\n",
       "..    ...     ...\n",
       "886  27.0    male\n",
       "887  19.0  female\n",
       "888   NaN  female\n",
       "889  26.0    male\n",
       "890  32.0    male\n",
       "\n",
       "[891 rows x 2 columns]"
      ]
     },
     "execution_count": 109,
     "metadata": {},
     "output_type": "execute_result"
    }
   ],
   "source": [
    "ti[['age', 'sex']] "
   ]
  },
  {
   "cell_type": "markdown",
   "id": "b60f9965",
   "metadata": {},
   "source": [
    "You can also filter rows, "
   ]
  },
  {
   "cell_type": "code",
   "execution_count": 112,
   "id": "aab61911",
   "metadata": {},
   "outputs": [],
   "source": [
    "ti_males = ti[   ti['sex']   == \"male\"   ]"
   ]
  },
  {
   "cell_type": "code",
   "execution_count": 114,
   "id": "ca3385a2",
   "metadata": {
    "scrolled": true
   },
   "outputs": [
    {
     "data": {
      "text/html": [
       "<div>\n",
       "<style scoped>\n",
       "    .dataframe tbody tr th:only-of-type {\n",
       "        vertical-align: middle;\n",
       "    }\n",
       "\n",
       "    .dataframe tbody tr th {\n",
       "        vertical-align: top;\n",
       "    }\n",
       "\n",
       "    .dataframe thead th {\n",
       "        text-align: right;\n",
       "    }\n",
       "</style>\n",
       "<table border=\"1\" class=\"dataframe\">\n",
       "  <thead>\n",
       "    <tr style=\"text-align: right;\">\n",
       "      <th></th>\n",
       "      <th>survived</th>\n",
       "      <th>pclass</th>\n",
       "      <th>sex</th>\n",
       "      <th>age</th>\n",
       "      <th>sibsp</th>\n",
       "      <th>parch</th>\n",
       "      <th>fare</th>\n",
       "      <th>embarked</th>\n",
       "      <th>class</th>\n",
       "      <th>who</th>\n",
       "      <th>adult_male</th>\n",
       "      <th>deck</th>\n",
       "      <th>embark_town</th>\n",
       "      <th>alive</th>\n",
       "      <th>alone</th>\n",
       "    </tr>\n",
       "  </thead>\n",
       "  <tbody>\n",
       "    <tr>\n",
       "      <th>768</th>\n",
       "      <td>0</td>\n",
       "      <td>3</td>\n",
       "      <td>male</td>\n",
       "      <td>NaN</td>\n",
       "      <td>1</td>\n",
       "      <td>0</td>\n",
       "      <td>24.15</td>\n",
       "      <td>Q</td>\n",
       "      <td>Third</td>\n",
       "      <td>man</td>\n",
       "      <td>True</td>\n",
       "      <td>NaN</td>\n",
       "      <td>Queenstown</td>\n",
       "      <td>no</td>\n",
       "      <td>False</td>\n",
       "    </tr>\n",
       "    <tr>\n",
       "      <th>560</th>\n",
       "      <td>0</td>\n",
       "      <td>3</td>\n",
       "      <td>male</td>\n",
       "      <td>NaN</td>\n",
       "      <td>0</td>\n",
       "      <td>0</td>\n",
       "      <td>7.75</td>\n",
       "      <td>Q</td>\n",
       "      <td>Third</td>\n",
       "      <td>man</td>\n",
       "      <td>True</td>\n",
       "      <td>NaN</td>\n",
       "      <td>Queenstown</td>\n",
       "      <td>no</td>\n",
       "      <td>True</td>\n",
       "    </tr>\n",
       "    <tr>\n",
       "      <th>525</th>\n",
       "      <td>0</td>\n",
       "      <td>3</td>\n",
       "      <td>male</td>\n",
       "      <td>40.5</td>\n",
       "      <td>0</td>\n",
       "      <td>0</td>\n",
       "      <td>7.75</td>\n",
       "      <td>Q</td>\n",
       "      <td>Third</td>\n",
       "      <td>man</td>\n",
       "      <td>True</td>\n",
       "      <td>NaN</td>\n",
       "      <td>Queenstown</td>\n",
       "      <td>no</td>\n",
       "      <td>True</td>\n",
       "    </tr>\n",
       "  </tbody>\n",
       "</table>\n",
       "</div>"
      ],
      "text/plain": [
       "     survived  pclass   sex   age  sibsp  parch   fare embarked  class  who  \\\n",
       "768         0       3  male   NaN      1      0  24.15        Q  Third  man   \n",
       "560         0       3  male   NaN      0      0   7.75        Q  Third  man   \n",
       "525         0       3  male  40.5      0      0   7.75        Q  Third  man   \n",
       "\n",
       "     adult_male deck embark_town alive  alone  \n",
       "768        True  NaN  Queenstown    no  False  \n",
       "560        True  NaN  Queenstown    no   True  \n",
       "525        True  NaN  Queenstown    no   True  "
      ]
     },
     "execution_count": 114,
     "metadata": {},
     "output_type": "execute_result"
    }
   ],
   "source": [
    "ti_males.sample(3) # randomly select 3"
   ]
  },
  {
   "cell_type": "markdown",
   "id": "11b01da9",
   "metadata": {},
   "source": [
    "#### Have we biased the dataset?"
   ]
  },
  {
   "cell_type": "markdown",
   "id": "0a54a88b",
   "metadata": {},
   "source": [
    "In our machine learning problem, suppose, we are interested in predicting $y$ survival from $X$ (age, pclass, fare).\n",
    "\n",
    "So we are only interested in whether we have biased these columns.\n",
    "\n",
    "We'll define some variables which are just lists of the column names we are interested in. "
   ]
  },
  {
   "cell_type": "code",
   "execution_count": 123,
   "id": "e6d49362",
   "metadata": {},
   "outputs": [],
   "source": [
    "# P(y|X) = P(Survive|Age, Class, Fare)\n",
    "\n",
    "features = ['age', 'pclass', 'fare'] # X = knownable features\n",
    "target = 'survived'                  # y = did the passenger survive?\n",
    "\n",
    "both = features + [target]"
   ]
  },
  {
   "cell_type": "markdown",
   "id": "b00820a4",
   "metadata": {},
   "source": [
    "---"
   ]
  },
  {
   "cell_type": "markdown",
   "id": "b28feb43",
   "metadata": {},
   "source": [
    "##### Aside: combining two lists, "
   ]
  },
  {
   "cell_type": "code",
   "execution_count": 124,
   "id": "706b782e",
   "metadata": {},
   "outputs": [
    {
     "data": {
      "text/plain": [
       "[1, 2, 3, 4]"
      ]
     },
     "execution_count": 124,
     "metadata": {},
     "output_type": "execute_result"
    }
   ],
   "source": [
    "[1, 2, 3, ] + [4]"
   ]
  },
  {
   "cell_type": "markdown",
   "id": "2e87b0b6",
   "metadata": {},
   "source": [
    "---"
   ]
  },
  {
   "cell_type": "markdown",
   "id": "29149107",
   "metadata": {},
   "source": [
    "Let's visually inspect (using `print()`) their means, stdvs, etc. "
   ]
  },
  {
   "cell_type": "code",
   "execution_count": 130,
   "id": "fffacbc0",
   "metadata": {
    "scrolled": true
   },
   "outputs": [
    {
     "name": "stdout",
     "output_type": "stream",
     "text": [
      "age         29.699118\n",
      "pclass       2.308642\n",
      "fare        32.204208\n",
      "survived     0.383838\n",
      "dtype: float64\n",
      "\n",
      "age         14.526497\n",
      "pclass       0.836071\n",
      "fare        49.693429\n",
      "survived     0.486592\n",
      "dtype: float64\n"
     ]
    }
   ],
   "source": [
    "print(ti[both].mean())\n",
    "print()\n",
    "print(ti[both].std())"
   ]
  },
  {
   "cell_type": "code",
   "execution_count": 131,
   "id": "f9eabb99",
   "metadata": {},
   "outputs": [
    {
     "name": "stdout",
     "output_type": "stream",
     "text": [
      "age         29.642093\n",
      "pclass       2.240169\n",
      "fare        34.567251\n",
      "survived     0.404494\n",
      "dtype: float64\n",
      "\n",
      "age         14.492933\n",
      "pclass       0.836854\n",
      "fare        52.938648\n",
      "survived     0.491139\n",
      "dtype: float64\n"
     ]
    }
   ],
   "source": [
    "print(ti_clean[both].mean())\n",
    "print()\n",
    "print(ti_clean[both].std())"
   ]
  },
  {
   "cell_type": "markdown",
   "id": "81846852",
   "metadata": {},
   "source": [
    "Let's directly compare, "
   ]
  },
  {
   "cell_type": "code",
   "execution_count": 138,
   "id": "16fc978d",
   "metadata": {
    "scrolled": true
   },
   "outputs": [
    {
     "data": {
      "text/plain": [
       "age         0.057025\n",
       "pclass      0.068473\n",
       "fare       -2.363043\n",
       "survived   -0.020656\n",
       "dtype: float64"
      ]
     },
     "execution_count": 138,
     "metadata": {},
     "output_type": "execute_result"
    }
   ],
   "source": [
    "(ti[both].mean() - ti_clean[both].mean())"
   ]
  },
  {
   "cell_type": "markdown",
   "id": "059d362e",
   "metadata": {},
   "source": [
    "... and so on ..."
   ]
  },
  {
   "cell_type": "markdown",
   "id": "28c708bd",
   "metadata": {},
   "source": [
    "The `fare` column has a $£2$ difference before/after cleaning -- but the original fares were hugely varied anyway... so this is unlikely to be a statistically significant difference. "
   ]
  },
  {
   "cell_type": "code",
   "execution_count": 134,
   "id": "3827a3e9",
   "metadata": {},
   "outputs": [
    {
     "data": {
      "text/plain": [
       "-2.3630434359197494"
      ]
     },
     "execution_count": 134,
     "metadata": {},
     "output_type": "execute_result"
    }
   ],
   "source": [
    "ti['fare'].mean() - ti_clean['fare'].mean()"
   ]
  },
  {
   "cell_type": "markdown",
   "id": "4759729e",
   "metadata": {},
   "source": [
    "**Q. show the difference of their standard deviations**\n",
    "\n",
    "**Q. show the difference of their means as a percentage of a difference of their standard deviations**"
   ]
  },
  {
   "cell_type": "markdown",
   "id": "76c3f119",
   "metadata": {},
   "source": [
    "If we use `.describe()` to compute a vareity of descriptive measures, we can see there are huge variations in `fare`, "
   ]
  },
  {
   "cell_type": "code",
   "execution_count": 133,
   "id": "e7077f3a",
   "metadata": {},
   "outputs": [
    {
     "data": {
      "text/plain": [
       "count    891.000000\n",
       "mean      32.204208\n",
       "std       49.693429\n",
       "min        0.000000\n",
       "25%        7.910400\n",
       "50%       14.454200\n",
       "75%       31.000000\n",
       "max      512.329200\n",
       "Name: fare, dtype: float64"
      ]
     },
     "execution_count": 133,
     "metadata": {},
     "output_type": "execute_result"
    }
   ],
   "source": [
    "ti['fare'].describe()"
   ]
  },
  {
   "cell_type": "markdown",
   "id": "5b864606",
   "metadata": {},
   "source": [
    "Suppose we conclude (and here we can) that the dataset after cleaning is still represenative of the original.\n",
    "\n",
    "Let's proceed to Machine Learning."
   ]
  },
  {
   "cell_type": "markdown",
   "id": "a100b0fd",
   "metadata": {},
   "source": [
    "### Using Sklearn to Solve a Machine Learning Problem"
   ]
  },
  {
   "cell_type": "code",
   "execution_count": 139,
   "id": "a9220c29",
   "metadata": {},
   "outputs": [],
   "source": [
    "from sklearn.neighbors import KNeighborsClassifier"
   ]
  },
  {
   "cell_type": "code",
   "execution_count": 141,
   "id": "129cb19e",
   "metadata": {},
   "outputs": [
    {
     "name": "stdout",
     "output_type": "stream",
     "text": [
      "['age', 'pclass', 'fare']\n",
      "survived\n"
     ]
    }
   ],
   "source": [
    "print(features) \n",
    "print(target)"
   ]
  },
  {
   "cell_type": "markdown",
   "id": "195ffd9c",
   "metadata": {},
   "source": [
    "The machine \"**learning**\","
   ]
  },
  {
   "cell_type": "code",
   "execution_count": 142,
   "id": "6a6f3350",
   "metadata": {},
   "outputs": [],
   "source": [
    "k = 5\n",
    "X = ti_clean[features]\n",
    "y = ti_clean[target]\n",
    "\n",
    "model = KNeighborsClassifier(k).fit(X, y)"
   ]
  },
  {
   "cell_type": "markdown",
   "id": "c09abd79",
   "metadata": {},
   "source": [
    "**Q. Using `model.score(X, y)` compute a score for this model.**"
   ]
  },
  {
   "cell_type": "markdown",
   "id": "57239bc6",
   "metadata": {},
   "source": [
    "**Q. change `k` to 1, 3, 5, etc. and re-run `model.score(X, y)` -- why does the score change**"
   ]
  },
  {
   "cell_type": "markdown",
   "id": "284bc9cf",
   "metadata": {},
   "source": [
    "We have the model, let's predict, "
   ]
  },
  {
   "cell_type": "markdown",
   "id": "bfc9b634",
   "metadata": {},
   "source": [
    "Suppose we encounter four passengers on the titanic, here just sample from the original dataset, "
   ]
  },
  {
   "cell_type": "code",
   "execution_count": 146,
   "id": "c1bafb19",
   "metadata": {},
   "outputs": [
    {
     "data": {
      "text/html": [
       "<div>\n",
       "<style scoped>\n",
       "    .dataframe tbody tr th:only-of-type {\n",
       "        vertical-align: middle;\n",
       "    }\n",
       "\n",
       "    .dataframe tbody tr th {\n",
       "        vertical-align: top;\n",
       "    }\n",
       "\n",
       "    .dataframe thead th {\n",
       "        text-align: right;\n",
       "    }\n",
       "</style>\n",
       "<table border=\"1\" class=\"dataframe\">\n",
       "  <thead>\n",
       "    <tr style=\"text-align: right;\">\n",
       "      <th></th>\n",
       "      <th>age</th>\n",
       "      <th>pclass</th>\n",
       "      <th>fare</th>\n",
       "    </tr>\n",
       "  </thead>\n",
       "  <tbody>\n",
       "    <tr>\n",
       "      <th>506</th>\n",
       "      <td>33.0</td>\n",
       "      <td>2</td>\n",
       "      <td>26.00</td>\n",
       "    </tr>\n",
       "    <tr>\n",
       "      <th>559</th>\n",
       "      <td>36.0</td>\n",
       "      <td>3</td>\n",
       "      <td>17.40</td>\n",
       "    </tr>\n",
       "    <tr>\n",
       "      <th>665</th>\n",
       "      <td>32.0</td>\n",
       "      <td>2</td>\n",
       "      <td>73.50</td>\n",
       "    </tr>\n",
       "    <tr>\n",
       "      <th>142</th>\n",
       "      <td>24.0</td>\n",
       "      <td>3</td>\n",
       "      <td>15.85</td>\n",
       "    </tr>\n",
       "  </tbody>\n",
       "</table>\n",
       "</div>"
      ],
      "text/plain": [
       "      age  pclass   fare\n",
       "506  33.0       2  26.00\n",
       "559  36.0       3  17.40\n",
       "665  32.0       2  73.50\n",
       "142  24.0       3  15.85"
      ]
     },
     "execution_count": 146,
     "metadata": {},
     "output_type": "execute_result"
    }
   ],
   "source": [
    "X_new = ti_clean[features].sample(4)\n",
    "\n",
    "X_new"
   ]
  },
  {
   "cell_type": "markdown",
   "id": "ee2fa632",
   "metadata": {},
   "source": [
    "According to our model,"
   ]
  },
  {
   "cell_type": "code",
   "execution_count": 147,
   "id": "80334841",
   "metadata": {},
   "outputs": [
    {
     "data": {
      "text/plain": [
       "array([1, 1, 1, 1])"
      ]
     },
     "execution_count": 147,
     "metadata": {},
     "output_type": "execute_result"
    }
   ],
   "source": [
    "model.predict(X_new)"
   ]
  },
  {
   "cell_type": "markdown",
   "id": "6ea1926f",
   "metadata": {},
   "source": [
    "Run a few times to see some different predictions, given we are choosing `4` people at random, "
   ]
  },
  {
   "cell_type": "code",
   "execution_count": 158,
   "id": "a871cd3d",
   "metadata": {},
   "outputs": [
    {
     "data": {
      "text/plain": [
       "array([0, 1, 0, 0])"
      ]
     },
     "execution_count": 158,
     "metadata": {},
     "output_type": "execute_result"
    }
   ],
   "source": [
    "model.predict(ti_clean[features].sample(4))"
   ]
  },
  {
   "cell_type": "markdown",
   "id": "f7aea5de",
   "metadata": {},
   "source": [
    "**Q. show predictions for a sample of 10 people.**"
   ]
  },
  {
   "cell_type": "markdown",
   "id": "2880a462",
   "metadata": {},
   "source": [
    "We can \"naively\" evaluate the quality of this model using `.score`, "
   ]
  },
  {
   "cell_type": "code",
   "execution_count": 159,
   "id": "b0c5f88b",
   "metadata": {},
   "outputs": [
    {
     "data": {
      "text/plain": [
       "0.7612359550561798"
      ]
     },
     "execution_count": 159,
     "metadata": {},
     "output_type": "execute_result"
    }
   ],
   "source": [
    "model.score(X, y)"
   ]
  },
  {
   "cell_type": "markdown",
   "id": "10eb7bd8",
   "metadata": {},
   "source": [
    "Here we ask the model to use `X` to make predictions and these are compared to `y`. \n",
    "\n",
    "Note that we are just reusing the original `X`, and `y` -- problem: it has already seen these! (Cheating...)"
   ]
  },
  {
   "cell_type": "markdown",
   "id": "e574e094",
   "metadata": {},
   "source": [
    "This score will almost always be almost 100% *trivially*, because `.score` is simply asking the model to find a point it has already seen, "
   ]
  },
  {
   "cell_type": "code",
   "execution_count": 163,
   "id": "8554f116",
   "metadata": {},
   "outputs": [
    {
     "data": {
      "text/plain": [
       "0.9676966292134831"
      ]
     },
     "execution_count": 163,
     "metadata": {},
     "output_type": "execute_result"
    }
   ],
   "source": [
    "#                        REMEMBER    PREDICT (FIND X, y  == y)\n",
    "KNeighborsClassifier(1).fit(X, y).score(X, y)"
   ]
  },
  {
   "cell_type": "markdown",
   "id": "b8cd2169",
   "metadata": {},
   "source": [
    "To evaluate a model in an unbiased way, we need to score the model on data it hasnt seen,"
   ]
  },
  {
   "cell_type": "code",
   "execution_count": 164,
   "id": "b4f07c66",
   "metadata": {},
   "outputs": [],
   "source": [
    "from sklearn.model_selection import train_test_split"
   ]
  },
  {
   "cell_type": "markdown",
   "id": "6243231e",
   "metadata": {},
   "source": [
    "`train_test_split` partitions the original dataset into four, "
   ]
  },
  {
   "cell_type": "code",
   "execution_count": 165,
   "id": "140ee610",
   "metadata": {},
   "outputs": [],
   "source": [
    "Xtr, Xte, ytr, yte = train_test_split(X, y)"
   ]
  },
  {
   "cell_type": "markdown",
   "id": "752b43a1",
   "metadata": {},
   "source": [
    "The number of points in the training set, by default, is $75\\%$, "
   ]
  },
  {
   "cell_type": "code",
   "execution_count": 169,
   "id": "8447905f",
   "metadata": {
    "scrolled": true
   },
   "outputs": [
    {
     "data": {
      "text/plain": [
       "0.75"
      ]
     },
     "execution_count": 169,
     "metadata": {},
     "output_type": "execute_result"
    }
   ],
   "source": [
    "len(ytr)/len(y) # training / total"
   ]
  },
  {
   "cell_type": "code",
   "execution_count": 170,
   "id": "dbc5c276",
   "metadata": {},
   "outputs": [
    {
     "data": {
      "text/plain": [
       "0.25"
      ]
     },
     "execution_count": 170,
     "metadata": {},
     "output_type": "execute_result"
    }
   ],
   "source": [
    "len(yte)/len(y) # test / total "
   ]
  },
  {
   "cell_type": "markdown",
   "id": "122ff3a4",
   "metadata": {},
   "source": [
    "To get an unbiased score we `.fit` on training and `.score` on testing,"
   ]
  },
  {
   "cell_type": "code",
   "execution_count": 171,
   "id": "21bd2102",
   "metadata": {},
   "outputs": [
    {
     "data": {
      "text/plain": [
       "0.5898876404494382"
      ]
     },
     "execution_count": 171,
     "metadata": {},
     "output_type": "execute_result"
    }
   ],
   "source": [
    "model.fit(Xtr, ytr).score(Xte, yte)"
   ]
  },
  {
   "cell_type": "markdown",
   "id": "1b6140ff",
   "metadata": {},
   "source": [
    "This number is a somewhat more accurate sense of how good the model is, as it is now being tested on points it has **not** seen. "
   ]
  },
  {
   "cell_type": "markdown",
   "id": "40f7fb20",
   "metadata": {},
   "source": [
    "Eg., "
   ]
  },
  {
   "cell_type": "code",
   "execution_count": 174,
   "id": "16700bf2",
   "metadata": {},
   "outputs": [],
   "source": [
    "train_model = model.fit(Xtr, ytr)"
   ]
  },
  {
   "cell_type": "code",
   "execution_count": 173,
   "id": "de275ec2",
   "metadata": {},
   "outputs": [
    {
     "data": {
      "text/html": [
       "<div>\n",
       "<style scoped>\n",
       "    .dataframe tbody tr th:only-of-type {\n",
       "        vertical-align: middle;\n",
       "    }\n",
       "\n",
       "    .dataframe tbody tr th {\n",
       "        vertical-align: top;\n",
       "    }\n",
       "\n",
       "    .dataframe thead th {\n",
       "        text-align: right;\n",
       "    }\n",
       "</style>\n",
       "<table border=\"1\" class=\"dataframe\">\n",
       "  <thead>\n",
       "    <tr style=\"text-align: right;\">\n",
       "      <th></th>\n",
       "      <th>age</th>\n",
       "      <th>pclass</th>\n",
       "      <th>fare</th>\n",
       "    </tr>\n",
       "  </thead>\n",
       "  <tbody>\n",
       "    <tr>\n",
       "      <th>183</th>\n",
       "      <td>1.0</td>\n",
       "      <td>2</td>\n",
       "      <td>39.000</td>\n",
       "    </tr>\n",
       "    <tr>\n",
       "      <th>777</th>\n",
       "      <td>5.0</td>\n",
       "      <td>3</td>\n",
       "      <td>12.475</td>\n",
       "    </tr>\n",
       "    <tr>\n",
       "      <th>757</th>\n",
       "      <td>18.0</td>\n",
       "      <td>2</td>\n",
       "      <td>11.500</td>\n",
       "    </tr>\n",
       "  </tbody>\n",
       "</table>\n",
       "</div>"
      ],
      "text/plain": [
       "      age  pclass    fare\n",
       "183   1.0       2  39.000\n",
       "777   5.0       3  12.475\n",
       "757  18.0       2  11.500"
      ]
     },
     "execution_count": 173,
     "metadata": {},
     "output_type": "execute_result"
    }
   ],
   "source": [
    "Xte.sample(3)"
   ]
  },
  {
   "cell_type": "markdown",
   "id": "63aefe04",
   "metadata": {},
   "source": [
    "ie., this `.predict` samples points from an unseen testing set, "
   ]
  },
  {
   "cell_type": "code",
   "execution_count": 175,
   "id": "24f1cbe7",
   "metadata": {},
   "outputs": [
    {
     "data": {
      "text/plain": [
       "array([1, 0, 0])"
      ]
     },
     "execution_count": 175,
     "metadata": {},
     "output_type": "execute_result"
    }
   ],
   "source": [
    "train_model.predict(Xte.sample(3))"
   ]
  },
  {
   "cell_type": "markdown",
   "id": "ea78581e",
   "metadata": {},
   "source": [
    "### Using Seaborn to Visualize this Process"
   ]
  },
  {
   "cell_type": "code",
   "execution_count": 176,
   "id": "e4cfd2a9",
   "metadata": {},
   "outputs": [],
   "source": [
    "import seaborn as sns"
   ]
  },
  {
   "cell_type": "markdown",
   "id": "892665f4",
   "metadata": {},
   "source": [
    "`.scatterplot`, of a couple of columns to explore/visualise what data we're working with, "
   ]
  },
  {
   "cell_type": "code",
   "execution_count": 178,
   "id": "6ac82e4c",
   "metadata": {},
   "outputs": [
    {
     "data": {
      "text/plain": [
       "<AxesSubplot:xlabel='age', ylabel='fare'>"
      ]
     },
     "execution_count": 178,
     "metadata": {},
     "output_type": "execute_result"
    },
    {
     "data": {
      "image/png": "[encoded data removed]",
      "text/plain": [
       "<Figure size 432x288 with 1 Axes>"
      ]
     },
     "metadata": {
      "needs_background": "light"
     },
     "output_type": "display_data"
    }
   ],
   "source": [
    "sns.scatterplot(x=ti_clean['age'], y=ti_clean['fare'])"
   ]
  },
  {
   "cell_type": "markdown",
   "id": "95ccdac6",
   "metadata": {},
   "source": [
    "We are interested mostly in how our `features` ($X$) related to our `target`, ie., $y$ -- survival. "
   ]
  },
  {
   "cell_type": "markdown",
   "id": "f4edd41b",
   "metadata": {},
   "source": [
    "How much difference is there in the ages of people who survived/died?"
   ]
  },
  {
   "cell_type": "code",
   "execution_count": 180,
   "id": "4bec7fa0",
   "metadata": {},
   "outputs": [
    {
     "data": {
      "text/plain": [
       "<AxesSubplot:xlabel='survived', ylabel='age'>"
      ]
     },
     "execution_count": 180,
     "metadata": {},
     "output_type": "execute_result"
    },
    {
     "data": {
      "image/png": "[encoded data removed]",
      "text/plain": [
       "<Figure size 432x288 with 1 Axes>"
      ]
     },
     "metadata": {
      "needs_background": "light"
     },
     "output_type": "display_data"
    }
   ],
   "source": [
    "sns.barplot(x=ti_clean['survived'], y=ti_clean['age'])"
   ]
  },
  {
   "cell_type": "markdown",
   "id": "640af414",
   "metadata": {},
   "source": [
    "**Q. change this to a violinplot**"
   ]
  },
  {
   "cell_type": "markdown",
   "id": "2f753aec",
   "metadata": {},
   "source": [
    "How do people different in their cabin class?"
   ]
  },
  {
   "cell_type": "code",
   "execution_count": 182,
   "id": "346b94f9",
   "metadata": {},
   "outputs": [
    {
     "data": {
      "text/plain": [
       "<AxesSubplot:xlabel='pclass', ylabel='survived'>"
      ]
     },
     "execution_count": 182,
     "metadata": {},
     "output_type": "execute_result"
    },
    {
     "data": {
      "image/png": "[encoded data removed]",
      "text/plain": [
       "<Figure size 432x288 with 1 Axes>"
      ]
     },
     "metadata": {
      "needs_background": "light"
     },
     "output_type": "display_data"
    }
   ],
   "source": [
    "sns.barplot(x=ti_clean['pclass'], y=ti_clean['survived'])"
   ]
  },
  {
   "cell_type": "markdown",
   "id": "bdc6bb5b",
   "metadata": {},
   "source": [
    "**Q. change this to a violinplot**"
   ]
  },
  {
   "cell_type": "markdown",
   "id": "8a616c72",
   "metadata": {},
   "source": [
    "How do people differ in their fares?"
   ]
  },
  {
   "cell_type": "code",
   "execution_count": 183,
   "id": "a7c46c4d",
   "metadata": {},
   "outputs": [
    {
     "data": {
      "text/plain": [
       "<AxesSubplot:xlabel='survived', ylabel='fare'>"
      ]
     },
     "execution_count": 183,
     "metadata": {},
     "output_type": "execute_result"
    },
    {
     "data": {
      "image/png": "[encoded data removed]",
      "text/plain": [
       "<Figure size 432x288 with 1 Axes>"
      ]
     },
     "metadata": {
      "needs_background": "light"
     },
     "output_type": "display_data"
    }
   ],
   "source": [
    "sns.barplot(x=ti_clean['survived'], y=ti_clean['fare'])"
   ]
  },
  {
   "cell_type": "markdown",
   "id": "3d37490b",
   "metadata": {},
   "source": [
    "**Q. change this to a violinplot**"
   ]
  },
  {
   "cell_type": "markdown",
   "id": "90861ec2",
   "metadata": {},
   "source": [
    "Note the age barplot above, that it reduced all the ages of different survival groups down to a mean -- and the mean heights weren't that different...\n",
    "\n",
    "\n",
    "A `violinplot` exposes the whole shape of the distribution (ie., counts of entries). "
   ]
  },
  {
   "cell_type": "code",
   "execution_count": 184,
   "id": "ed985eca",
   "metadata": {
    "scrolled": true
   },
   "outputs": [
    {
     "data": {
      "text/plain": [
       "<AxesSubplot:xlabel='survived', ylabel='age'>"
      ]
     },
     "execution_count": 184,
     "metadata": {},
     "output_type": "execute_result"
    },
    {
     "data": {
      "image/png": "[encoded data removed]",
      "text/plain": [
       "<Figure size 432x288 with 1 Axes>"
      ]
     },
     "metadata": {
      "needs_background": "light"
     },
     "output_type": "display_data"
    }
   ],
   "source": [
    "sns.violinplot(x=ti_clean['survived'], y=ti_clean['age'])"
   ]
  },
  {
   "cell_type": "markdown",
   "id": "998baee8",
   "metadata": {},
   "source": [
    "Using this graph we can see, along the horiztonal `age = 0 to 5`, there is a much bigger area in the survival graph. This shows that many more young children survived than died. "
   ]
  },
  {
   "cell_type": "code",
   "execution_count": 224,
   "id": "21d079bf",
   "metadata": {},
   "outputs": [
    {
     "data": {
      "text/plain": [
       "<AxesSubplot:xlabel='pclass', ylabel='age'>"
      ]
     },
     "execution_count": 224,
     "metadata": {},
     "output_type": "execute_result"
    },
    {
     "data": {
      "image/png": "[encoded data removed]",
      "text/plain": [
       "<Figure size 432x288 with 1 Axes>"
      ]
     },
     "metadata": {
      "needs_background": "light"
     },
     "output_type": "display_data"
    }
   ],
   "source": [
    "sns.scatterplot(x=ti_clean['pclass'], y=ti_clean['age'], hue=ti_clean['survived'])"
   ]
  },
  {
   "cell_type": "markdown",
   "id": "2feb853d",
   "metadata": {},
   "source": [
    "---"
   ]
  },
  {
   "cell_type": "markdown",
   "id": "28105fd2",
   "metadata": {},
   "source": [
    "## Appendix: Comparing Models"
   ]
  },
  {
   "cell_type": "markdown",
   "id": "3f7d75d9",
   "metadata": {},
   "source": [
    "The best sort of visualization of a classification model requires coloring in the background using predictions for all the points on the graph, "
   ]
  },
  {
   "cell_type": "markdown",
   "id": "b7a73191",
   "metadata": {},
   "source": [
    "<img src=https://scikit-learn.org/0.15/_images/plot_classifier_comparison_0011.png />"
   ]
  }
 ],
 "metadata": {
  "kernelspec": {
   "display_name": "Python 3.9",
   "language": "python",
   "name": "python3"
  },
  "language_info": {
   "codemirror_mode": {
    "name": "ipython",
    "version": 3
   },
   "file_extension": ".py",
   "mimetype": "text/x-python",
   "name": "python",
   "nbconvert_exporter": "python",
   "pygments_lexer": "ipython3",
   "version": "3.9.6"
  }
 },
 "nbformat": 4,
 "nbformat_minor": 5
}
