{
 "cells": [
  {
   "cell_type": "markdown",
   "metadata": {},
   "source": [
    "# Fundamentals of Machine Learning"
   ]
  },
  {
   "cell_type": "markdown",
   "metadata": {},
   "source": [
    "## Introduction"
   ]
  },
  {
   "cell_type": "markdown",
   "metadata": {},
   "source": [
    "---"
   ]
  },
  {
   "cell_type": "markdown",
   "metadata": {},
   "source": [
    "## Overview"
   ]
  },
  {
   "cell_type": "markdown",
   "metadata": {},
   "source": [
    "* Day 1: Introductions, Concepts & Examples\n",
    "    * AM: Whiteboarding & Group Discussion\n",
    "        * Intro to Data Science\n",
    "        * Intro to ML & AI\n",
    "    * PM: Demos & Programming\n",
    "        * Intro to Python\n",
    "* Day 2: Python Data Analysis \n",
    "    * AM: Programming\n",
    "        * Python Programming\n",
    "    * PM: Data Analysis\n",
    "        * Pandas \n",
    "* Day 3: Methodology of Machine Learning\n",
    "    * AM: Whiteboarding \n",
    "        * Machine Learning Algorithms\n",
    "    * PM: Programming\n",
    "        * Machine Learning in Python"
   ]
  },
  {
   "cell_type": "markdown",
   "metadata": {
    "jp-MarkdownHeadingCollapsed": true,
    "tags": []
   },
   "source": [
    "## Admin\n",
    "\n",
    "* 9.30am to c. 4pm (END 4.30pm)\n",
    "* BREAK\n",
    "    * 20m finishing c. 11am \n",
    "    * c. 12pm - finishing 1pm\n",
    "    * 20m finishing c. 2.30pm \n",
    "    * + few more 5min breaks\n",
    "    \n",
    "* tools\n",
    "    * a single tool: Anaconda\n",
    "        * data science toolset + python\n",
    "    * https://repo.anaconda.com/archive/Anaconda3-2021.05-Windows-x86_64.exe\n",
    "    * second option\n",
    "        * connection to remote machine with anaconda installed\n",
    "    * third option\n",
    "        * Jupyter online\n",
    "        * https://jupyter.org/try-jupyter/lab/\n",
    "* courseware\n",
    "    * Found at https://github.com/qadaai/courseware-pracml/tree/main/TH_PUB_FunML_2022_04_20\n",
    "    * daily updates\n",
    "    * you need anaconda to open/use/etc. the courseware\n",
    "    * An exported version will be created each day & released"
   ]
  },
  {
   "cell_type": "markdown",
   "metadata": {},
   "source": [
    "## Steps to Using Anaconda\n",
    "\n",
    "1. OPEN \"Anaconda Navigator\" in Start Menu\n",
    "2. LAUNCH \"Jupyter Notebook\"\n",
    "3. GOTO  your downloads folder\n",
    "4. OPEN the courseware .zip file\n",
    "5. EXTRACT ALL to your downloads folder\n",
    "6. RETURN to Jupyter Notebook (browser window)\n",
    "7. BROWSE to your Downloads folder\n",
    "    * ie., click on the folder called Downloads\n",
    "8. OPEN the courseware folder"
   ]
  },
  {
   "cell_type": "markdown",
   "metadata": {
    "tags": []
   },
   "source": [
    "## Who am I?\n",
    "\n",
    "My details:\n",
    "* Thomas Holmes\n",
    "* tholmes@qa.com\n",
    "* Senior Technical Learning Specialist\n",
    "    * Data & Software Instructor"
   ]
  },
  {
   "cell_type": "markdown",
   "metadata": {},
   "source": [
    "My background:\n",
    "\n",
    "* Scotland\n",
    "* BSc Hons maths, wrote paper on Liquid Crystals\n",
    "* MSc Computer Science, dissertation statistically analysed internet trace files. Then build ML models aiming to classify elephant & mice flows.\n",
    "* Data Analytics consultant in Med Tech, mapping symptoms to medication & designing client reports.\n",
    "* Data Science trainer at QA, covering Data Science, Stats, ML, Big Data, Python, R, Scala\n",
    "* Data Analytics Instructor for Firebrand Training, including EMC-DSA cert course, redesign of Data Analysis apprenticeship & R courses\n",
    "* Now I am (back) here & teach:\n",
    "    * Python\n",
    "    * Data Science\n",
    "    * ML\n",
    "    * Big Data\n",
    "    * R\n",
    "    * Statistics"
   ]
  },
  {
   "cell_type": "markdown",
   "metadata": {},
   "source": [
    "My Hobbies & Interests:\n",
    "\n",
    "* Food of the world, especially China & rest of Asia\n",
    "* Literature, non-fiction & fiction equally. Currently: pause, Previously: Rosemary's Baby, Mindf\\*ck (10/10)\n",
    "* Swimming, bit of cycling\n",
    "* Maths, Coding\n",
    "* Cinema, theatre, world travel"
   ]
  },
  {
   "cell_type": "markdown",
   "metadata": {},
   "source": [
    "* What's your name?\n",
    "* What's your Role?\n",
    "* What's your background in..\n",
    "    * stats, data, **python**\n",
    "* Why are you attending this course?\n",
    "    * What do you expect from this course?\n",
    "    * What are you looking to get out of this course?\n",
    "* Any hobbies/interests?"
   ]
  },
  {
   "cell_type": "markdown",
   "metadata": {},
   "source": [
    "---"
   ]
  },
  {
   "cell_type": "markdown",
   "metadata": {},
   "source": [
    "### Asante\n",
    "* Soft Eng, Big Data, new Py\n",
    "* Ingested data, what to do?\n",
    "* Basketball, .. movement"
   ]
  },
  {
   "cell_type": "markdown",
   "metadata": {},
   "source": [
    "### Geert\n",
    "* LAw enforcement, Intelliegence -> Data quality/BI\n",
    "* Stats (crim), Microdegree in ML, Stepping stone -> SQL + Java\n",
    "* Chaos, runnign, reading"
   ]
  },
  {
   "cell_type": "markdown",
   "metadata": {},
   "source": [
    "### Dan\n",
    "* Insurance, cent IT, finance data warehouse\n",
    "* SQL, Data Int, Warehouse -> C# + dev\n",
    "* Data Quality, ML for issue detection\n",
    "* Chaos, crossfit, messing with tech"
   ]
  },
  {
   "cell_type": "markdown",
   "metadata": {},
   "source": [
    "### Ken\n",
    "* Resource Software Engineer, Bank analytics (Data Sci Eng)\n",
    "* What is ML\n",
    "* Walking & Photography"
   ]
  },
  {
   "cell_type": "markdown",
   "metadata": {},
   "source": [
    "### Nathan\n",
    "* Fullstack Dev, Microservices, Comp Sci + bit of ML/AI\n",
    "* Cinema, sports, games"
   ]
  },
  {
   "cell_type": "markdown",
   "metadata": {},
   "source": [
    "### Rosy\n",
    "* Graduate Tech Consultant\n",
    "* Chem Eng -> Material Sci w/ Py -> Text analysis/Extraction/NLP\n",
    "* Formal understanding of Py with ML, pandas, numpy\n",
    "* wild swimming + climbing"
   ]
  },
  {
   "cell_type": "code",
   "execution_count": null,
   "metadata": {},
   "outputs": [],
   "source": []
  }
 ],
 "metadata": {
  "kernelspec": {
   "display_name": "Python 3 (ipykernel)",
   "language": "python",
   "name": "python3"
  },
  "language_info": {
   "codemirror_mode": {
    "name": "ipython",
    "version": 3
   },
   "file_extension": ".py",
   "mimetype": "text/x-python",
   "name": "python",
   "nbconvert_exporter": "python",
   "pygments_lexer": "ipython3",
   "version": "3.9.7"
  }
 },
 "nbformat": 4,
 "nbformat_minor": 4
}
