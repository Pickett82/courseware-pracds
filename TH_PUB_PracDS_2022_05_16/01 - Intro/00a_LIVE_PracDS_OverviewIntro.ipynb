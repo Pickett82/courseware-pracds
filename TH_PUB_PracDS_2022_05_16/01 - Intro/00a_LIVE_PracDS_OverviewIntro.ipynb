{
 "cells": [
  {
   "cell_type": "markdown",
   "id": "85df9b74",
   "metadata": {},
   "source": [
    "# Practical Data Science with Python"
   ]
  },
  {
   "cell_type": "markdown",
   "id": "52938a6a",
   "metadata": {},
   "source": [
    "* Introduce Instructor\n",
    "* Introduce Learners\n",
    "* Introduce Course\n",
    "    * Admin\n",
    "    * Pre-req\n",
    "    * Courseware\n",
    "    * Tools"
   ]
  },
  {
   "cell_type": "markdown",
   "id": "08bd6ca3",
   "metadata": {},
   "source": [
    "## Overview: Novice Programmers\n",
    "\n",
    "\n",
    "* Day 1: Introductions\n",
    "    * Introductions, Concepts, Whiteboarding\n",
    "    * Python Programming\n",
    "* Day 2: Python Programming\n",
    "* Day 3: Exploratory Data Analysis / Data Science\n",
    "* Day 4: Machine Learning\n",
    "* Day 5: Big Data"
   ]
  },
  {
   "cell_type": "markdown",
   "id": "ae454869",
   "metadata": {},
   "source": [
    "## Overview: Experienced Programmers\n",
    "\n",
    "\n",
    "* Day 1: Introductions\n",
    "    * Introductions, Concepts, Whiteboarding\n",
    "    * Python Programming via ML Examples\n",
    "* Day 2: Machine Learning & Python\n",
    "    * Whiteboard review: Machine Learning Examples\n",
    "    * Advanced Python: Functions, Libraries & Comprehensions\n",
    "    * Machine Learning Algorithms\n",
    "* Day 3: Methodology\n",
    "    * Machine Learning Methodology\n",
    "    * Exploratory Data Analysis with Pandas\n",
    "* Day 4: Ethics & EDA\n",
    "    * Data Science & Business\n",
    "    * Ethics & Governance\n",
    "    * Network Science\n",
    "* Day 5: Big Data\n",
    "    * Intro to Big Data\n",
    "    * Event Systems (& ML)\n",
    "    * EXTRA: Overview Deep Learning & Neural Networks"
   ]
  },
  {
   "cell_type": "markdown",
   "id": "d7ae3042",
   "metadata": {},
   "source": [
    "## Approach\n",
    "\n",
    "* Whiteboards\n",
    "* Notebooks\n",
    "    * Python Programming Demonstrations\n",
    "* Inidividual Exercises\n",
    "    * One or two group / breakout room exercises"
   ]
  },
  {
   "cell_type": "markdown",
   "id": "42a4d1ac",
   "metadata": {},
   "source": [
    "## Admin\n",
    "\n",
    "* 9.30am to 4.30pm \n",
    "* Breaks:\n",
    "    * c. 11am\n",
    "    * c. 12pm - 1pm\n",
    "    * c. 2.30pm\n",
    "    * +5min occasionally (on-request)\n",
    "    \n",
    "    \n",
    "## Courseware\n",
    "\n",
    "* github link\n",
    "\n",
    "## Tools\n",
    "\n",
    "* anaconda / jupyter notebook "
   ]
  },
  {
   "cell_type": "markdown",
   "id": "d1e4a919",
   "metadata": {},
   "source": [
    "---"
   ]
  },
  {
   "cell_type": "markdown",
   "id": "41e30b18",
   "metadata": {},
   "source": [
    "* Name\n",
    "* Background / Prior Experience\n",
    "* **What are you looking to get out of the course?**\n",
    "* Hobby"
   ]
  },
  {
   "cell_type": "markdown",
   "id": "9269df2b",
   "metadata": {},
   "source": [
    "* Michael Burgess\n",
    "    * QA 5/6yr, IT Contractor 4/5yr (defence, telephony, fintech), Physics 7yr\n",
    "    * Head of Cap. for Data, Analytics & AI\n",
    "    * Philosophy, Arguing, Youtube, Podcasts... \n"
   ]
  }
 ],
 "metadata": {
  "kernelspec": {
   "display_name": "Python 3.9",
   "language": "python",
   "name": "python3"
  },
  "language_info": {
   "codemirror_mode": {
    "name": "ipython",
    "version": 3
   },
   "file_extension": ".py",
   "mimetype": "text/x-python",
   "name": "python",
   "nbconvert_exporter": "python",
   "pygments_lexer": "ipython3",
   "version": "3.9.6"
  }
 },
 "nbformat": 4,
 "nbformat_minor": 5
}
