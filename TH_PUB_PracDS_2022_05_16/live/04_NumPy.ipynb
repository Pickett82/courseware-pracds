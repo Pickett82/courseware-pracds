{
 "cells": [
  {
   "cell_type": "markdown",
   "id": "7d48d6b7-39b2-4a12-991c-193d83c7324d",
   "metadata": {},
   "source": [
    "## Python Data science Libraries"
   ]
  },
  {
   "cell_type": "markdown",
   "id": "2ac357c9-070b-4726-91bd-c26452e538d8",
   "metadata": {},
   "source": [
    "* NumPy\n",
    "    * fast lists ( aka. arrays)\n",
    "* Pandas\n",
    "    * provides single-machine dataframes (aka. tables)\n",
    "* Seaborn & matplotlib\n",
    "    * visualization\n",
    "* sklearn\n",
    "    * Machine Leraning Library\n",
    "    \n",
    "\n",
    "\n",
    "* Spark\n",
    "    * query over distributed file systems \n",
    "* plotly\n",
    "    * interactive visuals\n",
    "* scipy, sklearn, tensorflow, pytorch, statsmodels\n",
    "    * scientific & statistical programming\n",
    "* Aside:\n",
    "    * NB. sqlite3 is written in C"
   ]
  },
  {
   "cell_type": "markdown",
   "id": "f298da8a-08be-43a4-8d67-3f60abe3fc5b",
   "metadata": {},
   "source": [
    "# Introduction to NumPy"
   ]
  },
  {
   "cell_type": "markdown",
   "id": "ce74b964-96c4-4657-8332-92e6c2eaa853",
   "metadata": {},
   "source": [
    "Python alone is slow"
   ]
  },
  {
   "cell_type": "code",
   "execution_count": 1,
   "id": "21207bf2-9156-42ef-af0c-ccd209a9ed6e",
   "metadata": {},
   "outputs": [],
   "source": [
    "from random import random"
   ]
  },
  {
   "cell_type": "code",
   "execution_count": 2,
   "id": "aa2f715e-1805-4f2c-ae9b-30e614517325",
   "metadata": {},
   "outputs": [],
   "source": [
    "dataset = []\n",
    "\n",
    "for _ in range(1_000_000):\n",
    "    dataset.append(random())"
   ]
  },
  {
   "cell_type": "code",
   "execution_count": 5,
   "id": "481d45ea-f501-4c01-8536-4541d518e2e7",
   "metadata": {},
   "outputs": [
    {
     "data": {
      "text/plain": [
       "[0.8672591442681461,\n",
       " 0.2065241313994416,\n",
       " 0.2346035655805635,\n",
       " 0.3618896034845297,\n",
       " 0.33853662053052025]"
      ]
     },
     "execution_count": 5,
     "metadata": {},
     "output_type": "execute_result"
    }
   ],
   "source": [
    "dataset[-5:]"
   ]
  },
  {
   "cell_type": "code",
   "execution_count": 6,
   "id": "06980b88-19c2-4cb5-a902-9dc71adb3d1a",
   "metadata": {},
   "outputs": [
    {
     "name": "stdout",
     "output_type": "stream",
     "text": [
      "65.2 ms ± 1.92 ms per loop (mean ± std. dev. of 7 runs, 10 loops each)\n"
     ]
    }
   ],
   "source": [
    "%%timeit\n",
    "   \n",
    "total = 0\n",
    "\n",
    "for x in dataset:\n",
    "    total += x"
   ]
  },
  {
   "cell_type": "code",
   "execution_count": 7,
   "id": "3ba18a11-4c21-4237-bea5-f725acb08654",
   "metadata": {},
   "outputs": [
    {
     "name": "stdout",
     "output_type": "stream",
     "text": [
      "8.24 ms ± 664 µs per loop (mean ± std. dev. of 7 runs, 100 loops each)\n"
     ]
    }
   ],
   "source": [
    "%%timeit\n",
    "\n",
    "sum(dataset)"
   ]
  },
  {
   "cell_type": "code",
   "execution_count": 8,
   "id": "fdda0148-26ea-466a-aea5-40f8edb65456",
   "metadata": {},
   "outputs": [],
   "source": [
    "import numpy as np"
   ]
  },
  {
   "cell_type": "code",
   "execution_count": 9,
   "id": "1fcb7e72-e3b2-4aa6-bf51-93f505e31390",
   "metadata": {},
   "outputs": [],
   "source": [
    "ds = np.random.uniform(0, 1, 1_000_000)"
   ]
  },
  {
   "cell_type": "code",
   "execution_count": 10,
   "id": "ee16c956-ce07-4657-9082-3607ad828097",
   "metadata": {},
   "outputs": [
    {
     "data": {
      "text/plain": [
       "array([0.30738247, 0.9631745 , 0.90721054, 0.22760025, 0.61021491])"
      ]
     },
     "execution_count": 10,
     "metadata": {},
     "output_type": "execute_result"
    }
   ],
   "source": [
    "ds[:5]"
   ]
  },
  {
   "cell_type": "code",
   "execution_count": 11,
   "id": "18218220-8a91-4ba9-9e71-6f61b0807d6a",
   "metadata": {},
   "outputs": [
    {
     "name": "stdout",
     "output_type": "stream",
     "text": [
      "1.31 ms ± 180 µs per loop (mean ± std. dev. of 7 runs, 1000 loops each)\n"
     ]
    }
   ],
   "source": [
    "%%timeit\n",
    "\n",
    "ds.sum()"
   ]
  },
  {
   "cell_type": "code",
   "execution_count": 13,
   "id": "77845000-52fd-4b3f-b6bd-a73430fe370e",
   "metadata": {},
   "outputs": [
    {
     "data": {
      "text/plain": [
       "0.15898058252427186"
      ]
     },
     "execution_count": 13,
     "metadata": {},
     "output_type": "execute_result"
    }
   ],
   "source": [
    "1.31/8.24"
   ]
  },
  {
   "cell_type": "markdown",
   "id": "89de6e21-9fee-4b07-a640-e57e0563061f",
   "metadata": {},
   "source": [
    "### NumPy is essentially an api"
   ]
  },
  {
   "cell_type": "markdown",
   "id": "7eddbc62-8ed6-49cc-acc7-7263c2adf944",
   "metadata": {},
   "source": [
    "It gives access to well written C & FORTRAN code."
   ]
  },
  {
   "cell_type": "code",
   "execution_count": 14,
   "id": "3f1e30c2-f99e-4271-9b9c-86d4190424f6",
   "metadata": {},
   "outputs": [
    {
     "data": {
      "text/plain": [
       "10.0"
      ]
     },
     "execution_count": 14,
     "metadata": {},
     "output_type": "execute_result"
    }
   ],
   "source": [
    "import sys\n",
    "\n",
    "100 * round(1 -  ds.nbytes / sys.getsizeof(dataset), 1)"
   ]
  },
  {
   "cell_type": "markdown",
   "id": "f1d6fd03-5059-4bbc-bcb6-629cbeb7bf86",
   "metadata": {},
   "source": [
    "## Using NumPy"
   ]
  },
  {
   "cell_type": "code",
   "execution_count": 16,
   "id": "8687eec7-afd9-4103-aed6-c14eb24ce6b2",
   "metadata": {},
   "outputs": [],
   "source": [
    "x_age = [18, 22, 33, 41]\n",
    "\n",
    "x = np.array(x_age)"
   ]
  },
  {
   "cell_type": "code",
   "execution_count": 17,
   "id": "134bb6c2-8b0b-4ebc-aa2b-c95014efeab6",
   "metadata": {},
   "outputs": [
    {
     "data": {
      "text/plain": [
       "array([18, 22, 33, 41])"
      ]
     },
     "execution_count": 17,
     "metadata": {},
     "output_type": "execute_result"
    }
   ],
   "source": [
    "x"
   ]
  },
  {
   "cell_type": "code",
   "execution_count": 18,
   "id": "aac634cd-d063-457e-b33e-3d470c13c1ee",
   "metadata": {},
   "outputs": [
    {
     "data": {
      "text/plain": [
       "28.5"
      ]
     },
     "execution_count": 18,
     "metadata": {},
     "output_type": "execute_result"
    }
   ],
   "source": [
    "x.mean()"
   ]
  },
  {
   "cell_type": "code",
   "execution_count": 20,
   "id": "1b1d60be-8c9c-4581-8aef-5e876d8d1bf4",
   "metadata": {},
   "outputs": [
    {
     "data": {
      "text/plain": [
       "[0, 2, 4, 6, 8]"
      ]
     },
     "execution_count": 20,
     "metadata": {},
     "output_type": "execute_result"
    }
   ],
   "source": [
    "list(range(0, 10, 2))"
   ]
  },
  {
   "cell_type": "code",
   "execution_count": 22,
   "id": "da029160-a528-42b4-a851-990988fe32b7",
   "metadata": {},
   "outputs": [
    {
     "name": "stdout",
     "output_type": "stream",
     "text": [
      "[0 2 4 6 8]\n"
     ]
    }
   ],
   "source": [
    "print(np.arange(0, 10, 2))"
   ]
  },
  {
   "cell_type": "code",
   "execution_count": 24,
   "id": "8ba45b55-611a-4561-b350-a36450afbf2a",
   "metadata": {},
   "outputs": [
    {
     "name": "stdout",
     "output_type": "stream",
     "text": [
      "['Heads' 'Heads' 'Heads' 'Heads' 'Heads' 'Tails' 'Tails' 'Tails' 'Tails'\n",
      " 'Tails']\n"
     ]
    }
   ],
   "source": [
    "print(np.repeat([\"Heads\", \"Tails\"], 5))"
   ]
  },
  {
   "cell_type": "code",
   "execution_count": 27,
   "id": "b31c70ba-ab11-42c4-ba3b-60891edede46",
   "metadata": {},
   "outputs": [
    {
     "data": {
      "text/plain": [
       "array([6, 6, 6, 6, 6, 6, 6, 6, 6, 6])"
      ]
     },
     "execution_count": 27,
     "metadata": {},
     "output_type": "execute_result"
    }
   ],
   "source": [
    "np.random.choice([1,2,3,4,5,6],10, p=(0,0,0,0,0,1))"
   ]
  },
  {
   "cell_type": "markdown",
   "id": "89093436-d5e6-447a-bc34-2d2a8c95743a",
   "metadata": {},
   "source": [
    "Simulate ages of people in a school year"
   ]
  },
  {
   "cell_type": "code",
   "execution_count": 28,
   "id": "9d1ce7e9-ef7e-455a-be80-e07b117bb0e1",
   "metadata": {},
   "outputs": [],
   "source": [
    "x_age = np.random.normal(16, 1, 20)"
   ]
  },
  {
   "cell_type": "code",
   "execution_count": 29,
   "id": "588e53c0-c282-42ac-a13e-5839d8239cb2",
   "metadata": {},
   "outputs": [
    {
     "data": {
      "text/plain": [
       "array([16.66022306, 17.01071247, 14.87633762, 16.49979209, 16.41968887,\n",
       "       15.12990257, 16.46311003, 17.21601865, 16.32791911, 15.76172784,\n",
       "       14.13062403, 15.36792355, 17.22087214, 15.81477596, 17.48527044,\n",
       "       17.52957057, 16.03544614, 15.81893965, 15.65788477, 13.26519128])"
      ]
     },
     "execution_count": 29,
     "metadata": {},
     "output_type": "execute_result"
    }
   ],
   "source": [
    "x_age"
   ]
  },
  {
   "cell_type": "code",
   "execution_count": 30,
   "id": "f459b280-b3ea-453f-913f-fd70f07304a8",
   "metadata": {},
   "outputs": [],
   "source": [
    "ls_age = [16.66022306, 17.01071247, 14.87633762, 16.49979209, 16.41968887,\n",
    "       15.12990257, 16.46311003, 17.21601865, 16.32791911, 15.76172784,\n",
    "       14.13062403, 15.36792355, 17.22087214, 15.81477596, 17.48527044,\n",
    "       17.52957057, 16.03544614, 15.81893965, 15.65788477, 13.26519128]"
   ]
  },
  {
   "cell_type": "code",
   "execution_count": 31,
   "id": "440e60c1-227a-4a4c-a048-61c2858eb659",
   "metadata": {},
   "outputs": [],
   "source": [
    "score = []\n",
    "for element in ls_age:\n",
    "    score.append(3 * element + 1)"
   ]
  },
  {
   "cell_type": "code",
   "execution_count": 33,
   "id": "bfb04b8a-75f7-43e8-a3e6-0f955fab47a6",
   "metadata": {},
   "outputs": [
    {
     "data": {
      "text/plain": [
       "[50.98066918,\n",
       " 52.032137410000004,\n",
       " 45.629012859999996,\n",
       " 50.49937627,\n",
       " 50.259066610000005,\n",
       " 46.38970771,\n",
       " 50.38933009,\n",
       " 52.64805595,\n",
       " 49.98375733,\n",
       " 48.285183520000004,\n",
       " 43.39187209,\n",
       " 47.10377065,\n",
       " 52.662616420000006,\n",
       " 48.44432788,\n",
       " 53.45581132,\n",
       " 53.58871171,\n",
       " 49.10633842,\n",
       " 48.45681895,\n",
       " 47.97365431,\n",
       " 40.79557384]"
      ]
     },
     "execution_count": 33,
     "metadata": {},
     "output_type": "execute_result"
    }
   ],
   "source": [
    "[3 * element + 1 for element in ls_age]"
   ]
  },
  {
   "cell_type": "code",
   "execution_count": 32,
   "id": "fb7eafa4-4cc6-49e4-b8b6-7da93dd2dadc",
   "metadata": {},
   "outputs": [
    {
     "data": {
      "text/plain": [
       "[50.98066918,\n",
       " 52.032137410000004,\n",
       " 45.629012859999996,\n",
       " 50.49937627,\n",
       " 50.259066610000005,\n",
       " 46.38970771,\n",
       " 50.38933009,\n",
       " 52.64805595,\n",
       " 49.98375733,\n",
       " 48.285183520000004,\n",
       " 43.39187209,\n",
       " 47.10377065,\n",
       " 52.662616420000006,\n",
       " 48.44432788,\n",
       " 53.45581132,\n",
       " 53.58871171,\n",
       " 49.10633842,\n",
       " 48.45681895,\n",
       " 47.97365431,\n",
       " 40.79557384]"
      ]
     },
     "execution_count": 32,
     "metadata": {},
     "output_type": "execute_result"
    }
   ],
   "source": [
    "score"
   ]
  },
  {
   "cell_type": "markdown",
   "id": "32732846-50ff-4493-8589-2e9adaff706c",
   "metadata": {},
   "source": [
    "Numpy implements **vectorisation** by default"
   ]
  },
  {
   "cell_type": "code",
   "execution_count": 34,
   "id": "aa1bf721-c7b2-44a4-8645-601ff9f89090",
   "metadata": {},
   "outputs": [
    {
     "data": {
      "text/plain": [
       "array([50.98066917, 52.03213741, 45.62901287, 50.49937628, 50.25906662,\n",
       "       46.3897077 , 50.38933009, 52.64805596, 49.98375732, 48.28518351,\n",
       "       43.39187208, 47.10377064, 52.66261643, 48.44432789, 53.45581133,\n",
       "       53.58871171, 49.10633843, 48.45681895, 47.9736543 , 40.79557385])"
      ]
     },
     "execution_count": 34,
     "metadata": {},
     "output_type": "execute_result"
    }
   ],
   "source": [
    "3 * x_age + 1"
   ]
  },
  {
   "cell_type": "markdown",
   "id": "fee34987-4f9b-4f33-bd4d-606a7dfd4bab",
   "metadata": {},
   "source": [
    "## This is a sequence"
   ]
  },
  {
   "cell_type": "code",
   "execution_count": 36,
   "id": "9594ff29-9062-43ad-836f-31cf6f4396b0",
   "metadata": {},
   "outputs": [
    {
     "data": {
      "text/plain": [
       "(20,)"
      ]
     },
     "execution_count": 36,
     "metadata": {},
     "output_type": "execute_result"
    }
   ],
   "source": [
    "x_age.shape"
   ]
  },
  {
   "cell_type": "code",
   "execution_count": 38,
   "id": "29f6f22b-4c1b-492d-9bc8-f257cb0d7c69",
   "metadata": {},
   "outputs": [
    {
     "data": {
      "text/plain": [
       "20"
      ]
     },
     "execution_count": 38,
     "metadata": {},
     "output_type": "execute_result"
    }
   ],
   "source": [
    "len(x_age)"
   ]
  },
  {
   "cell_type": "code",
   "execution_count": 42,
   "id": "2c2ec9a6-cc5c-47ef-a499-814cab5bdce7",
   "metadata": {},
   "outputs": [
    {
     "data": {
      "text/plain": [
       "array([16.66022306])"
      ]
     },
     "execution_count": 42,
     "metadata": {},
     "output_type": "execute_result"
    }
   ],
   "source": [
    "x_age[[0]]"
   ]
  },
  {
   "cell_type": "code",
   "execution_count": 40,
   "id": "0c6b84a0-8917-4a7d-86b4-b30380c778a9",
   "metadata": {},
   "outputs": [
    {
     "data": {
      "text/plain": [
       "array([16.66022306, 17.01071247])"
      ]
     },
     "execution_count": 40,
     "metadata": {},
     "output_type": "execute_result"
    }
   ],
   "source": [
    "x_age[0:2]"
   ]
  },
  {
   "cell_type": "code",
   "execution_count": 41,
   "id": "b6c69e1e-1988-42b0-9df6-b17b7e9b48c6",
   "metadata": {},
   "outputs": [
    {
     "data": {
      "text/plain": [
       "13.26519128333291"
      ]
     },
     "execution_count": 41,
     "metadata": {},
     "output_type": "execute_result"
    }
   ],
   "source": [
    "x_age[-1]"
   ]
  },
  {
   "cell_type": "code",
   "execution_count": 54,
   "id": "baf6fa4e-15a4-4b5c-b2dd-5c2ef7c8c0da",
   "metadata": {},
   "outputs": [
    {
     "name": "stdout",
     "output_type": "stream",
     "text": [
      "[16.66022306 16.49979209 16.46311003 15.76172784 17.22087214 17.52957057\n",
      " 15.65788477]\n"
     ]
    }
   ],
   "source": [
    "print(x_age[::3])"
   ]
  },
  {
   "cell_type": "markdown",
   "id": "f76b6062-5086-43d1-a836-11bd4bff341c",
   "metadata": {},
   "source": [
    "## What Are Matrices"
   ]
  },
  {
   "cell_type": "code",
   "execution_count": 51,
   "id": "4351207f-2a9e-46f8-ae56-d735fc73cf55",
   "metadata": {},
   "outputs": [],
   "source": [
    "M = np.array([\n",
    "    (1000, 12, +1), #eg., Loan, Duration, Settle\n",
    "    (2000, 9, -1), #eg., Loan, Duration, Settle  \n",
    "    (3000, 6, -1), #eg., Loan, Duration, Settle  \n",
    "])"
   ]
  },
  {
   "cell_type": "code",
   "execution_count": 53,
   "id": "570a4abf-0319-440b-9dcd-4b50148a387f",
   "metadata": {},
   "outputs": [
    {
     "name": "stdout",
     "output_type": "stream",
     "text": [
      "[[1000   12    1]\n",
      " [2000    9   -1]\n",
      " [3000    6   -1]]\n"
     ]
    }
   ],
   "source": [
    "print(M)"
   ]
  },
  {
   "cell_type": "markdown",
   "id": "8835ce42-aa69-40be-8420-0121b6663029",
   "metadata": {},
   "source": [
    "`M[row-index, col-index]`"
   ]
  },
  {
   "cell_type": "code",
   "execution_count": 55,
   "id": "92b9651a-2317-486a-8494-4bfc24f754cf",
   "metadata": {},
   "outputs": [
    {
     "data": {
      "text/plain": [
       "1000"
      ]
     },
     "execution_count": 55,
     "metadata": {},
     "output_type": "execute_result"
    }
   ],
   "source": [
    "M[0, 0]"
   ]
  },
  {
   "cell_type": "code",
   "execution_count": 57,
   "id": "30aea16c-8426-4ab3-aa89-e68b9a199a8d",
   "metadata": {},
   "outputs": [
    {
     "data": {
      "text/plain": [
       "array([-1, -1])"
      ]
     },
     "execution_count": 57,
     "metadata": {},
     "output_type": "execute_result"
    }
   ],
   "source": [
    "M[1:3, -1]"
   ]
  },
  {
   "cell_type": "code",
   "execution_count": 62,
   "id": "042daa23-a2b3-4d54-b665-53bd00ad18e9",
   "metadata": {},
   "outputs": [
    {
     "data": {
      "text/plain": [
       "(3, 3)"
      ]
     },
     "execution_count": 62,
     "metadata": {},
     "output_type": "execute_result"
    }
   ],
   "source": [
    "M.shape"
   ]
  },
  {
   "cell_type": "markdown",
   "id": "7c5b5361-6b8c-4ff5-92fa-324ab6231f15",
   "metadata": {},
   "source": [
    "## Vectors"
   ]
  },
  {
   "cell_type": "code",
   "execution_count": 59,
   "id": "5421ec77-b721-4b1f-a108-45b41b58a0c3",
   "metadata": {},
   "outputs": [],
   "source": [
    "x_profit = np.array([\n",
    "    [10],\n",
    "    [11],\n",
    "    [12]\n",
    "])"
   ]
  },
  {
   "cell_type": "code",
   "execution_count": 61,
   "id": "0c76b3d6-5de1-439b-9776-e19807634a8d",
   "metadata": {},
   "outputs": [
    {
     "name": "stdout",
     "output_type": "stream",
     "text": [
      "[[10]\n",
      " [11]\n",
      " [12]]\n"
     ]
    }
   ],
   "source": [
    "print(x_profit)"
   ]
  },
  {
   "cell_type": "code",
   "execution_count": 63,
   "id": "4b1e5426-2367-4431-a7fb-83b653c54392",
   "metadata": {},
   "outputs": [
    {
     "data": {
      "text/plain": [
       "(3, 1)"
      ]
     },
     "execution_count": 63,
     "metadata": {},
     "output_type": "execute_result"
    }
   ],
   "source": [
    "x_profit.shape"
   ]
  },
  {
   "cell_type": "code",
   "execution_count": 65,
   "id": "03f1bd34-6ea7-4c57-b909-815e32776789",
   "metadata": {},
   "outputs": [
    {
     "data": {
      "text/plain": [
       "10"
      ]
     },
     "execution_count": 65,
     "metadata": {},
     "output_type": "execute_result"
    }
   ],
   "source": [
    "x_profit[0, 0]"
   ]
  },
  {
   "cell_type": "code",
   "execution_count": 70,
   "id": "54b63cee-d932-4558-be63-55c78438aee3",
   "metadata": {},
   "outputs": [
    {
     "data": {
      "text/plain": [
       "array([[10],\n",
       "       [11],\n",
       "       [12]])"
      ]
     },
     "execution_count": 70,
     "metadata": {},
     "output_type": "execute_result"
    }
   ],
   "source": [
    "x_profit.reshape(-1,1)"
   ]
  },
  {
   "cell_type": "markdown",
   "id": "7ad52a2a-6172-4d83-8173-43f2cf85e94c",
   "metadata": {},
   "source": [
    "## Comparisons are vectorised"
   ]
  },
  {
   "cell_type": "code",
   "execution_count": 72,
   "id": "c0ad0412-49e5-43bb-b070-8cc40b2099fe",
   "metadata": {},
   "outputs": [
    {
     "data": {
      "text/plain": [
       "array([False, False,  True, False, False,  True, False, False, False,\n",
       "        True,  True,  True, False,  True, False, False, False,  True,\n",
       "        True,  True])"
      ]
     },
     "execution_count": 72,
     "metadata": {},
     "output_type": "execute_result"
    }
   ],
   "source": [
    "x_age < 16"
   ]
  },
  {
   "cell_type": "code",
   "execution_count": 73,
   "id": "309aadb5-a229-4f14-97b6-f109ff87745d",
   "metadata": {},
   "outputs": [
    {
     "data": {
      "text/plain": [
       "(array([ 2,  5,  9, 10, 11, 13, 17, 18, 19], dtype=int64),)"
      ]
     },
     "execution_count": 73,
     "metadata": {},
     "output_type": "execute_result"
    }
   ],
   "source": [
    "np.where(x_age < 16)"
   ]
  },
  {
   "cell_type": "code",
   "execution_count": 74,
   "id": "940744e8-e417-42eb-a06c-9b95459692ee",
   "metadata": {},
   "outputs": [
    {
     "data": {
      "text/plain": [
       "array([14.87633762, 15.12990257, 15.76172784, 14.13062403, 15.36792355,\n",
       "       15.81477596, 15.81893965, 15.65788477, 13.26519128])"
      ]
     },
     "execution_count": 74,
     "metadata": {},
     "output_type": "execute_result"
    }
   ],
   "source": [
    "x_age[np.where(x_age < 16)]"
   ]
  },
  {
   "cell_type": "code",
   "execution_count": 75,
   "id": "317aba25-36aa-4625-b845-3c130f5e5f09",
   "metadata": {},
   "outputs": [
    {
     "data": {
      "text/plain": [
       "array([14.87633762, 15.12990257, 15.76172784, 14.13062403, 15.36792355,\n",
       "       15.81477596, 15.81893965, 15.65788477, 13.26519128])"
      ]
     },
     "execution_count": 75,
     "metadata": {},
     "output_type": "execute_result"
    }
   ],
   "source": [
    "x_age[x_age < 16]"
   ]
  },
  {
   "cell_type": "code",
   "execution_count": 79,
   "id": "f484853c-2237-4d92-8069-6dff9f8ead5b",
   "metadata": {},
   "outputs": [
    {
     "data": {
      "text/plain": [
       "array([16.66022306, 14.87633762, 16.49979209, 16.41968887, 15.12990257,\n",
       "       16.46311003, 16.32791911, 15.76172784, 14.13062403, 15.36792355,\n",
       "       15.81477596, 16.03544614, 15.81893965, 15.65788477, 13.26519128])"
      ]
     },
     "execution_count": 79,
     "metadata": {},
     "output_type": "execute_result"
    }
   ],
   "source": [
    "x_age[(x_age < 16) | ~(x_age > 17)]"
   ]
  },
  {
   "cell_type": "code",
   "execution_count": null,
   "id": "d0e45c68-2d40-4d0a-b68d-cc8c4a6c23fd",
   "metadata": {},
   "outputs": [],
   "source": [
    "X = np.array([\n",
    "    [21, 1_000, False],  # temp, power, window_open\n",
    "    [19, 1_000, False],\n",
    "    [24, 3_000, False],\n",
    "    [26, 3_000, True],\n",
    "])"
   ]
  },
  {
   "cell_type": "code",
   "execution_count": null,
   "id": "14f94e80-6905-4904-b177-8710f64a13ec",
   "metadata": {},
   "outputs": [],
   "source": []
  },
  {
   "cell_type": "markdown",
   "id": "283b3b06-76de-437b-b800-4fea34d58855",
   "metadata": {},
   "source": [
    "## Exercise 1: Select Values\n",
    "* the temperature column\n",
    "    * HINT: all rows of column 0\n",
    "* the power column\n",
    "    * HINT: all rows of column 1\n",
    "* the last column\n",
    "    * HINT: all rows of column -1\n",
    "* the first observation row\n",
    "    * HINT: row 0 of all columns\n",
    "* the last observation row\n",
    "    * HINT: row -1 of all columns\n",
    "* the temp and power of the first two observations\n",
    "    * HINT: the first two rows of the first two columns\n",
    "    * HINT: `0` until `2`\n",
    "* the temp and power when the window is open\n",
    "    * HINT: we want the first two columns with a *row* condition (ie., mask, test, ..)\n",
    "    * HINT: the condition is that the third column `X[:, 2]` is `True`\n",
    "* the power when it is closed\n",
    "    * HINT: as above, condition is that third column is `False`\n",
    "    "
   ]
  },
  {
   "cell_type": "code",
   "execution_count": 109,
   "id": "d274c602-89b2-40ad-9f96-8b363160e2fb",
   "metadata": {},
   "outputs": [],
   "source": [
    "age = np.array([5, 10, 20, 30])\n",
    "action = np.array([1,1,-1, 1])\n",
    "comedy = np.array([1,-1,1, -1])"
   ]
  },
  {
   "cell_type": "code",
   "execution_count": 110,
   "id": "d69950f9-b932-4405-af8b-3b3289533cc1",
   "metadata": {},
   "outputs": [
    {
     "data": {
      "text/plain": [
       "array([[ 5,  1,  1],\n",
       "       [10,  1, -1],\n",
       "       [20, -1,  1],\n",
       "       [30,  1, -1]])"
      ]
     },
     "execution_count": 110,
     "metadata": {},
     "output_type": "execute_result"
    }
   ],
   "source": [
    "np.array([age, action, comedy]).T"
   ]
  },
  {
   "cell_type": "code",
   "execution_count": 111,
   "id": "dbc861d7-c868-4533-8a57-3312c5852aeb",
   "metadata": {},
   "outputs": [],
   "source": [
    "films = np.column_stack([age, action, comedy])"
   ]
  },
  {
   "cell_type": "code",
   "execution_count": 122,
   "id": "53492e52-2377-4407-bc37-583077c5ede9",
   "metadata": {},
   "outputs": [],
   "source": [
    "films3d = films.reshape(2,3,2)"
   ]
  },
  {
   "cell_type": "code",
   "execution_count": 123,
   "id": "844879fd-369d-48af-aa1b-cd392b0c2a5b",
   "metadata": {},
   "outputs": [
    {
     "name": "stdout",
     "output_type": "stream",
     "text": [
      "[[[ 5  1]\n",
      "  [ 1 10]\n",
      "  [ 1 -1]]\n",
      "\n",
      " [[20 -1]\n",
      "  [ 1 30]\n",
      "  [ 1 -1]]]\n"
     ]
    }
   ],
   "source": [
    "print(films3d)"
   ]
  },
  {
   "cell_type": "code",
   "execution_count": 125,
   "id": "dff1bec1-0b5d-45b9-9865-2a8dec3cc12b",
   "metadata": {},
   "outputs": [
    {
     "data": {
      "text/plain": [
       "20"
      ]
     },
     "execution_count": 125,
     "metadata": {},
     "output_type": "execute_result"
    }
   ],
   "source": [
    "films3d[1, 0, 0]"
   ]
  },
  {
   "cell_type": "markdown",
   "id": "f19bb6b5-7671-4a7f-8956-a1ee0c3a8737",
   "metadata": {},
   "source": [
    "The product of the (number of) dimensions must equal the number of elements"
   ]
  },
  {
   "cell_type": "markdown",
   "id": "87fd7386-5fb5-46c4-9b64-44a131406c4f",
   "metadata": {},
   "source": [
    "$x_{age} \\sim N(\\mu=35, \\sigma=5) \\in \\mathbb{R}^{25}$"
   ]
  },
  {
   "cell_type": "code",
   "execution_count": 80,
   "id": "d70cb374-ae9b-4c4b-98e7-11477b86aeb1",
   "metadata": {},
   "outputs": [
    {
     "data": {
      "text/plain": [
       "array([43.33867953, 29.96260058, 34.94868308, 40.53911314, 33.55847808,\n",
       "       33.67779828, 42.4534349 , 31.0593559 , 35.29010369, 34.67707595,\n",
       "       44.04357257, 27.07798154, 36.92132216, 44.5856371 , 41.37004161,\n",
       "       39.69890399, 40.72503791, 38.2582065 , 37.62689486, 25.60562848,\n",
       "       27.41127743, 38.35047307, 34.88224708, 35.23144587, 35.57701933])"
      ]
     },
     "execution_count": 80,
     "metadata": {},
     "output_type": "execute_result"
    }
   ],
   "source": [
    "np.random.normal(35, 5, 25)"
   ]
  },
  {
   "cell_type": "code",
   "execution_count": 86,
   "id": "029d78e3-c0c1-4ac7-b2bd-a6260c5b0ac6",
   "metadata": {},
   "outputs": [],
   "source": [
    "w = np.array([1,2,3]).reshape(-1, 1)"
   ]
  },
  {
   "cell_type": "markdown",
   "id": "60d3cadc-ee21-4c36-bb97-e76ccda8d791",
   "metadata": {},
   "source": [
    "$f(X; W, b) = W_0X_0 + W_1X_1 + b \\dots $"
   ]
  },
  {
   "cell_type": "markdown",
   "id": "b0dc5d47-249e-4705-9f79-6a0ccc7e361d",
   "metadata": {},
   "source": [
    "$y = mx + c$"
   ]
  },
  {
   "cell_type": "code",
   "execution_count": 126,
   "id": "3f1baf5f-d3c3-428c-a166-6d74c0599540",
   "metadata": {},
   "outputs": [],
   "source": [
    "w0 = 5\n",
    "X0 = age\n",
    "\n",
    "w1 = 10\n",
    "X1 = action\n",
    "\n",
    "\n",
    "b = 0\n",
    "\n",
    "prediction = w0 * X0 + w1 * X1 + b"
   ]
  },
  {
   "cell_type": "code",
   "execution_count": 127,
   "id": "70ac047b-9f37-4a55-85d3-b0b69d88fa9c",
   "metadata": {},
   "outputs": [
    {
     "data": {
      "text/plain": [
       "array([ 35,  60,  90, 160])"
      ]
     },
     "execution_count": 127,
     "metadata": {},
     "output_type": "execute_result"
    }
   ],
   "source": [
    "prediction"
   ]
  },
  {
   "cell_type": "code",
   "execution_count": 128,
   "id": "4843ad96-a20c-45aa-93ca-170f0c818526",
   "metadata": {},
   "outputs": [
    {
     "data": {
      "text/plain": [
       "array([[ 5,  1,  1],\n",
       "       [10,  1, -1],\n",
       "       [20, -1,  1],\n",
       "       [30,  1, -1]])"
      ]
     },
     "execution_count": 128,
     "metadata": {},
     "output_type": "execute_result"
    }
   ],
   "source": [
    "films"
   ]
  },
  {
   "cell_type": "code",
   "execution_count": 132,
   "id": "b2a10010-e03b-4500-afb5-8cc4f76e589a",
   "metadata": {},
   "outputs": [
    {
     "data": {
      "text/plain": [
       "array([[ 5, 10,  2]])"
      ]
     },
     "execution_count": 132,
     "metadata": {},
     "output_type": "execute_result"
    }
   ],
   "source": [
    "w = np.array([5,10,2]).reshape(1, -1)\n",
    "w"
   ]
  },
  {
   "cell_type": "code",
   "execution_count": 133,
   "id": "68c66056-4906-4e37-9890-12132fd75a80",
   "metadata": {},
   "outputs": [
    {
     "data": {
      "text/plain": [
       "array([[ 5, 10,  2]])"
      ]
     },
     "execution_count": 133,
     "metadata": {},
     "output_type": "execute_result"
    }
   ],
   "source": [
    "w"
   ]
  },
  {
   "cell_type": "code",
   "execution_count": 134,
   "id": "3c3972ce-ffde-4c33-a0cb-4cf756e2ecbf",
   "metadata": {},
   "outputs": [
    {
     "data": {
      "text/plain": [
       "array([ 37,  58,  92, 158])"
      ]
     },
     "execution_count": 136,
     "metadata": {},
     "output_type": "execute_result"
    }
   ],
   "source": [
    "w * films"
   ]
  },
  {
   "cell_type": "code",
   "execution_count": 147,
   "id": "0c90ceb9-44c6-46d1-9d87-7bf62e62af3b",
   "metadata": {},
   "outputs": [
    {
     "data": {
      "text/plain": [
       "array([ 37,  58,  92, 158])"
      ]
     },
     "execution_count": 147,
     "metadata": {},
     "output_type": "execute_result"
    }
   ],
   "source": [
    "(w * films).sum(axis=1) + b"
   ]
  },
  {
   "cell_type": "markdown",
   "id": "33e66637-dd58-459f-92cd-c1b58b6cb627",
   "metadata": {},
   "source": [
    "$f(X; w, b) = w^TX $"
   ]
  },
  {
   "cell_type": "code",
   "execution_count": 87,
   "id": "f6332a18-75df-403b-b0a7-e805b72b6ddc",
   "metadata": {},
   "outputs": [],
   "source": [
    "X = np.array([\n",
    "    [21, 1_000, False],  # temp, power, window_open\n",
    "    [19, 1_000, False],\n",
    "    [24, 3_000, False],\n",
    "    [26, 3_000, True],\n",
    "])"
   ]
  },
  {
   "cell_type": "code",
   "execution_count": 149,
   "id": "de5a654b-22d1-4c9b-8b04-921fa8e53b72",
   "metadata": {},
   "outputs": [
    {
     "data": {
      "text/plain": [
       "array([[  105, 10000,     0],\n",
       "       [   95, 10000,     0],\n",
       "       [  120, 30000,     0],\n",
       "       [  130, 30000,     2]])"
      ]
     },
     "execution_count": 149,
     "metadata": {},
     "output_type": "execute_result"
    }
   ],
   "source": [
    "w * X"
   ]
  },
  {
   "cell_type": "code",
   "execution_count": null,
   "id": "0b590d53-0cbb-42ac-93e6-b955c2c14f25",
   "metadata": {},
   "outputs": [],
   "source": []
  }
 ],
 "metadata": {
  "kernelspec": {
   "display_name": "Python 3 (ipykernel)",
   "language": "python",
   "name": "python3"
  },
  "language_info": {
   "codemirror_mode": {
    "name": "ipython",
    "version": 3
   },
   "file_extension": ".py",
   "mimetype": "text/x-python",
   "name": "python",
   "nbconvert_exporter": "python",
   "pygments_lexer": "ipython3",
   "version": "3.9.7"
  }
 },
 "nbformat": 4,
 "nbformat_minor": 5
}
