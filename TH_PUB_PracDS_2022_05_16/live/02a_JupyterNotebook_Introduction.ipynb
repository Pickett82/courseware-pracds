{
 "cells": [
  {
   "cell_type": "markdown",
   "metadata": {},
   "source": [
    "# Jupyter Notebook: Example\n"
   ]
  },
  {
   "cell_type": "markdown",
   "metadata": {},
   "source": [
    "Jupyter notebook must be started before opening any notebook file.\n",
    "\n",
    "The first window is a file browser... You can use this to create a new notebook or find a file..."
   ]
  },
  {
   "cell_type": "markdown",
   "metadata": {},
   "source": [
    "## What is a Notebook?"
   ]
  },
  {
   "cell_type": "markdown",
   "metadata": {},
   "source": [
    "* spreadseets \n",
    "    * dozens of formula\n",
    "    * excel\n",
    "    * show values\n",
    "        * emphasis: **values**\n",
    "    * hidding formula\n",
    "    * many cols, many rows\n",
    "* programming editors\n",
    "    * min 1000s of lines of code\n",
    "    * visual studio code\n",
    "    * src = source code\n",
    "    * just code (, formula)\n",
    "        * emphasis: **code**\n",
    "    * no values\n",
    "        * understanding the structure \n",
    "            * & value of a variable requres *reasoning*\n",
    "* notebooks\n",
    "    * max 100s of lines of code\n",
    "    * jupyter\n",
    "    * values and code shown\n",
    "    * show documentation \n",
    "        * emphasis: **documentation**\n",
    "    * vast majority of \"area\" of page is spent in visuals/docs\n",
    "    \n",
    "```r\n",
    "cat(\"hello\")\n",
    "```"
   ]
  },
  {
   "cell_type": "markdown",
   "metadata": {
    "tags": []
   },
   "source": [
    "---\n",
    "\n",
    "# Example Report Syntax\n",
    "\n",
    "---"
   ]
  },
  {
   "cell_type": "code",
   "execution_count": null,
   "metadata": {},
   "outputs": [],
   "source": []
  }
 ],
 "metadata": {
  "kernelspec": {
   "display_name": "Python 3 (ipykernel)",
   "language": "python",
   "name": "python3"
  },
  "language_info": {
   "codemirror_mode": {
    "name": "ipython",
    "version": 3
   },
   "file_extension": ".py",
   "mimetype": "text/x-python",
   "name": "python",
   "nbconvert_exporter": "python",
   "pygments_lexer": "ipython3",
   "version": "3.9.7"
  }
 },
 "nbformat": 4,
 "nbformat_minor": 4
}
