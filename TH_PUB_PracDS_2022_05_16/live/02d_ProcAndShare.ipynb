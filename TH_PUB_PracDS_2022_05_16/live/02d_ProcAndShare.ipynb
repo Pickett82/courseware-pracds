{
 "cells": [
  {
   "cell_type": "markdown",
   "id": "d09924c2-15c2-4ef4-b53e-5e68b5d9b3d4",
   "metadata": {},
   "source": [
    "# Python Data Processing"
   ]
  },
  {
   "cell_type": "markdown",
   "id": "cc4b03fb-598f-4355-8eae-14d3c8df706e",
   "metadata": {},
   "source": [
    "When processing data sets we almost always want to repeat the same operation *for every element* of that dataset.."
   ]
  },
  {
   "cell_type": "code",
   "execution_count": 1,
   "id": "1979cfd8-427a-4225-92dc-4a87c7cffeed",
   "metadata": {},
   "outputs": [],
   "source": [
    "balances = [1_000, 2_500, 10_678, -2_000]\n",
    "decisions = [0, 1, 1, 0]  # 0 = No, 1 = Yes"
   ]
  },
  {
   "cell_type": "code",
   "execution_count": 2,
   "id": "073546d5-2d2a-44a1-9829-fed97e3d5007",
   "metadata": {},
   "outputs": [
    {
     "name": "stdout",
     "output_type": "stream",
     "text": [
      "2500 Yes\n",
      "10678 Yes\n"
     ]
    }
   ],
   "source": [
    "entry = balances[0]\n",
    "if entry > 1_500:\n",
    "    print(entry, \"Yes\")\n",
    "    \n",
    "entry = balances[1]\n",
    "if entry > 1_500:\n",
    "    print(entry, \"Yes\")\n",
    "    \n",
    "    \n",
    "entry = balances[2]\n",
    "if entry > 1_500:\n",
    "    print(entry, \"Yes\")\n",
    "    \n",
    "    \n",
    "entry = balances[3]\n",
    "if entry > 1_500:\n",
    "    print(entry, \"Yes\")"
   ]
  },
  {
   "cell_type": "code",
   "execution_count": 7,
   "id": "fa68f710-e48c-4ea2-a35b-c3db383bcd58",
   "metadata": {},
   "outputs": [
    {
     "name": "stdout",
     "output_type": "stream",
     "text": [
      "2500 Yes\n",
      "10678 Yes\n"
     ]
    }
   ],
   "source": [
    "for entry in balances:\n",
    "    if entry > 1_500:\n",
    "        print(entry, \"Yes\")"
   ]
  },
  {
   "cell_type": "markdown",
   "id": "724d0611-6af9-4386-b4b7-104dff3d8a0f",
   "metadata": {},
   "source": [
    "```python\n",
    "\n",
    "for TEMPORARY_NAME_OF_ENTRY in EXISTING_DATASET\n",
    "REPEAT:\n",
    "        CODE_TO_REPEAT( TEMPORARY_NAME_OF_ENTRY )\n",
    "\n",
    "```"
   ]
  },
  {
   "cell_type": "code",
   "execution_count": 9,
   "id": "0de5fc23-f214-4d5d-b501-1c67db063759",
   "metadata": {},
   "outputs": [],
   "source": [
    "name =\"Thomas\""
   ]
  },
  {
   "cell_type": "code",
   "execution_count": 12,
   "id": "eb22cd7d-ac44-4443-bf75-c348cd639b2a",
   "metadata": {},
   "outputs": [
    {
     "name": "stdout",
     "output_type": "stream",
     "text": [
      "T\n",
      "H\n",
      "O\n",
      "M\n",
      "A\n",
      "S\n"
     ]
    }
   ],
   "source": [
    "for letter in name:\n",
    "    print(letter.upper())"
   ]
  },
  {
   "cell_type": "code",
   "execution_count": 10,
   "id": "663a19a4-f1a1-43a7-961d-cb4f80366ca3",
   "metadata": {},
   "outputs": [
    {
     "data": {
      "text/plain": [
       "'h'"
      ]
     },
     "execution_count": 10,
     "metadata": {},
     "output_type": "execute_result"
    }
   ],
   "source": [
    "name[1]"
   ]
  },
  {
   "cell_type": "code",
   "execution_count": 16,
   "id": "f749847a-6ff4-4293-8d50-c2a92e163226",
   "metadata": {},
   "outputs": [
    {
     "name": "stdout",
     "output_type": "stream",
     "text": [
      "oh no :(\n",
      "Yaya, we got the loan 2500\n",
      "Yaya, we got the loan 10678\n",
      "oh no :(\n"
     ]
    }
   ],
   "source": [
    "for balance, decision in zip(balances, decisions):\n",
    "    if decision == 1:\n",
    "        print(\"Yaya, we got the loan\", balance)\n",
    "    else:\n",
    "        print(\"oh no :(\")"
   ]
  },
  {
   "cell_type": "code",
   "execution_count": 19,
   "id": "229b9e8c-b366-42ec-8aca-eb130f7b55c0",
   "metadata": {},
   "outputs": [
    {
     "name": "stdout",
     "output_type": "stream",
     "text": [
      "(1000, 0)\n",
      "(2500, 1)\n",
      "(10678, 1)\n",
      "(-2000, 0)\n"
     ]
    }
   ],
   "source": [
    "for val in zip(balances, decisions):\n",
    "    print(val)"
   ]
  },
  {
   "cell_type": "code",
   "execution_count": 21,
   "id": "e12d2f0a-2771-43ea-a95f-473702521755",
   "metadata": {},
   "outputs": [
    {
     "name": "stdout",
     "output_type": "stream",
     "text": [
      "you have plenty\n",
      "you have plenty\n"
     ]
    }
   ],
   "source": [
    "for i, balance in enumerate(balances):\n",
    "    if balance < 1_500:\n",
    "        balances[i] += 500\n",
    "    else:\n",
    "        print(\"you have plenty\")"
   ]
  },
  {
   "cell_type": "code",
   "execution_count": 22,
   "id": "ae639c5e-3e32-4f2c-a77b-4b26baa555c2",
   "metadata": {},
   "outputs": [
    {
     "data": {
      "text/plain": [
       "[1500, 2500, 10678, -1500]"
      ]
     },
     "execution_count": 22,
     "metadata": {},
     "output_type": "execute_result"
    }
   ],
   "source": [
    "balances"
   ]
  },
  {
   "cell_type": "code",
   "execution_count": 25,
   "id": "006d9fdd-dfe2-48cb-bdaf-13e43a8695e3",
   "metadata": {},
   "outputs": [
    {
     "name": "stdout",
     "output_type": "stream",
     "text": [
      "0 1500 0\n",
      "1 2500 1\n",
      "2 10678 1\n",
      "3 -1500 0\n"
     ]
    }
   ],
   "source": [
    "for i, (bal, dec) in enumerate(zip(balances, decisions)):\n",
    "    print(i, bal, dec)"
   ]
  },
  {
   "cell_type": "code",
   "execution_count": null,
   "id": "3fc7e31d-b348-4375-ae45-e3a0d44c5d31",
   "metadata": {},
   "outputs": [],
   "source": []
  },
  {
   "cell_type": "markdown",
   "id": "8806e4f5-d101-4f35-99db-1cf8604a05bb",
   "metadata": {},
   "source": [
    "# Sharing Code"
   ]
  },
  {
   "cell_type": "markdown",
   "id": "5607d10b-c958-4c3c-bcd5-d8e417f9f00f",
   "metadata": {},
   "source": [
    "Code can be shared using functions\n",
    "* Can be referenced and run by name"
   ]
  },
  {
   "cell_type": "code",
   "execution_count": 26,
   "id": "eb785b1a-b5ed-430f-9a41-fb3af6ffb630",
   "metadata": {},
   "outputs": [],
   "source": [
    "x_balance = 1_000\n",
    "x_age = 32\n",
    "x_postcode = \"SW1 1AA\""
   ]
  },
  {
   "cell_type": "code",
   "execution_count": 27,
   "id": "0cba7e13-716b-4bf0-ae5a-f3acc16a7827",
   "metadata": {},
   "outputs": [
    {
     "data": {
      "text/plain": [
       "(1000, 32, 'SW1 1AA')"
      ]
     },
     "execution_count": 27,
     "metadata": {},
     "output_type": "execute_result"
    }
   ],
   "source": [
    "(x_balance, x_age, x_postcode)"
   ]
  },
  {
   "cell_type": "code",
   "execution_count": 28,
   "id": "8525171c-66dd-491b-bcfd-c86380708575",
   "metadata": {},
   "outputs": [],
   "source": [
    "y_profit = x_balance * 0.1 + x_age"
   ]
  },
  {
   "cell_type": "code",
   "execution_count": 29,
   "id": "e873caf9-7ddb-42d7-a71c-bba91d685ecc",
   "metadata": {},
   "outputs": [
    {
     "data": {
      "text/plain": [
       "132.0"
      ]
     },
     "execution_count": 29,
     "metadata": {},
     "output_type": "execute_result"
    }
   ],
   "source": [
    "y_profit"
   ]
  },
  {
   "cell_type": "code",
   "execution_count": 42,
   "id": "5e70233a-8064-4d78-b377-ede1c63dd109",
   "metadata": {},
   "outputs": [],
   "source": [
    "def profit_formula(*, x_balance: float, x_age: int) -> float:\n",
    "    y_profit = x_balance * 0.1 + x_age\n",
    "    return y_profit"
   ]
  },
  {
   "cell_type": "code",
   "execution_count": 44,
   "id": "0338e35f-f292-491b-9119-7cfceec68fab",
   "metadata": {},
   "outputs": [
    {
     "data": {
      "text/plain": [
       "150.0"
      ]
     },
     "execution_count": 44,
     "metadata": {},
     "output_type": "execute_result"
    }
   ],
   "source": [
    "profit_formula(x_balance=1000, x_age=50)"
   ]
  },
  {
   "cell_type": "code",
   "execution_count": 37,
   "id": "51ebbb7e-35d1-4206-80a3-ba22e8e5dd18",
   "metadata": {},
   "outputs": [
    {
     "data": {
      "text/plain": [
       "90.0"
      ]
     },
     "execution_count": 37,
     "metadata": {},
     "output_type": "execute_result"
    }
   ],
   "source": [
    "profit_formula(0, 90)"
   ]
  },
  {
   "cell_type": "code",
   "execution_count": 38,
   "id": "3c1bfbdf-c789-4480-8fb8-13c02282f3bf",
   "metadata": {},
   "outputs": [
    {
     "data": {
      "text/plain": [
       "<function __main__.profit_formula(x_balance: float, x_age: int)>"
      ]
     },
     "execution_count": 38,
     "metadata": {},
     "output_type": "execute_result"
    }
   ],
   "source": [
    "profit_formula"
   ]
  },
  {
   "cell_type": "code",
   "execution_count": 41,
   "id": "2ac10179-b330-4f44-b005-b07b3aeaff79",
   "metadata": {},
   "outputs": [
    {
     "name": "stdout",
     "output_type": "stream",
     "text": [
      "Help on function profit_formula in module __main__:\n",
      "\n",
      "profit_formula(x_balance: float, x_age: int) -> float\n",
      "\n"
     ]
    }
   ],
   "source": [
    "help(profit_formula)"
   ]
  },
  {
   "cell_type": "code",
   "execution_count": 45,
   "id": "dd380c46-ccb0-428e-a2ab-6ab79d251ab7",
   "metadata": {},
   "outputs": [],
   "source": [
    "def my_sum(*args):\n",
    "    running_sum = 0\n",
    "    for arg in args:\n",
    "        running_sum += arg\n",
    "    return running_sum"
   ]
  },
  {
   "cell_type": "code",
   "execution_count": 46,
   "id": "ac9f51c4-4171-48e2-96fb-e0f3be507b56",
   "metadata": {},
   "outputs": [
    {
     "data": {
      "text/plain": [
       "55"
      ]
     },
     "execution_count": 46,
     "metadata": {},
     "output_type": "execute_result"
    }
   ],
   "source": [
    "my_sum(1,2,3,4,5,6,7,8,9,10)"
   ]
  },
  {
   "cell_type": "code",
   "execution_count": 47,
   "id": "e7e0c947-cf5a-4a71-961b-355ef9d4ed9d",
   "metadata": {},
   "outputs": [
    {
     "name": "stdout",
     "output_type": "stream",
     "text": [
      "1 2 3 4 5 6 7 8 9 10\n"
     ]
    }
   ],
   "source": [
    "print(1,2,3,4,5,6,7,8,9,10)"
   ]
  },
  {
   "cell_type": "code",
   "execution_count": 48,
   "id": "2cff51b9-3c1f-423f-a68a-ef61ecd492e9",
   "metadata": {},
   "outputs": [
    {
     "data": {
      "text/plain": [
       "'THOMAS'"
      ]
     },
     "execution_count": 48,
     "metadata": {},
     "output_type": "execute_result"
    }
   ],
   "source": [
    "name.upper()"
   ]
  },
  {
   "cell_type": "code",
   "execution_count": 49,
   "id": "ce0b2c16-b11f-4e51-ba58-24088e4791bb",
   "metadata": {},
   "outputs": [
    {
     "name": "stdin",
     "output_type": "stream",
     "text": [
      "What's your HR? 150\n",
      "What's your BP? 90\n",
      "How many hours did you sleep? 8\n"
     ]
    },
    {
     "name": "stdout",
     "output_type": "stream",
     "text": [
      "Your HR is 150.0\n",
      "Your BP is 90.0\n",
      "Your Sleep was 8.0\n",
      "\n",
      "Your health quality was calc'd to be -0.34\n"
     ]
    }
   ],
   "source": [
    "hr = float(input(\"What's your HR?\"))\n",
    "bp = float(input(\"What's your BP?\"))\n",
    "sleep = float(input(\"How many hours did you sleep?\"))\n",
    "\n",
    "quality = round( (sleep/12 - hr/120 - bp/200)/3 , 2)\n",
    "\n",
    "print(\"Your HR is\", hr)\n",
    "print(\"Your BP is\", bp)\n",
    "print(\"Your Sleep was\", sleep)\n",
    "print()\n",
    "print(\"Your health quality was calc'd to be\", quality)"
   ]
  },
  {
   "cell_type": "code",
   "execution_count": null,
   "id": "9ee05059-d5b9-49d6-b75c-a1ebcc6809bc",
   "metadata": {},
   "outputs": [],
   "source": [
    "# ASK USER FOR THEIR DATA\n",
    "hr = float(input(\"What's your HR?\"))\n",
    "bp = float(input(\"What's your BP?\"))\n",
    "sleep = float(input(\"How many hours did you sleep?\"))\n",
    "\n",
    "# COMPUTE A QUALITY\n",
    "quality = round( (sleep/12 - hr/120 - bp/200)/3 , 2)\n",
    "\n",
    "# REPORT ON USER & QUALITY\n",
    "print(\"Your HR is\", hr)\n",
    "print(\"Your BP is\", bp)\n",
    "print(\"Your Sleep was\", sleep)\n",
    "print()\n",
    "print(\"Your health quality was calc'd to be\", quality)"
   ]
  },
  {
   "cell_type": "code",
   "execution_count": 50,
   "id": "5e522b6a-751d-4ef9-98f3-ee8d2b81187c",
   "metadata": {},
   "outputs": [],
   "source": [
    "def health_ask():\n",
    "    hr = float(input(\"What's your HR?\"))\n",
    "    bp = float(input(\"What's your BP?\"))\n",
    "    sleep = float(input(\"How many hours did you sleep?\"))\n",
    "\n",
    "def health_quality():\n",
    "    quality = round( (sleep/12 - hr/120 - bp/200)/3 , 2)\n",
    "\n",
    "def health_report():\n",
    "    print(\"Your HR is\", hr)\n",
    "    print(\"Your BP is\", bp)\n",
    "    print(\"Your Sleep was\", sleep)\n",
    "    print()\n",
    "    print(\"Your health quality was calc'd to be\", quality)"
   ]
  },
  {
   "cell_type": "markdown",
   "id": "0fbbca6c-a7b2-46d1-b9e5-f46853ad4be5",
   "metadata": {},
   "source": [
    "### How do we share code in Python\n",
    "To to share code we need .py file to hold the code. We call these modules\n"
   ]
  },
  {
   "cell_type": "code",
   "execution_count": 1,
   "id": "e5ec8ece-d2dd-4941-8927-e18c248e972f",
   "metadata": {},
   "outputs": [],
   "source": [
    "import shared"
   ]
  },
  {
   "cell_type": "code",
   "execution_count": 52,
   "id": "cc0b4791-be21-4feb-a030-fd7067cdb659",
   "metadata": {},
   "outputs": [
    {
     "data": {
      "text/plain": [
       "10"
      ]
     },
     "execution_count": 52,
     "metadata": {},
     "output_type": "execute_result"
    }
   ],
   "source": [
    "shared.my_sum(1,2,3,4)"
   ]
  },
  {
   "cell_type": "markdown",
   "id": "9070ca97-f9ad-4d04-a212-93a7f27dc60b",
   "metadata": {},
   "source": [
    "## Exercise"
   ]
  },
  {
   "cell_type": "code",
   "execution_count": null,
   "id": "30698166-1f26-49c0-8988-62dcd9cf717c",
   "metadata": {},
   "outputs": [],
   "source": [
    "questions = [\n",
    "    \"How happy are you working from home (/5)?\",\n",
    "    \"How technical is technical is your job (/5)?\",\n",
    "    \"To what degree have you saved money (-5, 5)?\",    \n",
    "]"
   ]
  },
  {
   "cell_type": "code",
   "execution_count": null,
   "id": "4c6aa250-bd18-49d4-ad9a-26b3d105705e",
   "metadata": {},
   "outputs": [],
   "source": [
    "answers = []\n",
    "\n",
    "for q in questions:\n",
    "    answer = input(q)\n",
    "    \n",
    "    answers.append(answer)"
   ]
  },
  {
   "cell_type": "markdown",
   "id": "0c76583b-695a-4dac-a815-f91f6565808e",
   "metadata": {},
   "source": [
    "* Modify the above loop to \n",
    "    * store the `float()` of your answer\n",
    "        * HINT: use `float()` on anwers\n",
    "    * print the answer \n",
    "        * EXTRA: f\"\" to add a little formatting\n",
    "        * eg., \"Your answer was...\""
   ]
  }
 ],
 "metadata": {
  "kernelspec": {
   "display_name": "Python 3 (ipykernel)",
   "language": "python",
   "name": "python3"
  },
  "language_info": {
   "codemirror_mode": {
    "name": "ipython",
    "version": 3
   },
   "file_extension": ".py",
   "mimetype": "text/x-python",
   "name": "python",
   "nbconvert_exporter": "python",
   "pygments_lexer": "ipython3",
   "version": "3.9.7"
  }
 },
 "nbformat": 4,
 "nbformat_minor": 5
}
