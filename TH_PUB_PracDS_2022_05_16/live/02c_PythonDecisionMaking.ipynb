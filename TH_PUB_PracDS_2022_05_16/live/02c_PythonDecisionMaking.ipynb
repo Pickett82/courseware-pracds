{
 "cells": [
  {
   "cell_type": "markdown",
   "id": "c729505f-06b4-40d8-b5e0-c4f7e01463fb",
   "metadata": {},
   "source": [
    "# Python Decision Making"
   ]
  },
  {
   "cell_type": "code",
   "execution_count": 10,
   "id": "023ff4f9-2db7-4d9a-9b1b-b4303611059e",
   "metadata": {},
   "outputs": [
    {
     "name": "stdin",
     "output_type": "stream",
     "text": [
      "Height? 1.77\n"
     ]
    }
   ],
   "source": [
    "height = float(input(\"Height?\"))"
   ]
  },
  {
   "cell_type": "code",
   "execution_count": 7,
   "id": "12b4514d-1764-42c6-98d2-cc706761b965",
   "metadata": {},
   "outputs": [
    {
     "data": {
      "text/plain": [
       "float"
      ]
     },
     "execution_count": 7,
     "metadata": {},
     "output_type": "execute_result"
    }
   ],
   "source": [
    "type(age)"
   ]
  },
  {
   "cell_type": "code",
   "execution_count": 4,
   "id": "893cab25-6aae-4f95-ac47-699ba0a1136e",
   "metadata": {},
   "outputs": [],
   "source": [
    "age = float(age)"
   ]
  },
  {
   "cell_type": "code",
   "execution_count": 5,
   "id": "6c870dcf-8f8b-4489-943d-fea49db84f63",
   "metadata": {},
   "outputs": [
    {
     "data": {
      "text/plain": [
       "float"
      ]
     },
     "execution_count": 5,
     "metadata": {},
     "output_type": "execute_result"
    }
   ],
   "source": [
    "type(age)"
   ]
  },
  {
   "cell_type": "markdown",
   "id": "30c0fb19-495c-4306-afc7-143060c01fb5",
   "metadata": {},
   "source": [
    "Devide whether to go on holiday based on height"
   ]
  },
  {
   "cell_type": "code",
   "execution_count": 8,
   "id": "b8325d35-b24a-48c8-ac34-09ed5a55792c",
   "metadata": {},
   "outputs": [
    {
     "name": "stdin",
     "output_type": "stream",
     "text": [
      "City? Bishkek\n"
     ]
    }
   ],
   "source": [
    "city = input(\"City?\")"
   ]
  },
  {
   "cell_type": "markdown",
   "id": "8e9f6c5e-4325-46d2-959e-f7bf9b8d21e3",
   "metadata": {},
   "source": [
    "```python\n",
    "if    # first condition to evaluate\n",
    "elif  # subsequent conditions\n",
    "else  # run none of the above are\n",
    "```"
   ]
  },
  {
   "cell_type": "code",
   "execution_count": null,
   "id": "f7f576d2-c620-49a9-bf24-3604004c37df",
   "metadata": {},
   "outputs": [],
   "source": [
    "['Paris', 'Madrid', 'Yerevan']"
   ]
  },
  {
   "cell_type": "code",
   "execution_count": 43,
   "id": "43424935-4590-4b33-b030-98c7d8e9e536",
   "metadata": {},
   "outputs": [],
   "source": [
    "height = 2.65"
   ]
  },
  {
   "cell_type": "code",
   "execution_count": 44,
   "id": "e152c25d-572e-4fe3-9231-43ae6e5c01dd",
   "metadata": {},
   "outputs": [],
   "source": [
    "city = \"Yerevan\""
   ]
  },
  {
   "cell_type": "code",
   "execution_count": 45,
   "id": "738e32e4-a562-43ff-bd9f-f840ceff3864",
   "metadata": {},
   "outputs": [
    {
     "name": "stdout",
     "output_type": "stream",
     "text": [
      "lets go on holiday\n",
      "Yay!\n"
     ]
    }
   ],
   "source": [
    "if height > 2.0:\n",
    "#\\/ indentation is crucial\n",
    "    print(\"lets go on holiday\")\n",
    "    print(\"Yay!\")\n",
    "elif (height > 1.5) and (city in ['Paris', 'Madrid', 'Yerevan']):\n",
    "    print(\"I'll think about it\")\n",
    "else:\n",
    "    print(\"I'd rather stay home\")\n"
   ]
  },
  {
   "cell_type": "code",
   "execution_count": 12,
   "id": "2e008349-4faa-48aa-b6e8-59392bea5ac3",
   "metadata": {},
   "outputs": [
    {
     "data": {
      "text/plain": [
       "True"
      ]
     },
     "execution_count": 12,
     "metadata": {},
     "output_type": "execute_result"
    }
   ],
   "source": [
    "height > 1.5"
   ]
  },
  {
   "cell_type": "code",
   "execution_count": 13,
   "id": "72829790-38ca-4f2a-9569-ee727900eb5e",
   "metadata": {},
   "outputs": [
    {
     "data": {
      "text/plain": [
       "False"
      ]
     },
     "execution_count": 13,
     "metadata": {},
     "output_type": "execute_result"
    }
   ],
   "source": [
    "height < 1.5"
   ]
  },
  {
   "cell_type": "code",
   "execution_count": 47,
   "id": "84fb5e43-09ae-4c80-9104-e1b4ef5b58f6",
   "metadata": {},
   "outputs": [
    {
     "data": {
      "text/plain": [
       "True"
      ]
     },
     "execution_count": 47,
     "metadata": {},
     "output_type": "execute_result"
    }
   ],
   "source": [
    "height != 1.5"
   ]
  },
  {
   "cell_type": "code",
   "execution_count": 27,
   "id": "9b29443c-0e57-4a68-8b61-6cfb461e29a6",
   "metadata": {},
   "outputs": [
    {
     "data": {
      "text/plain": [
       "False"
      ]
     },
     "execution_count": 27,
     "metadata": {},
     "output_type": "execute_result"
    }
   ],
   "source": [
    "(height > 1.5) and (city == 'Paris') "
   ]
  },
  {
   "cell_type": "code",
   "execution_count": 28,
   "id": "102141f4-f431-49da-925e-0bea6d02b6f5",
   "metadata": {},
   "outputs": [
    {
     "data": {
      "text/plain": [
       "False"
      ]
     },
     "execution_count": 28,
     "metadata": {},
     "output_type": "execute_result"
    }
   ],
   "source": [
    "city in ['Paris', 'Madrid', 'Yerevan']"
   ]
  },
  {
   "cell_type": "code",
   "execution_count": 51,
   "id": "2a045a47-331d-4da7-b716-cbf7ff5a3d55",
   "metadata": {},
   "outputs": [
    {
     "data": {
      "text/plain": [
       "True"
      ]
     },
     "execution_count": 51,
     "metadata": {},
     "output_type": "execute_result"
    }
   ],
   "source": [
    "city.upper() == \"YEREVAN\""
   ]
  },
  {
   "cell_type": "code",
   "execution_count": 52,
   "id": "1ea4da9f-da62-404c-8f4e-a90b38823bb5",
   "metadata": {},
   "outputs": [
    {
     "data": {
      "text/plain": [
       "True"
      ]
     },
     "execution_count": 52,
     "metadata": {},
     "output_type": "execute_result"
    }
   ],
   "source": [
    "10 > 5"
   ]
  },
  {
   "cell_type": "code",
   "execution_count": 53,
   "id": "eb69b87f-e909-4616-adf5-a36fb186b9fe",
   "metadata": {},
   "outputs": [
    {
     "data": {
      "text/plain": [
       "True"
      ]
     },
     "execution_count": 53,
     "metadata": {},
     "output_type": "execute_result"
    }
   ],
   "source": [
    "5 < 10"
   ]
  },
  {
   "cell_type": "code",
   "execution_count": 55,
   "id": "b8cdd68d-fea0-4c06-a175-950dc93aa1df",
   "metadata": {},
   "outputs": [
    {
     "data": {
      "text/plain": [
       "False"
      ]
     },
     "execution_count": 55,
     "metadata": {},
     "output_type": "execute_result"
    }
   ],
   "source": [
    "10 <= 5"
   ]
  },
  {
   "cell_type": "code",
   "execution_count": 56,
   "id": "91d11070-fa5e-445b-9eb0-706242cdffb8",
   "metadata": {},
   "outputs": [
    {
     "data": {
      "text/plain": [
       "True"
      ]
     },
     "execution_count": 56,
     "metadata": {},
     "output_type": "execute_result"
    }
   ],
   "source": [
    "5 < 10 < 20"
   ]
  },
  {
   "cell_type": "code",
   "execution_count": 57,
   "id": "cc185d49-368a-426d-9926-2ba169e17947",
   "metadata": {},
   "outputs": [
    {
     "data": {
      "text/plain": [
       "True"
      ]
     },
     "execution_count": 57,
     "metadata": {},
     "output_type": "execute_result"
    }
   ],
   "source": [
    "(5 < 10) and (10 < 20)"
   ]
  },
  {
   "cell_type": "code",
   "execution_count": 58,
   "id": "2e197880-ab82-43d1-a45c-ea07188bcb34",
   "metadata": {},
   "outputs": [
    {
     "name": "stdin",
     "output_type": "stream",
     "text": [
      "Name?  \n"
     ]
    }
   ],
   "source": [
    "name = input(\"Name? \")"
   ]
  },
  {
   "cell_type": "code",
   "execution_count": 65,
   "id": "179f1b7a-9f2a-4aab-b0c0-a6e1ce32907e",
   "metadata": {},
   "outputs": [
    {
     "name": "stdout",
     "output_type": "stream",
     "text": [
      "Spooky\n"
     ]
    }
   ],
   "source": [
    "if name:\n",
    "    print(f'Hello, {name}')\n",
    "else:\n",
    "    print('Spooky')"
   ]
  },
  {
   "cell_type": "code",
   "execution_count": 61,
   "id": "fbfdac11-18ca-41b6-99f5-d981d0ce469c",
   "metadata": {},
   "outputs": [
    {
     "data": {
      "text/plain": [
       "False"
      ]
     },
     "execution_count": 61,
     "metadata": {},
     "output_type": "execute_result"
    }
   ],
   "source": [
    "bool(name)"
   ]
  },
  {
   "cell_type": "code",
   "execution_count": 63,
   "id": "d02bf419-e58c-4441-915b-e7039a52e48e",
   "metadata": {},
   "outputs": [
    {
     "data": {
      "text/plain": [
       "False"
      ]
     },
     "execution_count": 63,
     "metadata": {},
     "output_type": "execute_result"
    }
   ],
   "source": [
    "bool(name)"
   ]
  },
  {
   "cell_type": "code",
   "execution_count": 66,
   "id": "176a8e48-5871-43d3-b015-ae03defcc524",
   "metadata": {},
   "outputs": [
    {
     "data": {
      "text/plain": [
       "False"
      ]
     },
     "execution_count": 66,
     "metadata": {},
     "output_type": "execute_result"
    }
   ],
   "source": [
    "bool([])"
   ]
  },
  {
   "cell_type": "code",
   "execution_count": 67,
   "id": "59017352-1559-401d-93ee-5eaf526245c8",
   "metadata": {},
   "outputs": [
    {
     "data": {
      "text/plain": [
       "True"
      ]
     },
     "execution_count": 67,
     "metadata": {},
     "output_type": "execute_result"
    }
   ],
   "source": [
    "bool([\"\"])"
   ]
  },
  {
   "cell_type": "code",
   "execution_count": 68,
   "id": "7042b604-0f9e-407f-9aca-e9bab6beb32c",
   "metadata": {},
   "outputs": [
    {
     "data": {
      "text/plain": [
       "True"
      ]
     },
     "execution_count": 68,
     "metadata": {},
     "output_type": "execute_result"
    }
   ],
   "source": [
    "bool(\" \")"
   ]
  },
  {
   "cell_type": "markdown",
   "id": "01792203-3bc3-450e-b545-b450ff1df8b1",
   "metadata": {},
   "source": [
    "## String comparisons"
   ]
  },
  {
   "cell_type": "code",
   "execution_count": 69,
   "id": "d06876cb-90a4-49ac-8277-f251d3e7fe93",
   "metadata": {},
   "outputs": [
    {
     "data": {
      "text/plain": [
       "'Yerevan'"
      ]
     },
     "execution_count": 69,
     "metadata": {},
     "output_type": "execute_result"
    }
   ],
   "source": [
    "city"
   ]
  },
  {
   "cell_type": "code",
   "execution_count": 70,
   "id": "491df53c-3920-474f-881f-f292012fbda5",
   "metadata": {},
   "outputs": [
    {
     "data": {
      "text/plain": [
       "True"
      ]
     },
     "execution_count": 70,
     "metadata": {},
     "output_type": "execute_result"
    }
   ],
   "source": [
    "city.startswith(\"Y\")"
   ]
  },
  {
   "cell_type": "code",
   "execution_count": 71,
   "id": "e7fefce9-ce81-4c64-9142-a06ac9055ae0",
   "metadata": {},
   "outputs": [
    {
     "data": {
      "text/plain": [
       "True"
      ]
     },
     "execution_count": 71,
     "metadata": {},
     "output_type": "execute_result"
    }
   ],
   "source": [
    "city.endswith(\"n\")"
   ]
  },
  {
   "cell_type": "code",
   "execution_count": 73,
   "id": "5796461f-0b8f-40d2-b7ed-fda77275a3fb",
   "metadata": {},
   "outputs": [
    {
     "data": {
      "text/plain": [
       "False"
      ]
     },
     "execution_count": 73,
     "metadata": {},
     "output_type": "execute_result"
    }
   ],
   "source": [
    "city.isupper()"
   ]
  },
  {
   "cell_type": "code",
   "execution_count": 74,
   "id": "f9e92c98-2557-4600-800d-07e73df81182",
   "metadata": {},
   "outputs": [
    {
     "data": {
      "text/plain": [
       "True"
      ]
     },
     "execution_count": 74,
     "metadata": {},
     "output_type": "execute_result"
    }
   ],
   "source": [
    "city.isalpha()"
   ]
  },
  {
   "cell_type": "code",
   "execution_count": null,
   "id": "aa2abeee-4d0f-4ed4-bc4f-bdb5b9d53d7f",
   "metadata": {},
   "outputs": [],
   "source": [
    "city."
   ]
  },
  {
   "cell_type": "code",
   "execution_count": 79,
   "id": "5d272910-2a1b-4d41-b55c-82811836957c",
   "metadata": {},
   "outputs": [],
   "source": [
    "ls = []\n",
    "ls.append(city)"
   ]
  },
  {
   "cell_type": "code",
   "execution_count": 80,
   "id": "cb0e85ab-d19e-4689-b783-b8735b11e8b6",
   "metadata": {},
   "outputs": [
    {
     "data": {
      "text/plain": [
       "['Yerevan']"
      ]
     },
     "execution_count": 80,
     "metadata": {},
     "output_type": "execute_result"
    }
   ],
   "source": [
    "ls"
   ]
  },
  {
   "cell_type": "code",
   "execution_count": 81,
   "id": "3a5ae842-b138-4138-91b5-a9919578c72c",
   "metadata": {},
   "outputs": [
    {
     "data": {
      "text/plain": [
       "True"
      ]
     },
     "execution_count": 81,
     "metadata": {},
     "output_type": "execute_result"
    }
   ],
   "source": [
    "# and true both sides\n",
    "(height > 1.5) and (city == 'Paris') \n",
    "# or either side is true\n",
    "(height > 1.5) and (city == 'Paris') \n",
    "\n",
    "\n",
    "(height > 1.5) and not (city == 'Paris') "
   ]
  },
  {
   "cell_type": "code",
   "execution_count": 92,
   "id": "ebfd2366-4bd2-47f6-b8bb-3975e59c2e79",
   "metadata": {},
   "outputs": [
    {
     "name": "stdout",
     "output_type": "stream",
     "text": [
      "Yerevan\n"
     ]
    }
   ],
   "source": [
    "height = 2\n",
    "destination = \"Yerevan\" if height > 1.9 else (\"Bishkek\" if height < 1.5 else \"Pari\")\n",
    "print(destination)"
   ]
  },
  {
   "cell_type": "code",
   "execution_count": 86,
   "id": "f7308f44-4ad8-43ed-a9bf-5f569c79b6eb",
   "metadata": {},
   "outputs": [],
   "source": [
    "if height > 1.9:\n",
    "    destination = \"Paris\"\n",
    "else:\n",
    "    destination = \"Bishkek\""
   ]
  },
  {
   "cell_type": "code",
   "execution_count": 93,
   "id": "76853baa-b20c-4d30-bd0c-1909fafa870b",
   "metadata": {},
   "outputs": [
    {
     "name": "stdout",
     "output_type": "stream",
     "text": [
      "I can' wait to go to Yerevan, dear!\n"
     ]
    }
   ],
   "source": [
    "print(f\"I can' wait to go to {destination}, dear!\")"
   ]
  },
  {
   "cell_type": "markdown",
   "id": "71c698a8-953a-44a7-bf5d-f72ea53fe263",
   "metadata": {
    "tags": []
   },
   "source": [
    "## Exercise (15 min)\n",
    "\n",
    "Choose a problem domain. Eg., healthcare: advise on a diet based on user survey responses; questions, eg., how many sweets do you eat a day? etc. \n",
    "\n",
    "\n",
    "### Part 1\n",
    "\n",
    "Conduct a survey (of your design) using the `input()` function. Produce a formatted report of your user's answers. \n",
    "\n",
    "The survey should ask questions with floating-point answers and text answers. \n",
    "\n",
    "HINT: `float(input(\"Question? \"))`\n",
    "\n",
    "For formatting, have a go at using `print(f\"text... {variable}\")`\n",
    "\n",
    "\n",
    "### Part 2\n",
    "\n",
    "Considering the survey responses above, *advice* your user on the best options for some problem they are having. "
   ]
  },
  {
   "cell_type": "code",
   "execution_count": null,
   "id": "479e76c7-be84-4820-81ff-b4acfa25b74e",
   "metadata": {},
   "outputs": [],
   "source": []
  }
 ],
 "metadata": {
  "kernelspec": {
   "display_name": "Python 3 (ipykernel)",
   "language": "python",
   "name": "python3"
  },
  "language_info": {
   "codemirror_mode": {
    "name": "ipython",
    "version": 3
   },
   "file_extension": ".py",
   "mimetype": "text/x-python",
   "name": "python",
   "nbconvert_exporter": "python",
   "pygments_lexer": "ipython3",
   "version": "3.9.7"
  }
 },
 "nbformat": 4,
 "nbformat_minor": 5
}
