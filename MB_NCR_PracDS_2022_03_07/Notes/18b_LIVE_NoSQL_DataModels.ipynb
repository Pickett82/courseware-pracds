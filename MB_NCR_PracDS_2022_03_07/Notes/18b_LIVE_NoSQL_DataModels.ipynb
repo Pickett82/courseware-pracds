{
 "cells": [
  {
   "cell_type": "markdown",
   "id": "221a8a52",
   "metadata": {},
   "source": [
    "## Data, Analytics &amp; AI \n",
    "# <font color=indigo> Practical Big Data: NoSQL Models </font>\n",
    "\n",
    "\n",
    "---\n",
    "\n",
    "<small>QA Ltd. owns the copyright and other intellectual property rights of this material and asserts its moral rights as the author. All rights reserved.</small>"
   ]
  },
  {
   "cell_type": "markdown",
   "id": "98a15c11",
   "metadata": {},
   "source": [
    "## PreReq Python"
   ]
  },
  {
   "cell_type": "markdown",
   "id": "c72a2bd8",
   "metadata": {},
   "source": [
    "### Tuples"
   ]
  },
  {
   "cell_type": "code",
   "execution_count": 56,
   "id": "5d1702bb",
   "metadata": {},
   "outputs": [],
   "source": [
    "row_tuple = (1, \"Michael\", \"UK\")"
   ]
  },
  {
   "cell_type": "markdown",
   "id": "17c1631a",
   "metadata": {},
   "source": [
    "ordered, fixed, ..."
   ]
  },
  {
   "cell_type": "code",
   "execution_count": 57,
   "id": "95367a85",
   "metadata": {},
   "outputs": [
    {
     "data": {
      "text/plain": [
       "1"
      ]
     },
     "execution_count": 57,
     "metadata": {},
     "output_type": "execute_result"
    }
   ],
   "source": [
    "row_tuple[0]"
   ]
  },
  {
   "cell_type": "markdown",
   "id": "6e274198",
   "metadata": {},
   "source": [
    "### Lists"
   ]
  },
  {
   "cell_type": "code",
   "execution_count": 58,
   "id": "54073074",
   "metadata": {},
   "outputs": [],
   "source": [
    "data_list = [\"Michael\"]\n",
    "data_list.append(\"Alice\")\n",
    "data_list.append(\"Eve\")"
   ]
  },
  {
   "cell_type": "markdown",
   "id": "62302618",
   "metadata": {},
   "source": [
    "ordered, mutable (editable)"
   ]
  },
  {
   "cell_type": "code",
   "execution_count": 60,
   "id": "c87c2df9",
   "metadata": {},
   "outputs": [
    {
     "data": {
      "text/plain": [
       "'Michael'"
      ]
     },
     "execution_count": 60,
     "metadata": {},
     "output_type": "execute_result"
    }
   ],
   "source": [
    "data_list[0]"
   ]
  },
  {
   "cell_type": "markdown",
   "id": "b9719229",
   "metadata": {},
   "source": [
    "### Sets"
   ]
  },
  {
   "cell_type": "code",
   "execution_count": 61,
   "id": "8cc1e0c5",
   "metadata": {},
   "outputs": [],
   "source": [
    "unique_set = {'A', 'A', 'B', 'C'}"
   ]
  },
  {
   "cell_type": "markdown",
   "id": "1a447867",
   "metadata": {},
   "source": [
    "unique, unordered, ..."
   ]
  },
  {
   "cell_type": "code",
   "execution_count": 62,
   "id": "3dd5fa18",
   "metadata": {},
   "outputs": [
    {
     "data": {
      "text/plain": [
       "{'A', 'B', 'C'}"
      ]
     },
     "execution_count": 62,
     "metadata": {},
     "output_type": "execute_result"
    }
   ],
   "source": [
    "unique_set"
   ]
  },
  {
   "cell_type": "code",
   "execution_count": 64,
   "id": "a0afb654",
   "metadata": {},
   "outputs": [],
   "source": [
    "# unique_set[0]  # ERROR!"
   ]
  },
  {
   "cell_type": "markdown",
   "id": "54fc0bcd",
   "metadata": {},
   "source": [
    "### Dictionary"
   ]
  },
  {
   "cell_type": "code",
   "execution_count": 69,
   "id": "af49f6f7",
   "metadata": {},
   "outputs": [],
   "source": [
    "word_dictionary = {\n",
    "    \"happy\"  : \"def. a positive emotion\", # key-value pair\n",
    "    \"sad\"    : \"def. a negative emotion\"\n",
    "}"
   ]
  },
  {
   "cell_type": "markdown",
   "id": "dce1786d",
   "metadata": {},
   "source": [
    "unordered, unique *pairs*, key is the index,"
   ]
  },
  {
   "cell_type": "code",
   "execution_count": 73,
   "id": "74547dd7",
   "metadata": {},
   "outputs": [
    {
     "data": {
      "text/plain": [
       "'def. a positive emotion'"
      ]
     },
     "execution_count": 73,
     "metadata": {},
     "output_type": "execute_result"
    }
   ],
   "source": [
    "word_dictionary['happy'] # query *by key*"
   ]
  },
  {
   "cell_type": "markdown",
   "id": "a9af6824",
   "metadata": {},
   "source": [
    "#### ASIDE: Dictionaries are a bit like collections of 2-tuples"
   ]
  },
  {
   "cell_type": "code",
   "execution_count": 70,
   "id": "699e72a1",
   "metadata": {},
   "outputs": [],
   "source": [
    "dicty = [\n",
    "    (\"happy\", \"def. postiive\"), \n",
    "    (\"sad\", \"def. negative\")\n",
    "]"
   ]
  },
  {
   "cell_type": "code",
   "execution_count": 71,
   "id": "0b631d9f",
   "metadata": {},
   "outputs": [
    {
     "data": {
      "text/plain": [
       "('happy', 'def. postiive')"
      ]
     },
     "execution_count": 71,
     "metadata": {},
     "output_type": "execute_result"
    }
   ],
   "source": [
    "dicty[0]"
   ]
  },
  {
   "cell_type": "code",
   "execution_count": 72,
   "id": "9355d6e2",
   "metadata": {},
   "outputs": [
    {
     "data": {
      "text/plain": [
       "'def. a positive emotion'"
      ]
     },
     "execution_count": 72,
     "metadata": {},
     "output_type": "execute_result"
    }
   ],
   "source": [
    "word_dictionary['happy']"
   ]
  },
  {
   "cell_type": "markdown",
   "id": "acd754dc",
   "metadata": {},
   "source": [
    "## What is a **Data Model** ?"
   ]
  },
  {
   "cell_type": "markdown",
   "id": "9cd6e923",
   "metadata": {},
   "source": [
    "The term data model can refer to two distinct but closely related concepts. \n",
    "\n",
    "Sometimes it refers to an abstract formalization of the objects and relationships found in a particular application domain: for example the customers, products, and orders found in a manufacturing organization. \n",
    "\n",
    "\n",
    "At other times it refers to the set of concepts used in defining such formalizations: for example concepts such as entities, attributes, relations, or tables. \n",
    "\n",
    "\n"
   ]
  },
  {
   "cell_type": "markdown",
   "id": "9c3874ed",
   "metadata": {},
   "source": [
    "* (Abstract) Data Model:\n",
    "    * table, graph, document...\n",
    "* Data Model (of an Application):\n",
    "    * customer, sales, order, ..."
   ]
  },
  {
   "cell_type": "markdown",
   "id": "e77e45b5",
   "metadata": {},
   "source": [
    "## What is the Relational Model?"
   ]
  },
  {
   "cell_type": "markdown",
   "id": "eef0d146",
   "metadata": {},
   "source": [
    "* <font color=green> Relational Databases are ALMOST ALWAYS right answer! </font>\n",
    "\n",
    "* Relation = Table \n",
    "    * Set of Tuples\n",
    "    * Tuple = Row\n",
    "* Set\n",
    "    * all the entires are unique\n",
    "    * no guarenteed ordering to entries\n",
    "* Tuple (aka Row)\n",
    "    * entries are ordered, may be duplicated\n",
    "    * columns are parts of a row\n",
    "    * fixed size"
   ]
  },
  {
   "cell_type": "code",
   "execution_count": 5,
   "id": "3350806c",
   "metadata": {},
   "outputs": [],
   "source": [
    "customers_table = {\n",
    "    (3, \"Eve\", \"DE\"),\n",
    "    (1, \"Michael\", \"UK\"),\n",
    "    (2, \"Alice\", \"FR\"),\n",
    "}"
   ]
  },
  {
   "cell_type": "code",
   "execution_count": 6,
   "id": "c9d92618",
   "metadata": {},
   "outputs": [
    {
     "data": {
      "text/plain": [
       "{(1, 'Michael', 'UK'), (2, 'Alice', 'FR'), (3, 'Eve', 'DE')}"
      ]
     },
     "execution_count": 6,
     "metadata": {},
     "output_type": "execute_result"
    }
   ],
   "source": [
    "customers_table"
   ]
  },
  {
   "cell_type": "markdown",
   "id": "0400b606",
   "metadata": {},
   "source": [
    "## Why do we want to use Relations (ie., Tables)?"
   ]
  },
  {
   "cell_type": "markdown",
   "id": "aca19504",
   "metadata": {},
   "source": [
    "* A relational system provides a data model with the minimum properties we need for modelling application data\n",
    "    * Sets = a group (we dont need order)\n",
    "    * Tuple = an element (we do need order)"
   ]
  },
  {
   "cell_type": "markdown",
   "id": "f5a0a4cb",
   "metadata": {},
   "source": [
    "### Why are relational DBs unordered?"
   ]
  },
  {
   "cell_type": "markdown",
   "id": "5bd7ba0e",
   "metadata": {},
   "source": [
    "* powerful\n",
    "    * recall: it doesnt **promise** any ordering\n",
    "    * the database can optimize the storage by reordering\n",
    "        * you dont need to care\n",
    "* weakness \n",
    "    * can't force an ordering\n",
    "    * if we know a good ordering, we can't use it"
   ]
  },
  {
   "cell_type": "markdown",
   "id": "d97991c0",
   "metadata": {},
   "source": [
    "## What are the NoSQL Data Models?"
   ]
  },
  {
   "cell_type": "markdown",
   "id": "8b674cf4",
   "metadata": {},
   "source": [
    "* The relational model can be used for pretty much anything\n",
    "    * but is lack of order (and other guarentees) may make some queries highly unperformant"
   ]
  },
  {
   "cell_type": "markdown",
   "id": "8313eb5c",
   "metadata": {},
   "source": [
    "### The Relational Model Failing: An Example"
   ]
  },
  {
   "cell_type": "code",
   "execution_count": 14,
   "id": "15b7dadc",
   "metadata": {},
   "outputs": [],
   "source": [
    "people = {\n",
    "    # staff, manager, age, location\n",
    "    (\"Alice\", \"Eve\", 30, \"UK\"),\n",
    "    (\"Eve\", \"Bob\", 50, \"FR\"),\n",
    "    (\"Bob\", None, 60, \"DE\"),\n",
    "}"
   ]
  },
  {
   "cell_type": "code",
   "execution_count": 21,
   "id": "398e67e0",
   "metadata": {},
   "outputs": [
    {
     "name": "stdout",
     "output_type": "stream",
     "text": [
      "Bob\n"
     ]
    }
   ],
   "source": [
    "alices_manager = None\n",
    "\n",
    "# SELECT, WHERE, O(N)\n",
    "for (eid, manager, age, location) in people: \n",
    "    if eid == \"Alice\":\n",
    "        alices_manager = manager\n",
    "\n",
    "# SELECT, WHERE, O(N)\n",
    "for (eid, manager, age, location) in people: \n",
    "    if eid == alices_manager:\n",
    "        print(manager)"
   ]
  },
  {
   "cell_type": "markdown",
   "id": "3bcbc659",
   "metadata": {},
   "source": [
    "```sql\n",
    "\n",
    "SELECT manager\n",
    "FROM people \n",
    "WHERE eid = (\n",
    "    SELECT manager \n",
    "    FROM people \n",
    "    WHERE eid = \"Alice\"\n",
    ")\n",
    "```\n",
    "\n",
    "\n",
    "```sql\n",
    "SELECT manager\n",
    "FROM people \n",
    "WHERE eid = ....\n",
    "    SELECT manager\n",
    "    FROM people \n",
    "    WHERE eid = (\n",
    "        SELECT manager \n",
    "        FROM people \n",
    "        WHERE eid = \"Alice\"\n",
    "    )\n",
    "```"
   ]
  },
  {
   "cell_type": "markdown",
   "id": "618b8e40",
   "metadata": {},
   "source": [
    "#### A Possible Solution"
   ]
  },
  {
   "cell_type": "code",
   "execution_count": 19,
   "id": "5329a23a",
   "metadata": {},
   "outputs": [],
   "source": [
    "graph = {\n",
    "    'Alice': ['Eve', 'Bob', 'Michael'],\n",
    "    'Eve': ['Bob'],\n",
    "    'Bob': []\n",
    "}"
   ]
  },
  {
   "cell_type": "code",
   "execution_count": 20,
   "id": "5633175b",
   "metadata": {},
   "outputs": [
    {
     "data": {
      "text/plain": [
       "['Eve', 'Bob', 'Michael']"
      ]
     },
     "execution_count": 20,
     "metadata": {},
     "output_type": "execute_result"
    }
   ],
   "source": [
    "graph['Alice'] # time = constant time, O(1)"
   ]
  },
  {
   "cell_type": "markdown",
   "id": "513d445a",
   "metadata": {},
   "source": [
    "###### Denormalization: Store the above results in a useful table"
   ]
  },
  {
   "cell_type": "code",
   "execution_count": 17,
   "id": "708c0eea",
   "metadata": {},
   "outputs": [],
   "source": [
    "bosses = {\n",
    "    (\"Alice\", \"Eve\", \"Bob\")\n",
    "}"
   ]
  },
  {
   "cell_type": "markdown",
   "id": "01e458b4",
   "metadata": {},
   "source": [
    "## Reflection: How did `{k: v1, v2...}` structure help?"
   ]
  },
  {
   "cell_type": "markdown",
   "id": "c6c3b3d7",
   "metadata": {},
   "source": [
    "* `k` provided an index, we can use `k` (eg., \"Alice\") to find data *in one operation*\n",
    "* `v` is a *list* which can change its size \n",
    "    * ordered, varying-size, mutable...\n",
    "    \n",
    "Having these properties as part of the data model means we can query very efficiently *when they help*. \n",
    "\n",
    "\n",
    "\n",
    "* Comparing to a relation:\n",
    "    * relation dbs **do** maintain indexes\n",
    "        * they know where data is\n",
    "    * but becasue \n",
    "        * rows are fixed-width (ie., tuples are fixed length)\n",
    "        * rows are rarely going to be \"just next to each other\"\n",
    "    * you will run many selects"
   ]
  },
  {
   "cell_type": "markdown",
   "id": "e1eadc6a",
   "metadata": {},
   "source": [
    "## What are the NoSQL Data Models?\n",
    "\n",
    "* Key-Value\n",
    "* Graph\n",
    "* Document\n",
    "* Columnar"
   ]
  },
  {
   "cell_type": "markdown",
   "id": "9eb01c18",
   "metadata": {},
   "source": [
    "### Key-Value Pairs"
   ]
  },
  {
   "cell_type": "markdown",
   "id": "5510e48a",
   "metadata": {},
   "source": [
    "* Key-Value pairs provide a minimal amount of structure for one peice of data\n",
    "    * tag + value\n",
    "* A collection of kv-pairs is then a very loosely structured dataset"
   ]
  },
  {
   "cell_type": "code",
   "execution_count": 23,
   "id": "c755d053",
   "metadata": {},
   "outputs": [],
   "source": [
    "kvpair = {\n",
    "    #  KEY                                            VALUE\n",
    "    '/uk/suspects/theft/images/2022-01-01/michael.jpg' : 'IMGDATA' \n",
    "}"
   ]
  },
  {
   "cell_type": "code",
   "execution_count": 30,
   "id": "6489cb89",
   "metadata": {},
   "outputs": [],
   "source": [
    "suspects = [\n",
    "    {'name': 'Michael', 'age': 32, 'height': 1.81},\n",
    "    {'name': 'Thomas', 'location': 'UK'}, # height: None\n",
    "    {'location': 'UK', 'age': 19}, # height: None\n",
    "]"
   ]
  },
  {
   "cell_type": "code",
   "execution_count": 27,
   "id": "b7376119",
   "metadata": {},
   "outputs": [
    {
     "data": {
      "text/plain": [
       "'Michael'"
      ]
     },
     "execution_count": 27,
     "metadata": {},
     "output_type": "execute_result"
    }
   ],
   "source": [
    "suspects[0]['name']"
   ]
  },
  {
   "cell_type": "code",
   "execution_count": 28,
   "id": "dfb680ee",
   "metadata": {},
   "outputs": [
    {
     "name": "stdout",
     "output_type": "stream",
     "text": [
      "Michael\n",
      "Thomas\n"
     ]
    }
   ],
   "source": [
    "for s in suspects:\n",
    "    if 'name' in s:\n",
    "        print(s['name'])"
   ]
  },
  {
   "cell_type": "markdown",
   "id": "a7942f0b",
   "metadata": {},
   "source": [
    "* We get a semi-structured, maybe \"schemaless\" benefit\n",
    "* Enables:\n",
    "    * storing sparse data\n",
    "        * where, if you had the same columns for all rows, most would be `NULL`\n",
    "    * don't to have to commit to a schmea\n",
    "        * eg., many different data sources, different fields, etc.\n",
    "        \n",
    "* WARNING\n",
    "    * if you dont commit to a schema, you tend to make querying much harder\n",
    "    \n",
    "* Example:\n",
    "    * you could use a key-value system as a *staging area* for data\n",
    "        * a place for data before its moved into a relational database"
   ]
  },
  {
   "cell_type": "markdown",
   "id": "8dfe3ba4",
   "metadata": {},
   "source": [
    "## Documents"
   ]
  },
  {
   "cell_type": "markdown",
   "id": "19b51e90",
   "metadata": {},
   "source": [
    "* document = hierachical kvpair"
   ]
  },
  {
   "cell_type": "code",
   "execution_count": 36,
   "id": "bfec2b46",
   "metadata": {},
   "outputs": [],
   "source": [
    "credit_file = {\n",
    "    # profile table\n",
    "    'profile': {\n",
    "        'name': 'Alice',\n",
    "        'age': 30,\n",
    "    },\n",
    "    \n",
    "    # loans table, scores table...\n",
    "    'loans': [\n",
    "        {'amount': 1000, 'score': 600},\n",
    "        {'amount': 2000, 'score': 800},\n",
    "    ]\n",
    "}"
   ]
  },
  {
   "cell_type": "markdown",
   "id": "9b7c0477",
   "metadata": {},
   "source": [
    "In one query we get *a lot* of information,"
   ]
  },
  {
   "cell_type": "code",
   "execution_count": 33,
   "id": "004d544d",
   "metadata": {},
   "outputs": [
    {
     "data": {
      "text/plain": [
       "'Alice'"
      ]
     },
     "execution_count": 33,
     "metadata": {},
     "output_type": "execute_result"
    }
   ],
   "source": [
    "credit_file['profile']['name']"
   ]
  },
  {
   "cell_type": "code",
   "execution_count": 35,
   "id": "0c89ff2c",
   "metadata": {},
   "outputs": [
    {
     "data": {
      "text/plain": [
       "1000"
      ]
     },
     "execution_count": 35,
     "metadata": {},
     "output_type": "execute_result"
    }
   ],
   "source": [
    "credit_file['loans'][0]['amount']"
   ]
  },
  {
   "cell_type": "markdown",
   "id": "837ff4a5",
   "metadata": {},
   "source": [
    "* Advantage\n",
    "    * pre-joined, \"denormalized\"\n",
    "    * ie., not split up into different tables, all together\n",
    "* Use case:\n",
    "    * when queries always want the same info (a lot)\n",
    "    * eg., credit report\n",
    "* Disadvantage:\n",
    "    * if you need multiple different types of documnets\n",
    "        * and to *join those together*\n",
    "        * then: worse performance than relational"
   ]
  },
  {
   "cell_type": "markdown",
   "id": "bd0e5ae7",
   "metadata": {},
   "source": [
    "## Graphs\n",
    "\n",
    "* lots of ways of representing as a data model\n",
    "* key idea:\n",
    "    * links between nodes (aka rows) will determine the data order\n",
    "    * so data is \"in the right place\""
   ]
  },
  {
   "cell_type": "code",
   "execution_count": 37,
   "id": "749eab5d",
   "metadata": {},
   "outputs": [
    {
     "data": {
      "text/plain": [
       "{'Alice': ['Eve', 'Bob', 'Michael'], 'Eve': ['Bob'], 'Bob': []}"
      ]
     },
     "execution_count": 37,
     "metadata": {},
     "output_type": "execute_result"
    }
   ],
   "source": [
    "graph"
   ]
  },
  {
   "cell_type": "markdown",
   "id": "56871dcc",
   "metadata": {},
   "source": [
    "All the data we need *is in the same place*,"
   ]
  },
  {
   "cell_type": "code",
   "execution_count": 39,
   "id": "29a3a672",
   "metadata": {},
   "outputs": [
    {
     "data": {
      "text/plain": [
       "['Eve', 'Bob', 'Michael']"
      ]
     },
     "execution_count": 39,
     "metadata": {},
     "output_type": "execute_result"
    }
   ],
   "source": [
    "graph['Alice']"
   ]
  },
  {
   "cell_type": "markdown",
   "id": "93c31466",
   "metadata": {},
   "source": [
    "## Columnar Stores (aka DataFrames, BigTable)"
   ]
  },
  {
   "cell_type": "markdown",
   "id": "8be2b344",
   "metadata": {},
   "source": [
    "* Columnar databases are *tabular* \n",
    "* Table\n",
    "    * Set of *Columns*\n",
    "    * Tuple = Column"
   ]
  },
  {
   "cell_type": "code",
   "execution_count": 44,
   "id": "0fa0716c",
   "metadata": {},
   "outputs": [],
   "source": [
    "columnar = {\n",
    "    (1, 2, 3, 4), # id col\n",
    "    (\"Alice\", \"Eve\", \"Bob\", \"Michael\"), # name col\n",
    "    (\"UK\", \"FR\", \"FR\", \"UK\")\n",
    "}"
   ]
  },
  {
   "cell_type": "markdown",
   "id": "d4ddee60",
   "metadata": {},
   "source": [
    "* Relation makes easy\n",
    "    * adding rows, querying across rows, ...\n",
    "* Columnar\n",
    "    * adding columns, querying across columns\n",
    "* Useful for analytical databases\n",
    "    * analytical queries usually require all rows of many columns\n",
    "    * for a report you're bringing together many datasets\n",
    "        * lots of columns\n",
    "* Advantage\n",
    "    * easily compressible"
   ]
  },
  {
   "cell_type": "code",
   "execution_count": 91,
   "id": "eaed7422",
   "metadata": {},
   "outputs": [],
   "source": [
    "key = {0: \"UK\", 1: \"FR\"} # this is invisible when using columnar dbs\n",
    "\n",
    "\n",
    "compressed_columnar = [\n",
    "    (1, 2, 3, 4), # id col\n",
    "    (\"Alice\", \"Eve\", \"Bob\", \"Michael\"), # name col\n",
    "    (0, 1, 1, 0)\n",
    "]\n",
    "\n",
    "query_result = compressed_columnar[2] # + decompress\n",
    "\n"
   ]
  },
  {
   "cell_type": "markdown",
   "id": "12346ad7",
   "metadata": {},
   "source": [
    "## What databases provide these data models?"
   ]
  },
  {
   "cell_type": "markdown",
   "id": "ebfc33e0",
   "metadata": {},
   "source": [
    "* Relation\n",
    "    * Set of Rows\n",
    "    * Postgres, MySQL, Oracle, DB2, MS SQL Sever, ...\n",
    "* Columnar\n",
    "    * Set of Columns\n",
    "    * Snowflake, Delta Lake, Spark/Databricks, ...\n",
    "* Key-Value Pair\n",
    "    * Tag + Value\n",
    "    * Redis, Postgres, ...\n",
    "* Document\n",
    "    * Hierachical Key-Value Pairs\n",
    "    * MongoDB, Postgres, ...\n",
    "* Graphs\n",
    "    * Ordered by their edges\n",
    "    * Connected nodes are \"usefully together\"\n",
    "    * Postgres, Neo4j, ..."
   ]
  },
  {
   "cell_type": "markdown",
   "id": "90dcd5fe",
   "metadata": {},
   "source": [
    "## How do data systems work together?"
   ]
  },
  {
   "cell_type": "markdown",
   "id": "84ad6979",
   "metadata": {},
   "source": [
    "* Redis"
   ]
  },
  {
   "cell_type": "markdown",
   "id": "aa62022d",
   "metadata": {},
   "source": [
    "```sql\n",
    "result = SELECT * FROM lotsofdata WHERE ...\n",
    "```"
   ]
  },
  {
   "cell_type": "markdown",
   "id": "46cbb5ac",
   "metadata": {},
   "source": [
    "```python\n",
    "kv = {\n",
    "    \"12pm/today/SELECT * FROM lotsofdata WHERE\": \"CACHEOFDATA\"\n",
    "}\n",
    "```"
   ]
  },
  {
   "cell_type": "markdown",
   "id": "014f699d",
   "metadata": {},
   "source": [
    "### Eg. Pandas"
   ]
  },
  {
   "cell_type": "code",
   "execution_count": 105,
   "id": "a49c67a9",
   "metadata": {},
   "outputs": [],
   "source": [
    "import pandas as pd\n",
    "import seaborn as sns\n",
    "\n",
    "titanic = sns.load_dataset('titanic')"
   ]
  },
  {
   "cell_type": "markdown",
   "id": "45057fe1",
   "metadata": {},
   "source": [
    "We can *easily* subset on columns, "
   ]
  },
  {
   "cell_type": "markdown",
   "id": "771bf06d",
   "metadata": {},
   "source": [
    "As expensive in a columnar system to ask for three columns, as in a relational system three rows. "
   ]
  },
  {
   "cell_type": "code",
   "execution_count": 106,
   "id": "61b4a939",
   "metadata": {},
   "outputs": [
    {
     "data": {
      "text/html": [
       "<div>\n",
       "<style scoped>\n",
       "    .dataframe tbody tr th:only-of-type {\n",
       "        vertical-align: middle;\n",
       "    }\n",
       "\n",
       "    .dataframe tbody tr th {\n",
       "        vertical-align: top;\n",
       "    }\n",
       "\n",
       "    .dataframe thead th {\n",
       "        text-align: right;\n",
       "    }\n",
       "</style>\n",
       "<table border=\"1\" class=\"dataframe\">\n",
       "  <thead>\n",
       "    <tr style=\"text-align: right;\">\n",
       "      <th></th>\n",
       "      <th>sex</th>\n",
       "      <th>age</th>\n",
       "    </tr>\n",
       "  </thead>\n",
       "  <tbody>\n",
       "    <tr>\n",
       "      <th>0</th>\n",
       "      <td>male</td>\n",
       "      <td>22.0</td>\n",
       "    </tr>\n",
       "    <tr>\n",
       "      <th>1</th>\n",
       "      <td>female</td>\n",
       "      <td>38.0</td>\n",
       "    </tr>\n",
       "    <tr>\n",
       "      <th>2</th>\n",
       "      <td>female</td>\n",
       "      <td>26.0</td>\n",
       "    </tr>\n",
       "    <tr>\n",
       "      <th>3</th>\n",
       "      <td>female</td>\n",
       "      <td>35.0</td>\n",
       "    </tr>\n",
       "    <tr>\n",
       "      <th>4</th>\n",
       "      <td>male</td>\n",
       "      <td>35.0</td>\n",
       "    </tr>\n",
       "    <tr>\n",
       "      <th>...</th>\n",
       "      <td>...</td>\n",
       "      <td>...</td>\n",
       "    </tr>\n",
       "    <tr>\n",
       "      <th>886</th>\n",
       "      <td>male</td>\n",
       "      <td>27.0</td>\n",
       "    </tr>\n",
       "    <tr>\n",
       "      <th>887</th>\n",
       "      <td>female</td>\n",
       "      <td>19.0</td>\n",
       "    </tr>\n",
       "    <tr>\n",
       "      <th>888</th>\n",
       "      <td>female</td>\n",
       "      <td>NaN</td>\n",
       "    </tr>\n",
       "    <tr>\n",
       "      <th>889</th>\n",
       "      <td>male</td>\n",
       "      <td>26.0</td>\n",
       "    </tr>\n",
       "    <tr>\n",
       "      <th>890</th>\n",
       "      <td>male</td>\n",
       "      <td>32.0</td>\n",
       "    </tr>\n",
       "  </tbody>\n",
       "</table>\n",
       "<p>891 rows × 2 columns</p>\n",
       "</div>"
      ],
      "text/plain": [
       "        sex   age\n",
       "0      male  22.0\n",
       "1    female  38.0\n",
       "2    female  26.0\n",
       "3    female  35.0\n",
       "4      male  35.0\n",
       "..      ...   ...\n",
       "886    male  27.0\n",
       "887  female  19.0\n",
       "888  female   NaN\n",
       "889    male  26.0\n",
       "890    male  32.0\n",
       "\n",
       "[891 rows x 2 columns]"
      ]
     },
     "execution_count": 106,
     "metadata": {},
     "output_type": "execute_result"
    }
   ],
   "source": [
    "titanic[['sex', 'age']]"
   ]
  },
  {
   "cell_type": "code",
   "execution_count": 107,
   "id": "e2e9b479",
   "metadata": {},
   "outputs": [],
   "source": [
    "titanic.to_csv('relational.csv')"
   ]
  },
  {
   "cell_type": "code",
   "execution_count": 108,
   "id": "7ce8641f",
   "metadata": {},
   "outputs": [],
   "source": [
    "titanic.to_parquet('columnar.pq')"
   ]
  },
  {
   "cell_type": "code",
   "execution_count": 112,
   "id": "c7d1cc76",
   "metadata": {},
   "outputs": [
    {
     "name": "stdout",
     "output_type": "stream",
     "text": [
      "the CSV is larger than the pq by, \n"
     ]
    },
    {
     "data": {
      "text/plain": [
       "4"
      ]
     },
     "execution_count": 112,
     "metadata": {},
     "output_type": "execute_result"
    }
   ],
   "source": [
    "import os\n",
    "\n",
    "print(\"the CSV is larger than the pq by, \")\n",
    "round(\n",
    "    os.stat('relational.csv').st_size / os.stat('columnar.pq').st_size\n",
    ")"
   ]
  },
  {
   "cell_type": "code",
   "execution_count": 110,
   "id": "385d7543",
   "metadata": {},
   "outputs": [
    {
     "data": {
      "text/html": [
       "<div>\n",
       "<style scoped>\n",
       "    .dataframe tbody tr th:only-of-type {\n",
       "        vertical-align: middle;\n",
       "    }\n",
       "\n",
       "    .dataframe tbody tr th {\n",
       "        vertical-align: top;\n",
       "    }\n",
       "\n",
       "    .dataframe thead th {\n",
       "        text-align: right;\n",
       "    }\n",
       "</style>\n",
       "<table border=\"1\" class=\"dataframe\">\n",
       "  <thead>\n",
       "    <tr style=\"text-align: right;\">\n",
       "      <th></th>\n",
       "      <th>survived</th>\n",
       "      <th>pclass</th>\n",
       "      <th>sex</th>\n",
       "      <th>age</th>\n",
       "      <th>sibsp</th>\n",
       "      <th>parch</th>\n",
       "      <th>fare</th>\n",
       "      <th>embarked</th>\n",
       "      <th>class</th>\n",
       "      <th>who</th>\n",
       "      <th>adult_male</th>\n",
       "      <th>deck</th>\n",
       "      <th>embark_town</th>\n",
       "      <th>alive</th>\n",
       "      <th>alone</th>\n",
       "    </tr>\n",
       "  </thead>\n",
       "  <tbody>\n",
       "    <tr>\n",
       "      <th>0</th>\n",
       "      <td>0</td>\n",
       "      <td>3</td>\n",
       "      <td>male</td>\n",
       "      <td>22.0</td>\n",
       "      <td>1</td>\n",
       "      <td>0</td>\n",
       "      <td>7.2500</td>\n",
       "      <td>S</td>\n",
       "      <td>Third</td>\n",
       "      <td>man</td>\n",
       "      <td>True</td>\n",
       "      <td>NaN</td>\n",
       "      <td>Southampton</td>\n",
       "      <td>no</td>\n",
       "      <td>False</td>\n",
       "    </tr>\n",
       "    <tr>\n",
       "      <th>1</th>\n",
       "      <td>1</td>\n",
       "      <td>1</td>\n",
       "      <td>female</td>\n",
       "      <td>38.0</td>\n",
       "      <td>1</td>\n",
       "      <td>0</td>\n",
       "      <td>71.2833</td>\n",
       "      <td>C</td>\n",
       "      <td>First</td>\n",
       "      <td>woman</td>\n",
       "      <td>False</td>\n",
       "      <td>C</td>\n",
       "      <td>Cherbourg</td>\n",
       "      <td>yes</td>\n",
       "      <td>False</td>\n",
       "    </tr>\n",
       "    <tr>\n",
       "      <th>2</th>\n",
       "      <td>1</td>\n",
       "      <td>3</td>\n",
       "      <td>female</td>\n",
       "      <td>26.0</td>\n",
       "      <td>0</td>\n",
       "      <td>0</td>\n",
       "      <td>7.9250</td>\n",
       "      <td>S</td>\n",
       "      <td>Third</td>\n",
       "      <td>woman</td>\n",
       "      <td>False</td>\n",
       "      <td>NaN</td>\n",
       "      <td>Southampton</td>\n",
       "      <td>yes</td>\n",
       "      <td>True</td>\n",
       "    </tr>\n",
       "    <tr>\n",
       "      <th>3</th>\n",
       "      <td>1</td>\n",
       "      <td>1</td>\n",
       "      <td>female</td>\n",
       "      <td>35.0</td>\n",
       "      <td>1</td>\n",
       "      <td>0</td>\n",
       "      <td>53.1000</td>\n",
       "      <td>S</td>\n",
       "      <td>First</td>\n",
       "      <td>woman</td>\n",
       "      <td>False</td>\n",
       "      <td>C</td>\n",
       "      <td>Southampton</td>\n",
       "      <td>yes</td>\n",
       "      <td>False</td>\n",
       "    </tr>\n",
       "    <tr>\n",
       "      <th>4</th>\n",
       "      <td>0</td>\n",
       "      <td>3</td>\n",
       "      <td>male</td>\n",
       "      <td>35.0</td>\n",
       "      <td>0</td>\n",
       "      <td>0</td>\n",
       "      <td>8.0500</td>\n",
       "      <td>S</td>\n",
       "      <td>Third</td>\n",
       "      <td>man</td>\n",
       "      <td>True</td>\n",
       "      <td>NaN</td>\n",
       "      <td>Southampton</td>\n",
       "      <td>no</td>\n",
       "      <td>True</td>\n",
       "    </tr>\n",
       "    <tr>\n",
       "      <th>...</th>\n",
       "      <td>...</td>\n",
       "      <td>...</td>\n",
       "      <td>...</td>\n",
       "      <td>...</td>\n",
       "      <td>...</td>\n",
       "      <td>...</td>\n",
       "      <td>...</td>\n",
       "      <td>...</td>\n",
       "      <td>...</td>\n",
       "      <td>...</td>\n",
       "      <td>...</td>\n",
       "      <td>...</td>\n",
       "      <td>...</td>\n",
       "      <td>...</td>\n",
       "      <td>...</td>\n",
       "    </tr>\n",
       "    <tr>\n",
       "      <th>886</th>\n",
       "      <td>0</td>\n",
       "      <td>2</td>\n",
       "      <td>male</td>\n",
       "      <td>27.0</td>\n",
       "      <td>0</td>\n",
       "      <td>0</td>\n",
       "      <td>13.0000</td>\n",
       "      <td>S</td>\n",
       "      <td>Second</td>\n",
       "      <td>man</td>\n",
       "      <td>True</td>\n",
       "      <td>NaN</td>\n",
       "      <td>Southampton</td>\n",
       "      <td>no</td>\n",
       "      <td>True</td>\n",
       "    </tr>\n",
       "    <tr>\n",
       "      <th>887</th>\n",
       "      <td>1</td>\n",
       "      <td>1</td>\n",
       "      <td>female</td>\n",
       "      <td>19.0</td>\n",
       "      <td>0</td>\n",
       "      <td>0</td>\n",
       "      <td>30.0000</td>\n",
       "      <td>S</td>\n",
       "      <td>First</td>\n",
       "      <td>woman</td>\n",
       "      <td>False</td>\n",
       "      <td>B</td>\n",
       "      <td>Southampton</td>\n",
       "      <td>yes</td>\n",
       "      <td>True</td>\n",
       "    </tr>\n",
       "    <tr>\n",
       "      <th>888</th>\n",
       "      <td>0</td>\n",
       "      <td>3</td>\n",
       "      <td>female</td>\n",
       "      <td>NaN</td>\n",
       "      <td>1</td>\n",
       "      <td>2</td>\n",
       "      <td>23.4500</td>\n",
       "      <td>S</td>\n",
       "      <td>Third</td>\n",
       "      <td>woman</td>\n",
       "      <td>False</td>\n",
       "      <td>NaN</td>\n",
       "      <td>Southampton</td>\n",
       "      <td>no</td>\n",
       "      <td>False</td>\n",
       "    </tr>\n",
       "    <tr>\n",
       "      <th>889</th>\n",
       "      <td>1</td>\n",
       "      <td>1</td>\n",
       "      <td>male</td>\n",
       "      <td>26.0</td>\n",
       "      <td>0</td>\n",
       "      <td>0</td>\n",
       "      <td>30.0000</td>\n",
       "      <td>C</td>\n",
       "      <td>First</td>\n",
       "      <td>man</td>\n",
       "      <td>True</td>\n",
       "      <td>C</td>\n",
       "      <td>Cherbourg</td>\n",
       "      <td>yes</td>\n",
       "      <td>True</td>\n",
       "    </tr>\n",
       "    <tr>\n",
       "      <th>890</th>\n",
       "      <td>0</td>\n",
       "      <td>3</td>\n",
       "      <td>male</td>\n",
       "      <td>32.0</td>\n",
       "      <td>0</td>\n",
       "      <td>0</td>\n",
       "      <td>7.7500</td>\n",
       "      <td>Q</td>\n",
       "      <td>Third</td>\n",
       "      <td>man</td>\n",
       "      <td>True</td>\n",
       "      <td>NaN</td>\n",
       "      <td>Queenstown</td>\n",
       "      <td>no</td>\n",
       "      <td>True</td>\n",
       "    </tr>\n",
       "  </tbody>\n",
       "</table>\n",
       "<p>891 rows × 15 columns</p>\n",
       "</div>"
      ],
      "text/plain": [
       "     survived  pclass     sex   age  sibsp  parch     fare embarked   class  \\\n",
       "0           0       3    male  22.0      1      0   7.2500        S   Third   \n",
       "1           1       1  female  38.0      1      0  71.2833        C   First   \n",
       "2           1       3  female  26.0      0      0   7.9250        S   Third   \n",
       "3           1       1  female  35.0      1      0  53.1000        S   First   \n",
       "4           0       3    male  35.0      0      0   8.0500        S   Third   \n",
       "..        ...     ...     ...   ...    ...    ...      ...      ...     ...   \n",
       "886         0       2    male  27.0      0      0  13.0000        S  Second   \n",
       "887         1       1  female  19.0      0      0  30.0000        S   First   \n",
       "888         0       3  female   NaN      1      2  23.4500        S   Third   \n",
       "889         1       1    male  26.0      0      0  30.0000        C   First   \n",
       "890         0       3    male  32.0      0      0   7.7500        Q   Third   \n",
       "\n",
       "       who  adult_male deck  embark_town alive  alone  \n",
       "0      man        True  NaN  Southampton    no  False  \n",
       "1    woman       False    C    Cherbourg   yes  False  \n",
       "2    woman       False  NaN  Southampton   yes   True  \n",
       "3    woman       False    C  Southampton   yes  False  \n",
       "4      man        True  NaN  Southampton    no   True  \n",
       "..     ...         ...  ...          ...   ...    ...  \n",
       "886    man        True  NaN  Southampton    no   True  \n",
       "887  woman       False    B  Southampton   yes   True  \n",
       "888  woman       False  NaN  Southampton    no  False  \n",
       "889    man        True    C    Cherbourg   yes   True  \n",
       "890    man        True  NaN   Queenstown    no   True  \n",
       "\n",
       "[891 rows x 15 columns]"
      ]
     },
     "execution_count": 110,
     "metadata": {},
     "output_type": "execute_result"
    }
   ],
   "source": [
    "pd.read_parquet('columnar.pq')"
   ]
  },
  {
   "cell_type": "markdown",
   "id": "0ed45fcf",
   "metadata": {},
   "source": [
    "## Polyglot Persistance"
   ]
  },
  {
   "cell_type": "markdown",
   "id": "54173020",
   "metadata": {},
   "source": [
    "* The same data stored in different data models in different database\n",
    "    * querying for different\n",
    "* This seems a bad idea *if* data coping is manual\n",
    "    * in this case you're relying on a person to ensure system is in sync\n",
    "* This **requires** automated data management processes"
   ]
  },
  {
   "cell_type": "markdown",
   "id": "3fe92ab9",
   "metadata": {},
   "source": [
    "## Exericse: Apply these Data Models (30 min)\n"
   ]
  },
  {
   "cell_type": "markdown",
   "id": "94ecc36c",
   "metadata": {},
   "source": [
    "* Example Problem:\n",
    "    * you are given health records of some patients\n",
    "    * they contain:\n",
    "        * name, age, hr, bp, etc.\n",
    "        * medical health history:\n",
    "            * hospital visits, treatments, surgeries\n",
    "        * known contacts\n",
    "            * friends, etc.\n",
    "* Question 1:\n",
    "    * on a piece of paper (or word, etc.) sketch an example health record\n",
    "* Question 2: \n",
    "    * based on this dataset\n",
    "    * define: relation, keyvals, columnar, document\n",
    "* HINT:\n",
    "    * relational = rows of fixed no. cols\n",
    "    * keyval = rows of different cols\n",
    "    * columnar = lots of cols\n",
    "    * document = hierachy/nesting of data\n",
    "* EXTRA:\n",
    "    * define a graph\n",
    "    * HINT: keys - nodes, values are list of their friends"
   ]
  },
  {
   "cell_type": "code",
   "execution_count": 49,
   "id": "d98a6f4b",
   "metadata": {},
   "outputs": [
    {
     "data": {
      "text/plain": [
       "{('Alice', 'Eve', 30, 'UK'), ('Bob', None, 60, 'DE'), ('Eve', 'Bob', 50, 'FR')}"
      ]
     },
     "execution_count": 49,
     "metadata": {},
     "output_type": "execute_result"
    }
   ],
   "source": [
    "people # relatioal"
   ]
  },
  {
   "cell_type": "code",
   "execution_count": 51,
   "id": "d6475f5d",
   "metadata": {},
   "outputs": [
    {
     "data": {
      "text/plain": [
       "[{'name': 'Michael', 'age': 32, 'height': 1.81},\n",
       " {'name': 'Thomas', 'location': 'UK'},\n",
       " {'location': 'UK', 'age': 19}]"
      ]
     },
     "execution_count": 51,
     "metadata": {},
     "output_type": "execute_result"
    }
   ],
   "source": [
    "suspects # key-value"
   ]
  },
  {
   "cell_type": "code",
   "execution_count": 52,
   "id": "742305a7",
   "metadata": {},
   "outputs": [
    {
     "data": {
      "text/plain": [
       "{('Alice', 'Eve', 'Bob', 'Michael'), ('UK', 'FR', 'FR', 'UK'), (1, 2, 3, 4)}"
      ]
     },
     "execution_count": 52,
     "metadata": {},
     "output_type": "execute_result"
    }
   ],
   "source": [
    "columnar # columnar"
   ]
  },
  {
   "cell_type": "code",
   "execution_count": 53,
   "id": "4f9aa62e",
   "metadata": {},
   "outputs": [
    {
     "data": {
      "text/plain": [
       "{'profile': {'name': 'Alice', 'age': 30},\n",
       " 'loans': [{'amount': 1000, 'score': 600}, {'amount': 2000, 'score': 800}]}"
      ]
     },
     "execution_count": 53,
     "metadata": {},
     "output_type": "execute_result"
    }
   ],
   "source": [
    "credit_file # document"
   ]
  },
  {
   "cell_type": "markdown",
   "id": "3c6b20de",
   "metadata": {},
   "source": [
    "---"
   ]
  },
  {
   "cell_type": "code",
   "execution_count": 54,
   "id": "d37a7e29",
   "metadata": {},
   "outputs": [
    {
     "data": {
      "text/plain": [
       "{'Alice': ['Eve', 'Bob', 'Michael'], 'Eve': ['Bob'], 'Bob': []}"
      ]
     },
     "execution_count": 54,
     "metadata": {},
     "output_type": "execute_result"
    }
   ],
   "source": [
    "graph"
   ]
  },
  {
   "cell_type": "markdown",
   "id": "2c60fb0b",
   "metadata": {},
   "source": [
    "---\n",
    "\n",
    "## Solution"
   ]
  },
  {
   "cell_type": "code",
   "execution_count": 78,
   "id": "3f5bbe36",
   "metadata": {},
   "outputs": [],
   "source": [
    "# live data systems\n",
    "patients_relation = {\n",
    "    (1001, \"Michael\", \"London\"),\n",
    "    (1002, \"Alice\", \"London\"),\n",
    "}\n",
    "\n",
    "visits_keyval = [\n",
    "    {\"patient_id\": 1001, \"dr\": \"dr. gloster\", \"summary\": \"fever\"},\n",
    "    {\"patient_id\": 1001, \"pills\": \"5mg happy\"},\n",
    "    {\"patient_id\": 1001, \"dr\": \"dr. gloster\", \"summary\": \"fever\"},\n",
    "    {\"patient_id\": 1002, \"dr\": \"dr. miggins\", \"diagnosis\": \"flu\"}\n",
    "]\n",
    "\n",
    "# predict-database\n",
    "predictivedata_documents = [\n",
    "    \n",
    "    {\"patient_id\": 1001, \n",
    "     \"name\": \"Micahel\", \n",
    "     \"prognosis\": [\n",
    "         {\"prescription\": \"5mg happy\", \"outcome\": \"cured\"},\n",
    "         {\"prescription\": \"5mg sad\", \"outcome\": \"cured\"},\n",
    "     ],\n",
    "     \"visits\": [\n",
    "        {\"dr\": \"dr. gloster\", \"summary\": \"fever\"},\n",
    "        {\"pills\": \"5mg happy\"},\n",
    "        {\"patient_id\": 1001, \"dr\": \"dr. gloster\", \"summary\": \"fever\"}\n",
    "    ]\n",
    "    },\n",
    "    \n",
    "    \n",
    "    # another \n",
    "    {\"patient_id\": 1002, \n",
    "     \"name\": \"Alice\", \n",
    "     \"prognosis\": [\n",
    "         {\"prescription\": \"5mg happy\", \"outcome\": \"cured\"},\n",
    "         {\"prescription\": \"5mg sad\", \"outcome\": \"cured\"},\n",
    "     ],\n",
    "     \"visits\": [\n",
    "        {\"dr\": \"dr. gloster\", \"summary\": \"fever\"},\n",
    "        {\"pills\": \"5mg happy\"},\n",
    "        {\"patient_id\": 1001, \"dr\": \"dr. gloster\", \"summary\": \"fever\"}\n",
    "    ]\n",
    "    },\n",
    "]\n",
    " \n",
    "\n",
    "# analytical reporting db\n",
    "reporting_columnar = {\n",
    "    (1001, 1002),\n",
    "    (\"Michael\", \"Alice\"),\n",
    "    (\"London\", \"London\"),\n",
    "    (\"Dr. G\", \"Dr. Miggings\"),\n",
    "    (\"5mg Happy\", None),\n",
    "    (\"fever\", None),\n",
    "    (None, \"flu\")\n",
    "    # ...\n",
    "}\n"
   ]
  },
  {
   "cell_type": "code",
   "execution_count": 83,
   "id": "a32a746c",
   "metadata": {},
   "outputs": [],
   "source": [
    "patientcontacts_graph = {\n",
    "    1001: [1002, 2002, 2001],\n",
    "    2002: [1004, 1005],\n",
    "    1005: [3001]\n",
    "}"
   ]
  },
  {
   "cell_type": "markdown",
   "id": "71888bfd",
   "metadata": {},
   "source": [
    "Q. Who is within two degrees of separation (ie., 3 links) from 1001?"
   ]
  },
  {
   "cell_type": "code",
   "execution_count": 90,
   "id": "ed9e52f5",
   "metadata": {},
   "outputs": [
    {
     "name": "stdout",
     "output_type": "stream",
     "text": [
      "1002\n",
      "2002\n",
      "1004\n",
      "1005\n",
      "2001\n"
     ]
    }
   ],
   "source": [
    "for firstdeg in patientcontacts_graph[1001]:\n",
    "    print(firstdeg)\n",
    "    for secondeg in patientcontacts_graph.get(firstdeg, []):\n",
    "        print(secondeg)"
   ]
  }
 ],
 "metadata": {
  "kernelspec": {
   "display_name": "Python 3.9",
   "language": "python",
   "name": "python3"
  },
  "language_info": {
   "codemirror_mode": {
    "name": "ipython",
    "version": 3
   },
   "file_extension": ".py",
   "mimetype": "text/x-python",
   "name": "python",
   "nbconvert_exporter": "python",
   "pygments_lexer": "ipython3",
   "version": "3.9.6"
  }
 },
 "nbformat": 4,
 "nbformat_minor": 5
}
