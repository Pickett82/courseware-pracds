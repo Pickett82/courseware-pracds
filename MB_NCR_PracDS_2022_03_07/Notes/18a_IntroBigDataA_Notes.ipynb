{
 "cells": [
  {
   "cell_type": "markdown",
   "id": "aff4c097-268d-410f-92fb-67c26950dc5c",
   "metadata": {
    "slideshow": {
     "slide_type": "slide"
    }
   },
   "source": [
    "## Data, Analytics &amp; AI \n",
    "# <font color=indigo> Introduction to Big Data</font>\n",
    "\n",
    "\n",
    "---"
   ]
  },
  {
   "cell_type": "markdown",
   "id": "20e5aff8-39d7-4988-9e11-7f5e89e66bdb",
   "metadata": {
    "slideshow": {
     "slide_type": "slide"
    }
   },
   "source": [
    "<small>QA Ltd. owns the copyright and other intellectual property rights of this material and asserts its moral rights as the author. All rights reserved.</small>"
   ]
  },
  {
   "cell_type": "markdown",
   "id": "3f28f4f3",
   "metadata": {
    "slideshow": {
     "slide_type": "slide"
    },
    "tags": []
   },
   "source": [
    "### Overview: Introduction to Big Data (1.5 hr)\n",
    "\n",
    "* What is Big Data?\n",
    "    * What is a Traditional Data System?\n",
    "    * What properties of data cause traditional systems to fail?\n",
    "        * What is Data Volume, Variety, Velocity?\n",
    "        * What are \"the other Vs\"?\n",
    "* What properties of the relational model are limiting?\n",
    "    * What is the Relational Model?\n",
    "    * What is Consistency?\n",
    "    * What is Schema-on-read?\n",
    "* What properties of Big Data Systems are different?\n",
    "    * What are NoSQL models?\n",
    "    * What is Schema-on-write?\n",
    "    * What is Eventual Consistency?\n",
    "    * What is the CAP Theorem?\n",
    "* When are Big Data Systems better?\n",
    "    * Why are relational systems the best default?\n",
    "    * What are the costs of distributed systems?\n",
    "* EXERCISE:\n",
    "    * Research and compare big data systems\n",
    "    "
   ]
  },
  {
   "cell_type": "markdown",
   "id": "559cc32c",
   "metadata": {
    "jp-MarkdownHeadingCollapsed": true,
    "slideshow": {
     "slide_type": "slide"
    },
    "tags": []
   },
   "source": [
    "#### Schedule\n",
    "* Overall time: 1.5 hr\n",
    "    * Lesson: 1 hr\n",
    "    * Lab: 0.5 hr \n",
    "    \n",
    "#### References & Next Steps\n",
    "* Books\n",
    "* Videos"
   ]
  },
  {
   "cell_type": "markdown",
   "id": "0af9bb04",
   "metadata": {
    "jp-MarkdownHeadingCollapsed": true,
    "slideshow": {
     "slide_type": "slide"
    },
    "tags": []
   },
   "source": [
    "## Lesson Plan\n",
    "\n",
    "* TODO\n",
    "\n",
    "---"
   ]
  },
  {
   "cell_type": "markdown",
   "id": "ef2c81a4",
   "metadata": {
    "slideshow": {
     "slide_type": "slide"
    }
   },
   "source": [
    "## What is Big Data?"
   ]
  },
  {
   "cell_type": "markdown",
   "id": "e866ab46",
   "metadata": {
    "slideshow": {
     "slide_type": "slide"
    }
   },
   "source": [
    "### What is a Traditional Data Problem?"
   ]
  },
  {
   "cell_type": "markdown",
   "id": "c272c152",
   "metadata": {
    "slideshow": {
     "slide_type": "fragment"
    }
   },
   "source": [
    "Traditional problems are solved with business intelligence:\n",
    "\n",
    "* skills\n",
    "    * querying\n",
    "    * reporting\n",
    "    * exploration\n",
    "* relational databases\n",
    "    * SQL\n",
    "* historical questions\n",
    "    * SELECT AVG(profit) FROM results\n",
    "    * facts \n",
    "        * if the data is correct, the answers are correct"
   ]
  },
  {
   "cell_type": "markdown",
   "id": "10f9bdd0",
   "metadata": {
    "slideshow": {
     "slide_type": "slide"
    }
   },
   "source": [
    "### What is a Big Data problem?"
   ]
  },
  {
   "cell_type": "markdown",
   "id": "c7432033",
   "metadata": {
    "slideshow": {
     "slide_type": "fragment"
    }
   },
   "source": [
    "def., a non-traditional data problem...\n",
    "\n",
    "> Big data is a field that treats ways to analyze, systematically extract information from, or otherwise deal with data sets that are too large or complex to be dealt with by **traditional data-processing application software**. \n",
    "\n",
    "> Data with many cases (rows) offer greater statistical power, while data with higher complexity (more attributes or columns) may lead to a higher false discovery rate.\n",
    "\n",
    "> Big data challenges include capturing data, data storage, data analysis, search, sharing, transfer, visualization, querying, updating, information privacy.\n",
    "\n",
    "\n",
    "- wikipedia, Big Data"
   ]
  },
  {
   "cell_type": "markdown",
   "id": "f7a23a09",
   "metadata": {
    "slideshow": {
     "slide_type": "slide"
    },
    "tags": []
   },
   "source": [
    "### What are The Three Vs?"
   ]
  },
  {
   "cell_type": "markdown",
   "id": "f60a4dfe-1071-4a7a-bfe0-f8ef9cde2b37",
   "metadata": {
    "slideshow": {
     "slide_type": "slide"
    }
   },
   "source": [
    "How can we decide when a problem is non-traditional? Are there any emprical metrics?"
   ]
  },
  {
   "cell_type": "markdown",
   "id": "39152c6a-cb46-4aa7-9b44-6439219004bf",
   "metadata": {
    "slideshow": {
     "slide_type": "slide"
    }
   },
   "source": [
    "#### Velocity\n",
    "* real-time\n",
    "* problems \"quickly\" become non-traditional\n",
    "    * traditional solutions *do not scale well*\n",
    "* response required < 1s\n",
    "* ratio = traditional-query-time / response-time\n",
    "* is this close-to or more-than 1?\n",
    "    * eg., 60 seconds / 120 secods = 0.5\n",
    "    * eg., 60 seconds / 30 seconds = 2\n"
   ]
  },
  {
   "cell_type": "markdown",
   "id": "d44eb5dc",
   "metadata": {
    "slideshow": {
     "slide_type": "slide"
    }
   },
   "source": [
    "#### Vairety\n",
    "* data complexity \n",
    "* problems \"quickly\" become non-traditional\n",
    "    * traditional solutions *do not scale well*\n",
    "* independent dimensions in the dataset\n",
    "    * independent attributes of the data\n",
    "* repeated information:\n",
    "    * (lat, long), (address), (geotag)\n",
    "* large amounts of *relevant* non-repeated information\n",
    "* image: 1MP is 1,000,000\n",
    "    * even a small image is 1-million dimensions\n",
    "* if you're considering >20 *relevant*, *indepedent* attributes, may have big-data problem\n",
    "\n"
   ]
  },
  {
   "cell_type": "markdown",
   "id": "c04ecb10",
   "metadata": {
    "slideshow": {
     "slide_type": "slide"
    }
   },
   "source": [
    "#### Volume\n",
    "* traditional solutions *scale well*\n",
    "* RAM\n",
    "    * how much memory does a query need?\n",
    "    * ratio = query-need / machine-amount\n",
    "        * of the best plausible single machine\n",
    "    * eg., 100 GB / 512 GB\n",
    "        * not a big data problem\n",
    "    * eg., 1 TB / 512 GB\n",
    "        * could be a big data problem\n",
    "        * may also be possible to optimize the query \n",
    "* Storage\n",
    "    * how big is the entire dataset?\n",
    "    * ratio = disk-size / machine-amount\n",
    "    * eg., 10 TB / 16TB\n",
    "        * not a big data problem\n",
    "\n"
   ]
  },
  {
   "cell_type": "markdown",
   "id": "2dfb7381",
   "metadata": {
    "slideshow": {
     "slide_type": "slide"
    }
   },
   "source": [
    "## Where is the boundary between big-data and traditional?\n",
    "\n",
    "Not fixed. In 2010, 100 GB query may be big data, now *certaintly isn't*. "
   ]
  },
  {
   "cell_type": "markdown",
   "id": "461c7694",
   "metadata": {
    "slideshow": {
     "slide_type": "slide"
    }
   },
   "source": [
    "## What other `V`s are also mentioned?\n",
    "* Veracity\n",
    "    * data quality issues unique to non-traditional problems\n",
    "    * eg., high data sparicity (data is mostly null)\n",
    "* Value\n",
    "    * consider, big data often has unique predictive and inferential value of data "
   ]
  },
  {
   "cell_type": "markdown",
   "id": "7e408465-818f-43a0-8f5e-a61d839da84d",
   "metadata": {
    "slideshow": {
     "slide_type": "slide"
    }
   },
   "source": [
    "##  When did the era of Big Data start?\n",
    "* 70s\n",
    "    * databases\n",
    "    * ingres, 1970s\n",
    "    * postgres, 1996\n",
    "* 80s\n",
    "    * data warehouse era\n",
    "* 1999/2000\n",
    "    * the term \"Big Data\"\n",
    "* 2004s+\n",
    "    * Hadoop\n",
    "* 2007s+\n",
    "    * NoSQL, eg., neo4j\n",
    "* 2012s+\n",
    "    * Lambda Architectures & Spark\n",
    "    * data lakes\n",
    "* 2019s+\n",
    "    * Event Architectures\n",
    "    * cloud data platforms\n",
    "* 2030?\n",
    "    * on-premise data?"
   ]
  },
  {
   "cell_type": "markdown",
   "id": "a64148d3-a3e3-47a4-8227-124b55e2f4d3",
   "metadata": {
    "slideshow": {
     "slide_type": "slide"
    }
   },
   "source": [
    "##  What are the stages of being \"Big Data\"?\n",
    "* pre-digital\n",
    "* digitizing\n",
    "* digital-first\n",
    "* online-only data systems\n",
    "    * transactions\n",
    "* offline data systems\n",
    "    * reporting, fact-finding\n",
    "* online realtime / big data systems\n",
    "* offline big data insight\n",
    "* evidence-based decision making\n",
    "* data democritization\n",
    "    * self-service\n",
    "* data insight culture"
   ]
  },
  {
   "cell_type": "markdown",
   "id": "a2ebc6f0-8043-4a79-b02a-c9a3a8196457",
   "metadata": {
    "slideshow": {
     "slide_type": "slide"
    }
   },
   "source": [
    "##  What are Big Data techniques?\n",
    "* automation & algorithms\n",
    "* pipelines, processing, injestion\n",
    "* data science \n",
    "* machine learning\n",
    "* real-time analytics\n",
    "    * streaming algorithms\n",
    "* ..."
   ]
  },
  {
   "cell_type": "markdown",
   "id": "f7239327",
   "metadata": {
    "slideshow": {
     "slide_type": "slide"
    }
   },
   "source": [
    "## What does Big Data mean to Data Roles?"
   ]
  },
  {
   "cell_type": "markdown",
   "id": "8152b5b6",
   "metadata": {
    "slideshow": {
     "slide_type": "fragment"
    }
   },
   "source": [
    "#### What is Big Data for an Analyst and Scientist?"
   ]
  },
  {
   "cell_type": "markdown",
   "id": "36ca60ae",
   "metadata": {
    "slideshow": {
     "slide_type": "fragment"
    }
   },
   "source": [
    "'Big Data Analysis' connotes prediction, explanation, non-traditional data models: graphs, documents, ... "
   ]
  },
  {
   "cell_type": "markdown",
   "id": "148a8078",
   "metadata": {
    "slideshow": {
     "slide_type": "fragment"
    }
   },
   "source": [
    "#### What is Big Data for an Engineer?"
   ]
  },
  {
   "cell_type": "markdown",
   "id": "8157a57b",
   "metadata": {
    "slideshow": {
     "slide_type": "fragment"
    }
   },
   "source": [
    "Installing, Peformance, tools, tradeoffs local single-machine, data centres, CAP theorem, configure"
   ]
  },
  {
   "cell_type": "markdown",
   "id": "84ff4520",
   "metadata": {
    "slideshow": {
     "slide_type": "slide"
    }
   },
   "source": [
    "## Why now?\n",
    "* traditional data needs\n",
    "    * retail\n",
    "    * transactions\n",
    "    * data essential to online needs\n",
    "\n",
    "* origins of big data\n",
    "    * user behaviour\n",
    "    * internet\n",
    "    * public agencies\n",
    "    * sensor data\n",
    "    * images, audio, text\n",
    "        * OCR, ...\n",
    "\n",
    "* hardware to easily stored\n",
    "    * HDDs, SSDs\n",
    "\n",
    "* networks to easily transfer\n",
    "    * 1Gb/s to 100Gb/s"
   ]
  },
  {
   "cell_type": "markdown",
   "id": "8c2f2ac7",
   "metadata": {
    "slideshow": {
     "slide_type": "slide"
    }
   },
   "source": [
    "## Why is Big Data important?\n",
    "\n",
    "* Effective data insight and decision-making requires\n",
    "    * high quality data\n",
    "    * large amounts of data\n",
    "    * live and updated data\n",
    "* Digital transformation or pivots require data\n",
    "    * must begin by instituing big data systems"
   ]
  },
  {
   "cell_type": "markdown",
   "id": "54675cfc",
   "metadata": {
    "slideshow": {
     "slide_type": "slide"
    }
   },
   "source": [
    "## WB. Who cares about Big Data?\n",
    "* executives, analysts,  engineers"
   ]
  },
  {
   "cell_type": "markdown",
   "id": "b7f7861c",
   "metadata": {
    "slideshow": {
     "slide_type": "slide"
    }
   },
   "source": [
    "## What is Big Data?\n",
    "\n",
    "* Big Data is a term without a definition. \n",
    "* It is a term set against something else. \n",
    "* The other: traditional data systems. \n",
    "\n",
    "> Big data is a field that treats ways to analyze, systematically extract information from, or otherwise deal with data sets that are too large or complex to be dealt with by **traditional data-processing application software**. \n",
    "\n",
    "\n",
    "> Big data challenges include capturing data, data storage, data analysis, search, sharing, transfer, visualization, querying, updating, information privacy.\n",
    "\n",
    "\n",
    "- wikipedia, Big Data"
   ]
  },
  {
   "cell_type": "markdown",
   "id": "deb75758",
   "metadata": {
    "slideshow": {
     "slide_type": "slide"
    }
   },
   "source": [
    "## What does a modern data system need?\n",
    "* data lake\n",
    "    * raw unstructured data\n",
    "    * images, archives, ...\n",
    "* data warehouse\n",
    "    * data structured for analysis\n",
    "* data applications\n",
    "    * customer-facing software\n",
    "    * internal analytical software\n",
    "* data engineering\n",
    "    * systems to pipeline and ETL data\n",
    "* data science\n",
    "    * systems of data insight and analysis"
   ]
  },
  {
   "cell_type": "markdown",
   "id": "f48ecdd4",
   "metadata": {
    "slideshow": {
     "slide_type": "slide"
    }
   },
   "source": [
    "## How do big data systems work together?\n",
    "* events capture maximal analytical info\n",
    "* data duplicated\n",
    "    * polyglot persistance\n",
    "    * including, esp. traditional systems\n",
    "* realtime and batch analysis \n",
    "* events are achived on distributed file systems\n",
    "    * old event streams can be processed whenever\n",
    "    * \"as-if live\""
   ]
  },
  {
   "cell_type": "markdown",
   "id": "c3cae1f6-2f80-46cb-8cc3-722f6f3d9cfc",
   "metadata": {
    "slideshow": {
     "slide_type": "slide"
    }
   },
   "source": [
    "## What new challenges brought about this field?"
   ]
  },
  {
   "cell_type": "markdown",
   "id": "7d6abd4b-1f57-4f5a-afb2-1a888c756fcf",
   "metadata": {
    "slideshow": {
     "slide_type": "fragment"
    }
   },
   "source": [
    "* real-time analysis\n",
    "* complex data\n",
    "* "
   ]
  },
  {
   "cell_type": "markdown",
   "id": "2f58225e",
   "metadata": {
    "slideshow": {
     "slide_type": "slide"
    }
   },
   "source": [
    "## What situations require real-time analysis?\n",
    "\n",
    "* responsive interaction with customers\n",
    "* IOT devices working with sensor data\n",
    "* ... "
   ]
  },
  {
   "cell_type": "markdown",
   "id": "d49d97ab",
   "metadata": {
    "slideshow": {
     "slide_type": "slide"
    }
   },
   "source": [
    "## E-commerce Example\n",
    "* imagine a web store (eg., amazon)\n",
    "* the website wishes to monitor customer behaviour (eg., adding items to cart, leaving the website without purchasing, etc.)\n",
    "    * monitor these REAL TIME\n",
    "* respond to the \"customer behaviour signals\"\n",
    "    * with some intelligent/adaptive response\n",
    "    * offering discounts, alterting user, drawing user attention, ... \n",
    "    "
   ]
  },
  {
   "cell_type": "markdown",
   "id": "b6d87189-a8da-4cf6-9a1e-88a3cfc260ba",
   "metadata": {
    "slideshow": {
     "slide_type": "slide"
    }
   },
   "source": [
    "    \n",
    "### The Challenges\n",
    "* each customer generates a significant amount of data\n",
    "    * eg., mouse behaviour, click events, leaving & joining... \n",
    "* thousands of customers using the web store *at the same time*\n",
    "* analysis has to be fast, and responsive *in real time*\n",
    "    * vs., a \"traditional problem\" which can be left to batch / over-night processing\n",
    "    \n",
    "    "
   ]
  },
  {
   "cell_type": "markdown",
   "id": "d04af853",
   "metadata": {
    "slideshow": {
     "slide_type": "slide"
    }
   },
   "source": [
    "## What types of data are more complex than \"traditional\" rows?\n",
    "* increaed data complexity\n",
    "* images\n",
    "* text\n",
    "    * speech\n",
    "* audio"
   ]
  },
  {
   "cell_type": "markdown",
   "id": "31a51f58",
   "metadata": {
    "slideshow": {
     "slide_type": "slide"
    }
   },
   "source": [
    "## Satellite Image Analysis for Government & Charity Resource Tracking\n",
    "* Suppose we distribute resources via trucks/cars/etc. in a developing nation\n",
    "    * can we track the efficient/safe/reliable distribution of these?\n",
    "    * also, eg., george cloony: satellite image analysis for early-warning of conflicts\n",
    "    "
   ]
  },
  {
   "cell_type": "markdown",
   "id": "f0326397-516a-491a-89f3-4e07a124cf22",
   "metadata": {
    "slideshow": {
     "slide_type": "slide"
    }
   },
   "source": [
    "### Challenges\n",
    "* a single satellite image is GBs of data\n",
    "* many images are needed to reconstruct a country/road-system\n",
    "    * > 10 TB of data *per view*\n",
    "* processing requires looking at a \"view of the country\" each day/week/etc. "
   ]
  },
  {
   "cell_type": "markdown",
   "id": "4245082d-200c-428e-95f0-490c2b07ec34",
   "metadata": {
    "slideshow": {
     "slide_type": "slide"
    }
   },
   "source": [
    "## What are these non-traditional data models?"
   ]
  },
  {
   "cell_type": "markdown",
   "id": "c6568e39-94cb-4f2c-a200-ae908cba92dc",
   "metadata": {
    "slideshow": {
     "slide_type": "fragment"
    }
   },
   "source": [
    "The traditional data model is *the table*: row, columns,..\n",
    "\n",
    "Non-Traditional:\n",
    "\n",
    "* key-value pairs\n",
    "    * loose structure\n",
    "* documents\n",
    "    * heirachy\n",
    "* graphs\n",
    "    * order\n",
    "* column stores\n",
    "    * 1000s col\n",
    "* schemaless\n",
    "    * unstructuerd data\n",
    "* exotic:\n",
    "    * time series dbs\n",
    "    * matrices, linear algebra, \n",
    "\n",
    "Often with big data problems, datasets will be stored in a non-tabular form -- even if, by the end, we have a table. "
   ]
  },
  {
   "cell_type": "markdown",
   "id": "7236dd8f-2c14-4fc6-b9e8-a1706e656182",
   "metadata": {
    "slideshow": {
     "slide_type": "slide"
    }
   },
   "source": [
    "## What is NoSQL?"
   ]
  },
  {
   "cell_type": "markdown",
   "id": "ff3e076d-abc5-45f3-9c8a-33af91e30601",
   "metadata": {
    "slideshow": {
     "slide_type": "fragment"
    }
   },
   "source": [
    "Originally, \"not sql\",  now, \"not only sql\".\n",
    "\n",
    "Data systems, and data model (ie., structures), which are non-tabular and are not \"natively\" SQL-based. "
   ]
  },
  {
   "cell_type": "markdown",
   "id": "78ebe12c-29a7-4314-b938-2045ac6c47d7",
   "metadata": {
    "slideshow": {
     "slide_type": "slide"
    }
   },
   "source": [
    "## How do I understand data models & queries?"
   ]
  },
  {
   "cell_type": "markdown",
   "id": "0420f57d-f7f7-49ae-a88d-fdd755681fe2",
   "metadata": {
    "slideshow": {
     "slide_type": "fragment"
    }
   },
   "source": [
    "The data model describes how the data is structured. The query brings together datasets, reshapes and summaries; ie., the query structures and processes. \n",
    "\n",
    "\n",
    "There's a tradeoff: you can either structure data *specific* to a need, and make the query simpler & faster; or make the structure general, querying take longer. \n",
    "\n",
    "Relational databases propose a universal data structure (ie., a table); but this *can* have negative performance implications if you're problem requires: \n",
    "* order, \n",
    "* sparcity, \n",
    "* heirachy, \n",
    "* extensive re-structuring. "
   ]
  },
  {
   "cell_type": "markdown",
   "id": "5da21a29-8d9e-4ff7-9354-086c08cc249d",
   "metadata": {
    "slideshow": {
     "slide_type": "slide"
    }
   },
   "source": [
    "## What's a table?\n",
    "* { (id, age, temp), ... }\n",
    "* { (1, 20, 19), (2, 20, 30), ...}\n",
    "* table = set of rows\n",
    "* row = tuple of values\n",
    "\n",
    "## What are Key-Value pairs?\n",
    "* a single tagged value\n",
    "    * {\"id\": 1}\n",
    "* datasets are bundles a single piece of data with a label\n",
    "    * bag of \n",
    "        * me:   {\"id\": 1}, {\"age\": 20}, {\"temp\": 19}\n",
    "        * you:  {\"id\": 2}, {\"age\": 20}, {\"temp\": 30}\n",
    "\n",
    "## What are Documents?\n",
    "* documents give you heirachy\n",
    "* using key-values in a more structured way\n",
    "* collection of key-value pairs\n",
    "    * where each *value* can itself be such a collection\n",
    "* this enables modelling *heirachical* data\n",
    "    * vs., tabular -- *querying* creates heiarchy\n",
    "    * vs., tabular -- here, we store in a heiarchy\n",
    "    \n",
    "```\n",
    "credit_file = {\n",
    "    \"name\" : \"Michael\",\n",
    "    \"address\": [(\"London\", \"UK\"), ...],\n",
    "    \"loan\" : {\n",
    "        \"amount\": 1000,\n",
    "        \"date\": 1/1/1900\n",
    "    }\n",
    "}\n",
    "```\n",
    "\n",
    "\n",
    "## What are Graphs?\n",
    "* graphs give you ordering between datasets (\"rows\")\n",
    "* data is stored in an order\n",
    "    * eg., consider below, storing\n",
    "    * eg., $\\{(Alice, (Michael, Bob)),  (Michael, ()), (Bob, (Alice)), (Eve, (Bob))\\}$\n",
    "        * ie., $\\{(Node, Neighbors)\\}$\n",
    "* tables do not order data\n",
    "    * querying has to impose order\n",
    "    * therefore querying is more efficient if data is stored in an order\n",
    "    \n",
    "```\n",
    "Michael -LIKES-> Alice <-LIKES-> Bob -LIKES-> Eve\n",
    "```\n",
    "\n",
    "* who like Alice?\n",
    "    * {Bob, Eve}\n",
    "\n",
    "## What's a Column-Store?\n",
    "* a table stored in column-form\n",
    "\n",
    "* compare with: { (id, age, temp), ... }\n",
    "* { (1,2), (20, 20), (19, 30), ...}\n",
    "\n",
    "* table = set of columns\n",
    "* querying selects a *subset of columns*\n",
    "    * so choosing, say, 20 / 2000 columns is *efficient* \n",
    "* eg., consider an image: that could be a 1million-col row\n"
   ]
  },
  {
   "cell_type": "markdown",
   "id": "e9fcd9d4-d76d-4193-ae1e-61410f111a48",
   "metadata": {
    "slideshow": {
     "slide_type": "slide"
    }
   },
   "source": [
    "## What's a schemaless db / data store?"
   ]
  },
  {
   "cell_type": "markdown",
   "id": "c8297544-798a-4f20-841c-09336562ac4f",
   "metadata": {
    "slideshow": {
     "slide_type": "fragment"
    }
   },
   "source": [
    "Consider images: it is not efficient to store, as a row, a 1mil-col image. \n",
    "\n",
    "Rather, leave it on the disk as a binary image file *and while querying* convert to a tabular (ie., a matrix) form. \n",
    "\n",
    "\n",
    "This suggest a need for a storage system which imposes no consistent schema across datasets (ie., files); and leaves the query to do *all* the processing, including even imposing some basic structure. \n",
    "\n",
    "This is just a file system!\n",
    "\n",
    "A schemaless data store is then *just a file system*... a big data version will provide a file system across 100s+ machines. "
   ]
  },
  {
   "cell_type": "markdown",
   "id": "6463b504-a235-456b-bd6c-edbdd5bd244e",
   "metadata": {
    "slideshow": {
     "slide_type": "slide"
    }
   },
   "source": [
    "## What are the important examples of Big Data tools & techniques?"
   ]
  },
  {
   "cell_type": "markdown",
   "id": "1356bde0-d0f8-414e-a040-9fa0489f513d",
   "metadata": {
    "slideshow": {
     "slide_type": "fragment"
    }
   },
   "source": [
    "* schemaless (\"object store\")\n",
    "    * hadoop (on-premise)\n",
    "    * S3 amazon \n",
    "    * Microsoft Object-Store\n",
    "    * Google Cloud Storage\n",
    "* graph\n",
    "    * neo4j\n",
    "* key-value\n",
    "    * redis\n",
    "* document\n",
    "    * mongo\n",
    "    * ...\n",
    "* columnar\n",
    "    * cassandra\n",
    "    * hbase"
   ]
  },
  {
   "cell_type": "markdown",
   "id": "2d20dcd9-443e-4971-920e-e862ae5e8562",
   "metadata": {
    "slideshow": {
     "slide_type": "slide"
    }
   },
   "source": [
    "## What is the CAP theorem?\n",
    "Consistency\n",
    "Availability\n",
    "Partition Tolerance\n",
    "\n",
    "## How do I use the CAP theorem to decide between databases?\n",
    "CAP provides \"some concerns\" -- it isn't really the basis for making a decision; just questions to ask.\n",
    "\n",
    "How consistent is the data when read? How does the system make itself available? How reilliant is it to failure?"
   ]
  },
  {
   "cell_type": "markdown",
   "id": "66b1fca8-583b-4be6-bf55-c608b21c58c2",
   "metadata": {
    "slideshow": {
     "slide_type": "slide"
    }
   },
   "source": [
    "## How do I manage data velocity?"
   ]
  },
  {
   "cell_type": "markdown",
   "id": "11e454ad-4bf1-49e7-86d4-66d20e97b477",
   "metadata": {
    "slideshow": {
     "slide_type": "fragment"
    }
   },
   "source": [
    "Event systems & streaming. "
   ]
  },
  {
   "cell_type": "markdown",
   "id": "9acd2086-e19f-4e8d-84b2-c06688512350",
   "metadata": {
    "slideshow": {
     "slide_type": "slide"
    }
   },
   "source": [
    "## How do I design applications?\n",
    "\n",
    "There is a view which says start your design *tabular*, regardless of how it will end up. \n",
    "\n",
    "Even with graphs, a table could be (node, node, relationship). \n",
    "\n",
    "Tables are excellent design tools, and really clarify data structure & requirments. \n",
    "\n",
    "Once this specification is established, consider the queires, and then how non-relational dbs will help. "
   ]
  },
  {
   "cell_type": "markdown",
   "id": "f80709ad-6bee-4141-86fe-910705dcb936",
   "metadata": {
    "slideshow": {
     "slide_type": "slide"
    }
   },
   "source": [
    "## Where would you store binary data (eg., zip)?"
   ]
  },
  {
   "cell_type": "markdown",
   "id": "b209b852-d992-4d81-a4d2-b2e02b7a97a7",
   "metadata": {
    "slideshow": {
     "slide_type": "fragment"
    }
   },
   "source": [
    "A file system. \n",
    "\n",
    "eg., Hadoop\n",
    "\n",
    "* `hdfs -ls /path/to/my/files`\n",
    "* `ls /path/to/my/files`\n",
    "\n",
    "eg., S3 on Amazon\n",
    "\n",
    "UPLOAD http://myfilesystem.amazon.com/path/to/your/file/data.zip\n",
    "DOWNLOAD \n",
    "MOVE\n",
    "COPY\n",
    "RENAME\n",
    "VERSION"
   ]
  },
  {
   "cell_type": "markdown",
   "id": "b29ae577-f6b2-4439-8e2e-e54e01912b85",
   "metadata": {
    "slideshow": {
     "slide_type": "fragment"
    }
   },
   "source": [
    "### How difficult is it to implement a hadoop cluster?\n",
    "\n",
    "Very very difficult. Requires specialist training. "
   ]
  },
  {
   "cell_type": "markdown",
   "id": "2b491aa3-da75-4dd5-80e8-59ecb87a60e4",
   "metadata": {
    "slideshow": {
     "slide_type": "slide"
    }
   },
   "source": [
    "## What is the CAP theorem?\n",
    "Consistency\n",
    "Availability\n",
    "Partition Tolerance\n",
    "\n",
    "## How do I use the CAP theorem to decide between databases?\n",
    "CAP provides \"some concerns\" -- it isn't really the basis for making a decision; just questions to ask.\n",
    "\n",
    "How consistent is the data when read? How does the system make itself available? How reilliant is it to failure?"
   ]
  },
  {
   "cell_type": "markdown",
   "id": "3dcb1055-b840-4743-86e7-90593b9fdf2d",
   "metadata": {
    "slideshow": {
     "slide_type": "slide"
    }
   },
   "source": [
    "## How do I manage data velocity?"
   ]
  },
  {
   "cell_type": "markdown",
   "id": "777147ad-b7f6-4f18-8139-38418daacde1",
   "metadata": {
    "slideshow": {
     "slide_type": "fragment"
    }
   },
   "source": [
    "Event systems & streaming. "
   ]
  },
  {
   "cell_type": "markdown",
   "id": "b0b1a7a9-c75a-4ae3-8241-e9cd95fac138",
   "metadata": {
    "slideshow": {
     "slide_type": "slide"
    }
   },
   "source": [
    "## How do I design applications?\n",
    "\n",
    "There is a view which says start your design *tabular*, regardless of how it will end up. \n",
    "\n",
    "Even with graphs, a table could be (node, node, relationship). \n",
    "\n",
    "Tables are excellent design tools, and really clarify data structure & requirments. \n",
    "\n",
    "Once this specification is established, consider the queires, and then how non-relational dbs will help. "
   ]
  },
  {
   "cell_type": "markdown",
   "id": "34f4dff6-d18f-4c35-a6d0-f53ff2d164d2",
   "metadata": {
    "slideshow": {
     "slide_type": "slide"
    }
   },
   "source": [
    "## Where would you store binary data (eg., zip)?"
   ]
  },
  {
   "cell_type": "markdown",
   "id": "92d7dc98-656a-4652-8755-377cabaa8c69",
   "metadata": {
    "slideshow": {
     "slide_type": "fragment"
    }
   },
   "source": [
    "A file system. \n",
    "\n",
    "eg., Hadoop\n",
    "\n",
    "* `hdfs -ls /path/to/my/files`\n",
    "* `ls /path/to/my/files`\n",
    "\n",
    "eg., S3 on Amazon\n",
    "\n",
    "UPLOAD http://myfilesystem.amazon.com/path/to/your/file/data.zip\n",
    "DOWNLOAD \n",
    "MOVE\n",
    "COPY\n",
    "RENAME\n",
    "VERSION"
   ]
  },
  {
   "cell_type": "markdown",
   "id": "a2d70a70-754b-4342-8ae3-ab77f8a9ff7d",
   "metadata": {
    "slideshow": {
     "slide_type": "fragment"
    }
   },
   "source": [
    "### How difficult is it to implement a hadoop cluster?\n",
    "\n",
    "Very very difficult. Requires specialist training. "
   ]
  },
  {
   "cell_type": "markdown",
   "id": "3d8b0265-18a9-413f-863b-512d533d2fdf",
   "metadata": {
    "slideshow": {
     "slide_type": "slide"
    }
   },
   "source": [
    "## Summary: Trade-Offs"
   ]
  },
  {
   "cell_type": "markdown",
   "id": "a7fd771a-b95f-4fbc-9841-680b571f8f8a",
   "metadata": {
    "slideshow": {
     "slide_type": "fragment"
    }
   },
   "source": [
    "* Relational Model\n",
    "    * (more or less) the most general useful data model\n",
    "    * store data in an abitary order\n",
    "    * store rows of values\n",
    "    \n",
    "* NoSQL (ie., Non-Relational) all *add more restrictions*\n",
    "    * Graph = Ordered \n",
    "    * Document = \"rows in rows\"\n",
    "    * K-V = string, two-column\n",
    "    * Columnar = columns of values \n",
    "        * most queries arent for columns\n",
    "        \n",
    "        \n",
    "* Benefits of restrictions\n",
    "    * Graph = query highly connected data \"in reasonable time\"\n",
    "    * Documents = query hierachical \n",
    "    * KV = extremely fast for simple data\n",
    "    * Columnar = fast for large columns\n",
    "* Limitations\n",
    "    * Graph = standard (retail, transactional) queries hard to optimise\n",
    "        * graph dbs cannot optimize because *order* prevents them\n",
    "    * Document = very hard to join\n",
    "        * document dbs expensive to \"reach across\" documents\n",
    "        * limited ability to restructure docs to make faster\n",
    "    * KV = few columns\n",
    "        * very limited data model (k:v)\n",
    "        * very powerful if you can get away with it\n",
    "    * Columnar = row-based queries less performant than relational\n",
    "        "
   ]
  },
  {
   "cell_type": "markdown",
   "id": "067edb03-8a82-490a-abff-afa5f63050da",
   "metadata": {
    "slideshow": {
     "slide_type": "slide"
    }
   },
   "source": [
    "## Reflection: When is Big Data the right choice?"
   ]
  },
  {
   "cell_type": "markdown",
   "id": "6af1b4c5-c226-46b9-bb82-bbc7909a568f",
   "metadata": {
    "slideshow": {
     "slide_type": "slide"
    }
   },
   "source": [
    "* prototype:\n",
    "    * simplest possible linux/unix tools \n",
    "        * eg., 1,000,000 text files\n",
    "        * does this need more than `grep` ?\n",
    "    * <font color=green>**relational database**</font>\n",
    "        * almost always the right answer\n",
    "    * consider: key-value database\n",
    "    * move to:\n",
    "        * document\n",
    "        * graph\n",
    "        * distributed file system\n",
    "* why are relational databases almost always right?\n",
    "    * almost all orgs (>> 95%):\n",
    "        * process transactional data\n",
    "        * millions to billions of rows\n",
    "        * easily partitioned into small sets of columns (eg., <=20)\n",
    "    * excellent tools (sql, etc.)\n",
    "        * very well understood\n",
    "        * lots of talent/people\n",
    "* why are big data systems a big problem?\n",
    "    * poorly understood\n",
    "        * even theoretically\n",
    "        * distributed systems fail in wierd ways\n",
    "    * less developed tooling\n",
    "    * less talent\n",
    "        * almost always harder to program\n",
    "        * analysts (may) require becoming software devs!\n",
    "* a big data problem is a bad problem!\n",
    "    * avoid if possible!"
   ]
  },
  {
   "cell_type": "markdown",
   "id": "23f647ce-30c3-4c5e-b905-2f33cad1a454",
   "metadata": {
    "slideshow": {
     "slide_type": "skip"
    }
   },
   "source": [
    "---"
   ]
  },
  {
   "cell_type": "markdown",
   "id": "d9c23b24",
   "metadata": {
    "slideshow": {
     "slide_type": "slide"
    }
   },
   "source": [
    "# <center> END </center>"
   ]
  }
 ],
 "metadata": {
  "celltoolbar": "Slideshow",
  "kernelspec": {
   "display_name": "Python 3.9",
   "language": "python",
   "name": "python3"
  },
  "language_info": {
   "codemirror_mode": {
    "name": "ipython",
    "version": 3
   },
   "file_extension": ".py",
   "mimetype": "text/x-python",
   "name": "python",
   "nbconvert_exporter": "python",
   "pygments_lexer": "ipython3",
   "version": "3.9.6"
  }
 },
 "nbformat": 4,
 "nbformat_minor": 5
}
