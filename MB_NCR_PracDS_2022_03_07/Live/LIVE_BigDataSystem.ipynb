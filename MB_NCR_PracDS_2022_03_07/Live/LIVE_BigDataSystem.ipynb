{
 "cells": [
  {
   "cell_type": "markdown",
   "id": "e4631253",
   "metadata": {},
   "source": [
    "# Review: Big Data Systems"
   ]
  },
  {
   "cell_type": "markdown",
   "id": "4f925195",
   "metadata": {},
   "source": [
    "### Traditional"
   ]
  },
  {
   "cell_type": "markdown",
   "id": "439e3037",
   "metadata": {},
   "source": [
    "* relation = specific kind of table = $\\{ (col_1, col_2, \\dots), \\dots \\}$\n",
    "    * `{ (1, \"Michael\", \"UK\"), (2, \"Alice\", \"FR\") ...}`\n",
    "* relational database management system\n",
    "    * primary property: consistency \n",
    "        * strongly prefer to BLOCK/BREAK the system than to have\n",
    "            * out-of-order, invalid, etc. data"
   ]
  },
  {
   "cell_type": "markdown",
   "id": "901b3fd8",
   "metadata": {},
   "source": [
    "### Big Data\n",
    "\n",
    "* when those two properties fail\n",
    "    * relational\n",
    "    * consistent"
   ]
  },
  {
   "cell_type": "markdown",
   "id": "6095cf31",
   "metadata": {},
   "source": [
    "* non-relational = nosql\n",
    "    * graph \n",
    "    * document\n",
    "    * key-value\n",
    "    * columnar (dataframe) = tabular\n",
    "        * non-relational table = `{ (1, 2), (\"Michael\", \"Alice\"), (\"UK\", \"FR\"), ...}`\n",
    "    * distributed file system\n",
    "    \n",
    "* consistency = eventual-consistency \n",
    "    * distributed file system\n",
    "        * order of loading files (etc.) doesnt matter\n",
    "    * streaming = processing one-row/time fast\n",
    "        * don't care about history "
   ]
  },
  {
   "cell_type": "markdown",
   "id": "377d48ac",
   "metadata": {},
   "source": [
    "## Non-Relational"
   ]
  },
  {
   "cell_type": "markdown",
   "id": "23a121f8",
   "metadata": {},
   "source": [
    "* graph \n",
    "    * dictionary: `{\"Michael\": [(from, to, weight), (from, to, weight), ...]}`\n",
    "        * one operation to find \"Michael\"'s friends\n",
    "        * relational tables require looping over rows\n",
    "    * edge list: `[(col1, col2, col3), (col1, col2,col3), ...]` \n",
    "        * from, to, weight (aka. relationship information)\n",
    "        "
   ]
  },
  {
   "cell_type": "markdown",
   "id": "7f68bfdf",
   "metadata": {},
   "source": [
    "* document \n",
    "    * user + profile + city + ratings\n",
    "        * relatively expensive to JOIN tables together\n"
   ]
  },
  {
   "cell_type": "code",
   "execution_count": 5,
   "id": "00584a66",
   "metadata": {},
   "outputs": [],
   "source": [
    "user = {\n",
    "    \"name\": \"Micahel\",\n",
    "    \n",
    "    # JOIN\n",
    "    \"profile\": {\n",
    "        \"city\": \"London\"\n",
    "    },\n",
    "    \n",
    "    # JOIN\n",
    "    \"city\": {\n",
    "        \"population\": 10_000_000\n",
    "    },\n",
    "    \n",
    "    # JOIN\n",
    "    \"ratings\": [\n",
    "        {\"film\": \"One\", \"rating\": 9}, # ...\n",
    "    ]\n",
    "}"
   ]
  },
  {
   "cell_type": "code",
   "execution_count": 9,
   "id": "0dd86c19",
   "metadata": {},
   "outputs": [
    {
     "data": {
      "text/plain": [
       "'One'"
      ]
     },
     "execution_count": 9,
     "metadata": {},
     "output_type": "execute_result"
    }
   ],
   "source": [
    "user[\"ratings\"][0][\"film\"] # three operations, no loop"
   ]
  },
  {
   "cell_type": "markdown",
   "id": "d8650a5a",
   "metadata": {},
   "source": [
    "* most real-world systems dont want \"all the information together\"\n",
    "    * they want to chop-and-change pieces per-query\n",
    "    * document dbs are really bad at doing (slow, etc.)"
   ]
  },
  {
   "cell_type": "markdown",
   "id": "3b6119e1",
   "metadata": {},
   "source": [
    "## Key-Value: Flat Dictionary = Fast Search"
   ]
  },
  {
   "cell_type": "markdown",
   "id": "ccac7cc2",
   "metadata": {},
   "source": [
    "* fast querying of simple data\n",
    "    * cache results"
   ]
  },
  {
   "cell_type": "code",
   "execution_count": 15,
   "id": "c8a49f5d",
   "metadata": {},
   "outputs": [],
   "source": [
    "info = {\n",
    "    # key               # value\n",
    "    \"/users/michael/1\": \"WHISKEY\",\n",
    "    \"/users/alice/1\": \"WINE\",\n",
    "    \"/products/whiskey/1\": \"BOURBON\",\n",
    "    \"SELECT * FROM blah\": \"...\"\n",
    "}"
   ]
  },
  {
   "cell_type": "code",
   "execution_count": 17,
   "id": "a5a85f69",
   "metadata": {},
   "outputs": [
    {
     "data": {
      "text/plain": [
       "'WHISKEY'"
      ]
     },
     "execution_count": 17,
     "metadata": {},
     "output_type": "execute_result"
    }
   ],
   "source": [
    "info[\"/users/michael/1\"] # one operation"
   ]
  },
  {
   "cell_type": "markdown",
   "id": "6112a1c3",
   "metadata": {},
   "source": [
    "## Columnar = DataFrame\n",
    "\n",
    "* analytical use case (historical data vs. operational/live)\n",
    "* 100s columns\n",
    "* subsets of columns"
   ]
  },
  {
   "cell_type": "code",
   "execution_count": 18,
   "id": "847e2ea8",
   "metadata": {},
   "outputs": [],
   "source": [
    "import seaborn as sns"
   ]
  },
  {
   "cell_type": "code",
   "execution_count": 20,
   "id": "4789ab28",
   "metadata": {},
   "outputs": [],
   "source": [
    "columnar_table = sns.load_dataset('titanic')"
   ]
  },
  {
   "cell_type": "markdown",
   "id": "b3906217",
   "metadata": {},
   "source": [
    "* two whole columns split by one whole column\n",
    "    * no row-based filtering"
   ]
  },
  {
   "cell_type": "code",
   "execution_count": 24,
   "id": "837457b7",
   "metadata": {},
   "outputs": [
    {
     "data": {
      "text/html": [
       "<div>\n",
       "<style scoped>\n",
       "    .dataframe tbody tr th:only-of-type {\n",
       "        vertical-align: middle;\n",
       "    }\n",
       "\n",
       "    .dataframe tbody tr th {\n",
       "        vertical-align: top;\n",
       "    }\n",
       "\n",
       "    .dataframe thead th {\n",
       "        text-align: right;\n",
       "    }\n",
       "</style>\n",
       "<table border=\"1\" class=\"dataframe\">\n",
       "  <thead>\n",
       "    <tr style=\"text-align: right;\">\n",
       "      <th></th>\n",
       "      <th>age</th>\n",
       "      <th>fare</th>\n",
       "    </tr>\n",
       "    <tr>\n",
       "      <th>sex</th>\n",
       "      <th></th>\n",
       "      <th></th>\n",
       "    </tr>\n",
       "  </thead>\n",
       "  <tbody>\n",
       "    <tr>\n",
       "      <th>female</th>\n",
       "      <td>27.915709</td>\n",
       "      <td>44.479818</td>\n",
       "    </tr>\n",
       "    <tr>\n",
       "      <th>male</th>\n",
       "      <td>30.726645</td>\n",
       "      <td>25.523893</td>\n",
       "    </tr>\n",
       "  </tbody>\n",
       "</table>\n",
       "</div>"
      ],
      "text/plain": [
       "              age       fare\n",
       "sex                         \n",
       "female  27.915709  44.479818\n",
       "male    30.726645  25.523893"
      ]
     },
     "execution_count": 24,
     "metadata": {},
     "output_type": "execute_result"
    }
   ],
   "source": [
    "columnar_table[['age', 'fare']].groupby(columnar_table['sex']).mean()"
   ]
  },
  {
   "cell_type": "markdown",
   "id": "2dcdecd7",
   "metadata": {},
   "source": [
    "---"
   ]
  },
  {
   "cell_type": "markdown",
   "id": "18a0def2",
   "metadata": {},
   "source": [
    "## Streaming & Events"
   ]
  },
  {
   "cell_type": "markdown",
   "id": "8686d9bd",
   "metadata": {},
   "source": [
    "### Non-Relational Data Structure = Append-Only Log\n",
    "* extremely fast\n",
    "    * no checks for consistency \n",
    "    * no modifications (immutable)"
   ]
  },
  {
   "cell_type": "code",
   "execution_count": 26,
   "id": "675be57b",
   "metadata": {},
   "outputs": [],
   "source": [
    "log = []"
   ]
  },
  {
   "cell_type": "code",
   "execution_count": 31,
   "id": "e580cb26",
   "metadata": {},
   "outputs": [],
   "source": [
    "log.append({\"subject\": \"Michael\", \"verb\": \"DRINK\", \"object\": \"WHISKEY\", \"context\": \"1pm\"})"
   ]
  },
  {
   "cell_type": "code",
   "execution_count": 32,
   "id": "91971ed2",
   "metadata": {},
   "outputs": [
    {
     "data": {
      "text/plain": [
       "[{'subject': 'Michael',\n",
       "  'verb': 'DRINK',\n",
       "  'object': 'WHISKEY',\n",
       "  'context': '1pm'},\n",
       " {'subject': 'Michael',\n",
       "  'verb': 'DRINK',\n",
       "  'object': 'WHISKEY',\n",
       "  'context': '1pm'},\n",
       " {'subject': 'Michael',\n",
       "  'verb': 'DRINK',\n",
       "  'object': 'WHISKEY',\n",
       "  'context': '1pm'},\n",
       " {'subject': 'Michael',\n",
       "  'verb': 'DRINK',\n",
       "  'object': 'WHISKEY',\n",
       "  'context': '1pm'},\n",
       " {'subject': 'Michael',\n",
       "  'verb': 'DRINK',\n",
       "  'object': 'WHISKEY',\n",
       "  'context': '1pm'}]"
      ]
     },
     "execution_count": 32,
     "metadata": {},
     "output_type": "execute_result"
    }
   ],
   "source": [
    "log"
   ]
  },
  {
   "cell_type": "markdown",
   "id": "5c38cab5",
   "metadata": {},
   "source": [
    "### PROBLEM: Streaming (processing one/time)"
   ]
  },
  {
   "cell_type": "markdown",
   "id": "f690808d",
   "metadata": {},
   "source": [
    "* traditional data processing: just take a mean over all your rows!"
   ]
  },
  {
   "cell_type": "code",
   "execution_count": 34,
   "id": "711647bd",
   "metadata": {},
   "outputs": [],
   "source": [
    "tips = sns.load_dataset('tips')"
   ]
  },
  {
   "cell_type": "code",
   "execution_count": 36,
   "id": "3b49d814",
   "metadata": {
    "scrolled": true
   },
   "outputs": [
    {
     "data": {
      "text/plain": [
       "2.99827868852459"
      ]
     },
     "execution_count": 36,
     "metadata": {},
     "output_type": "execute_result"
    }
   ],
   "source": [
    "tips['tip'].mean()"
   ]
  },
  {
   "cell_type": "code",
   "execution_count": 57,
   "id": "3aae62c5",
   "metadata": {},
   "outputs": [],
   "source": [
    "tip_steam = tips.iterrows() # api.get_event_steam()"
   ]
  },
  {
   "cell_type": "code",
   "execution_count": 58,
   "id": "f4157ec1",
   "metadata": {},
   "outputs": [],
   "source": [
    "est_total = 0\n",
    "est_mean = []\n",
    "for row_id, row in tip_steam:\n",
    "    est_total += row['tip']\n",
    "    est_mean.append(est_total/(row_id+1))"
   ]
  },
  {
   "cell_type": "code",
   "execution_count": 70,
   "id": "1eb5365f",
   "metadata": {},
   "outputs": [
    {
     "name": "stderr",
     "output_type": "stream",
     "text": [
      "/opt/anaconda3/envs/py39/lib/python3.9/site-packages/seaborn/_decorators.py:36: FutureWarning: Pass the following variables as keyword args: x, y. From version 0.12, the only valid positional argument will be `data`, and passing other arguments without an explicit keyword will result in an error or misinterpretation.\n",
      "  warnings.warn(\n",
      "/opt/anaconda3/envs/py39/lib/python3.9/site-packages/seaborn/_decorators.py:36: FutureWarning: Pass the following variables as keyword args: x, y. From version 0.12, the only valid positional argument will be `data`, and passing other arguments without an explicit keyword will result in an error or misinterpretation.\n",
      "  warnings.warn(\n"
     ]
    },
    {
     "data": {
      "text/plain": [
       "<AxesSubplot:>"
      ]
     },
     "execution_count": 70,
     "metadata": {},
     "output_type": "execute_result"
    },
    {
     "data": {
      "image/png": "[encoded data removed]",
      "text/plain": [
       "<Figure size 432x288 with 1 Axes>"
      ]
     },
     "metadata": {
      "needs_background": "light"
     },
     "output_type": "display_data"
    }
   ],
   "source": [
    "%matplotlib inline\n",
    "\n",
    "sns.lineplot(range(1, 245), est_mean)\n",
    "sns.lineplot(range(1, 245), [2.99827] * 244, color=\"Red\")"
   ]
  },
  {
   "cell_type": "code",
   "execution_count": 48,
   "id": "351573a9",
   "metadata": {},
   "outputs": [
    {
     "data": {
      "text/plain": [
       "[]"
      ]
     },
     "execution_count": 48,
     "metadata": {},
     "output_type": "execute_result"
    }
   ],
   "source": [
    "list(tip_steam)"
   ]
  },
  {
   "cell_type": "code",
   "execution_count": null,
   "id": "6cc50184",
   "metadata": {},
   "outputs": [],
   "source": []
  }
 ],
 "metadata": {
  "kernelspec": {
   "display_name": "Python 3.9",
   "language": "python",
   "name": "python3"
  },
  "language_info": {
   "codemirror_mode": {
    "name": "ipython",
    "version": 3
   },
   "file_extension": ".py",
   "mimetype": "text/x-python",
   "name": "python",
   "nbconvert_exporter": "python",
   "pygments_lexer": "ipython3",
   "version": "3.9.6"
  }
 },
 "nbformat": 4,
 "nbformat_minor": 5
}
